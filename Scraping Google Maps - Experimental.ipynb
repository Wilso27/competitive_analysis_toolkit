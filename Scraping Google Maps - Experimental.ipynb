{
 "cells": [
  {
   "cell_type": "code",
   "execution_count": 2,
   "id": "initial_id",
   "metadata": {
    "collapsed": true
   },
   "outputs": [
    {
     "name": "stdout",
     "output_type": "stream",
     "text": [
      "Requirement already satisfied: pandas in c:\\users\\wilso\\appdata\\local\\programs\\python\\python312\\lib\\site-packages (2.2.2)\n",
      "Requirement already satisfied: numpy>=1.26.0 in c:\\users\\wilso\\appdata\\local\\programs\\python\\python312\\lib\\site-packages (from pandas) (1.26.3)\n",
      "Requirement already satisfied: python-dateutil>=2.8.2 in c:\\users\\wilso\\appdata\\roaming\\python\\python312\\site-packages (from pandas) (2.8.2)\n",
      "Requirement already satisfied: pytz>=2020.1 in c:\\users\\wilso\\appdata\\local\\programs\\python\\python312\\lib\\site-packages (from pandas) (2024.1)\n",
      "Requirement already satisfied: tzdata>=2022.7 in c:\\users\\wilso\\appdata\\local\\programs\\python\\python312\\lib\\site-packages (from pandas) (2023.4)\n",
      "Requirement already satisfied: six>=1.5 in c:\\users\\wilso\\appdata\\roaming\\python\\python312\\site-packages (from python-dateutil>=2.8.2->pandas) (1.16.0)\n",
      "Note: you may need to restart the kernel to use updated packages.\n",
      "Requirement already satisfied: selenium in c:\\users\\wilso\\appdata\\local\\programs\\python\\python312\\lib\\site-packages (4.20.0)\n",
      "Requirement already satisfied: urllib3<3,>=1.26 in c:\\users\\wilso\\appdata\\local\\programs\\python\\python312\\lib\\site-packages (from urllib3[socks]<3,>=1.26->selenium) (2.0.7)\n",
      "Requirement already satisfied: trio~=0.17 in c:\\users\\wilso\\appdata\\local\\programs\\python\\python312\\lib\\site-packages (from selenium) (0.25.0)\n",
      "Requirement already satisfied: trio-websocket~=0.9 in c:\\users\\wilso\\appdata\\local\\programs\\python\\python312\\lib\\site-packages (from selenium) (0.11.1)\n",
      "Requirement already satisfied: certifi>=2021.10.8 in c:\\users\\wilso\\appdata\\local\\programs\\python\\python312\\lib\\site-packages (from selenium) (2023.11.17)\n",
      "Requirement already satisfied: typing_extensions>=4.9.0 in c:\\users\\wilso\\appdata\\local\\programs\\python\\python312\\lib\\site-packages (from selenium) (4.9.0)\n",
      "Requirement already satisfied: attrs>=23.2.0 in c:\\users\\wilso\\appdata\\local\\programs\\python\\python312\\lib\\site-packages (from trio~=0.17->selenium) (23.2.0)\n",
      "Requirement already satisfied: sortedcontainers in c:\\users\\wilso\\appdata\\local\\programs\\python\\python312\\lib\\site-packages (from trio~=0.17->selenium) (2.4.0)\n",
      "Requirement already satisfied: idna in c:\\users\\wilso\\appdata\\local\\programs\\python\\python312\\lib\\site-packages (from trio~=0.17->selenium) (3.6)\n",
      "Requirement already satisfied: outcome in c:\\users\\wilso\\appdata\\local\\programs\\python\\python312\\lib\\site-packages (from trio~=0.17->selenium) (1.3.0.post0)\n",
      "Requirement already satisfied: sniffio>=1.3.0 in c:\\users\\wilso\\appdata\\local\\programs\\python\\python312\\lib\\site-packages (from trio~=0.17->selenium) (1.3.0)\n",
      "Requirement already satisfied: cffi>=1.14 in c:\\users\\wilso\\appdata\\local\\programs\\python\\python312\\lib\\site-packages (from trio~=0.17->selenium) (1.16.0)\n",
      "Requirement already satisfied: wsproto>=0.14 in c:\\users\\wilso\\appdata\\local\\programs\\python\\python312\\lib\\site-packages (from trio-websocket~=0.9->selenium) (1.2.0)\n",
      "Requirement already satisfied: pysocks!=1.5.7,<2.0,>=1.5.6 in c:\\users\\wilso\\appdata\\local\\programs\\python\\python312\\lib\\site-packages (from urllib3[socks]<3,>=1.26->selenium) (1.7.1)\n",
      "Requirement already satisfied: pycparser in c:\\users\\wilso\\appdata\\local\\programs\\python\\python312\\lib\\site-packages (from cffi>=1.14->trio~=0.17->selenium) (2.21)\n",
      "Requirement already satisfied: h11<1,>=0.9.0 in c:\\users\\wilso\\appdata\\local\\programs\\python\\python312\\lib\\site-packages (from wsproto>=0.14->trio-websocket~=0.9->selenium) (0.14.0)\n",
      "Note: you may need to restart the kernel to use updated packages.\n",
      "Requirement already satisfied: Pyarrow in c:\\users\\wilso\\appdata\\local\\programs\\python\\python312\\lib\\site-packages (16.0.0)\n",
      "Requirement already satisfied: numpy>=1.16.6 in c:\\users\\wilso\\appdata\\local\\programs\\python\\python312\\lib\\site-packages (from Pyarrow) (1.26.3)\n",
      "Note: you may need to restart the kernel to use updated packages.\n"
     ]
    }
   ],
   "source": [
    "%pip install pandas\n",
    "%pip install selenium\n",
    "%pip install Pyarrow"
   ]
  },
  {
   "cell_type": "code",
   "execution_count": 171,
   "id": "f8c6dfb79cac2600",
   "metadata": {
    "ExecuteTime": {
     "start_time": "2024-03-18T19:04:57.368567Z"
    },
    "collapsed": false,
    "is_executing": true
   },
   "outputs": [
    {
     "name": "stdout",
     "output_type": "stream",
     "text": [
      "Churros\n",
      "Los Angeles, CA\n",
      "Churros in Los Angeles, CA\n",
      "['Churros', 'Los Angeles, CA', 'Mr. Churro', '·$', '4.3', '493', 'E-12 Olvera St # C, Los Angeles, CA 90012, Estados Unidos', '', None, None]\n",
      "['Churros', 'Los Angeles, CA', 'Ridges Churro Bar', 'Tienda de postres', '2.8', '4', 'Los Angeles, CA 90014, Estados Unidos', None, '', 'http://instagram.com/ridgeschurrobar']\n",
      "['Churros', 'Los Angeles, CA', 'Churro Factory', 'Churrería', '5.0', '1', '5333 Zoo Dr, Los Angeles, CA 90027, Estados Unidos', None, None, None]\n",
      "['Churros', 'Los Angeles, CA', 'La Churreria', 'Tienda de postres', '3.7', '3', '532 S Olive St, Los Angeles, CA 90013, Estados Unidos', None, None, None]\n",
      "Error extracting place with url: https://www.google.com/maps/place/Churros+Calientes/data=!4m7!3m6!1s0x80c2bb6f92c3175d:0x735a857a04b3ab45!8m2!3d34.0453847!4d-118.4528003!16s%2Fg%2F1tdmvwy4!19sChIJXRfDkm-7woARRauzBHqFWnM?authuser=0&hl=es-419&rclk=1. Error: argument of type 'NoneType' is not iterable\n",
      "['Churros', 'Los Angeles, CA', 'Churros El Gorilla', 'Restaurante de postres', '5.0', '12', '5525 Sunset Blvd, Los Angeles, CA 90028, Estados Unidos', '\\ue0b0\\n+1 747-258-8650', None, None]\n",
      "Error extracting place with url: https://www.google.com/maps/place/Juanitos+churros/data=!4m7!3m6!1s0x80c2c71905108697:0x7db9b984196aed10!8m2!3d34.0395879!4d-118.2133021!16s%2Fg%2F11txfljlr3!19sChIJl4YQBRnHwoAREO1qGYS5uX0?authuser=0&hl=es-419&rclk=1. Error: list index out of range\n",
      "['Churros', 'Los Angeles, CA', 'Churros Estilo Guadalajara', 'Tienda de postres', '4.8', '10', '4025 S Central Ave, Los Angeles, CA 90011, Estados Unidos', '', None, None]\n",
      "['Churros', 'Los Angeles, CA', 'Churrito loco', '·$$', '4.6', '38', '5161 Pomona Blvd # 105, East Los Angeles, CA 90022, Estados Unidos', None, 'eatchurritoloco@gmail.com,605a7baede844d278b89dc95ae0a9123@sentry-next.wixpress.com,8eb368c655b84e029ed79ad7a5c1718e@sentry.wixpress.com', 'http://www.eatchurritoloco.com/']\n",
      "['Churros', 'Los Angeles, CA', 'Churros El Bochito', 'Restaurante', '4.2', '21', '1157 Cypress Ave, Los Angeles, CA 90065, Estados Unidos', '', None, None]\n",
      "['Churros', 'Los Angeles, CA', 'crepes n churros', 'Crepería', '3.5', '11', '2744 1st St, Los Angeles, CA 90033, Estados Unidos', '\\ue0b0\\n+1 323-338-1863', None, None]\n",
      "['Churros', 'Los Angeles, CA', 'Sr. Churro', 'Restaurante', '4.7', '21', '11019 S Alameda St, Los Angeles, CA 90059, Estados Unidos', '\\ue0b0\\n+1 323-629-1092', None, None]\n",
      "Error extracting place with url: https://www.google.com/maps/place/Chevitos+Churros+Y+Mas/data=!4m7!3m6!1s0x80c2c983e3f2eab5:0xf74f8263d3f7c6dc!8m2!3d33.9376444!4d-118.2913311!16s%2Fg%2F11rz3gvctt!19sChIJtery44PJwoAR3Mb302OCT_c?authuser=0&hl=es-419&rclk=1. Error: argument of type 'NoneType' is not iterable\n",
      "['Churros', 'Los Angeles, CA', 'Salinas Churros', 'Churrería', '3.7', '34', '918 S Lorena St, Los Angeles, CA 90023, Estados Unidos', None, '', 'https://instagram.com/salinaschurros?igshid=YmMyMTA2M2Y=']\n",
      "Error extracting place with url: https://www.google.com/maps/place/Churros/data=!4m7!3m6!1s0x80c2c781615eb3db:0x6e62e31cc43f1afc!8m2!3d34.0347386!4d-118.2572438!16s%2Fg%2F11sxvxc0ht!19sChIJ27NeYYHHwoAR_Bo_xBzjYm4?authuser=0&hl=es-419&rclk=1. Error: list index out of range\n",
      "['Churros', 'Los Angeles, CA', 'Churros carrusel', 'Tienda de postres', '4.5', '15', 'Churros carrusel, Los Angeles, CA 90003, Estados Unidos', None, None, None]\n",
      "Error extracting place with url: https://www.google.com/maps/place/Churro+Man/data=!4m7!3m6!1s0x80c2971cfc49f0a1:0x96aa7b3cb0ab3724!8m2!3d34.1713748!4d-118.4470678!16s%2Fg%2F11rn2bs9fm!19sChIJofBJ_ByXwoARJDersDx7qpY?authuser=0&hl=es-419&rclk=1. Error: list index out of range\n",
      "['Churros', 'Los Angeles, CA', 'Churros el torrrro', 'Tienda de postres', '4.5', '2', '1104 Hoover St, Los Angeles, CA 90006, Estados Unidos', '\\ue0b0\\n+1 213-531-6707', None, None]\n",
      "['Churros', 'Los Angeles, CA', 'Churros y platanos', 'Churrería', '5.0', '17', 'Los Angeles, CA 90034, Estados Unidos', None, None, None]\n",
      "['Churros', 'Los Angeles, CA', 'The Churros Bros', 'Churrería', '3.7', '3', '738 S Fetterly Ave, Los Angeles, CA 90022, Estados Unidos', None, None, None]\n",
      "['Churros', 'Los Angeles, CA', 'Churros Don Abel', '·$', '4.7', '625', '5458 Whittier Blvd, Los Angeles, CA 90022, Estados Unidos', '\\ue0b0\\n+1 562-612-5991', '', 'https://instagram.com/churrosdonabel?utm_source=ig_profile_share&igshid=178q1knhqf1px']\n",
      "Error extracting place with url: https://www.google.com/maps/place/Azucanela+Churros+%26+Coffee+-+Culver+City+%28Westfield+Mall%29/data=!4m7!3m6!1s0x80c2b1e58704f963:0xc80e4e7507b3172b!8m2!3d33.9854311!4d-118.3933176!16s%2Fg%2F11v6kdkjmw!19sChIJY_kEh-WxwoARKxezB3VODsg?authuser=0&hl=es-419&rclk=1. Error: list index out of range\n",
      "Error extracting place with url: https://www.google.com/maps/place/Churros/data=!4m7!3m6!1s0x80c2c781615eb3db:0x6e62e31cc43f1afc!8m2!3d34.0347386!4d-118.2572438!16s%2Fg%2F11sxvxc0ht!19sChIJ27NeYYHHwoAR_Bo_xBzjYm4?authuser=0&hl=es-419&rclk=1. Error: list index out of range\n",
      "Error extracting place with url: https://www.google.com/maps/place/Churro+Hub+Cafe%27/data=!4m7!3m6!1s0x80c291280204858f:0xf0921642200e43cd!8m2!3d34.2330871!4d-118.4393985!16s%2Fg%2F11hy9nqhhw!19sChIJj4UEAiiRwoARzUMOIEIWkvA?authuser=0&hl=es-419&rclk=1. Error: argument of type 'NoneType' is not iterable\n",
      "Error extracting place with url: https://www.google.com/maps/place/Horchateria+Rio+Luna.+Lobby+open+9am+everyday.+Drive+Thru+Open+7am+M-F+and+9am+Sat+%26Sun/data=!4m7!3m6!1s0x80c2cd2c0725ed07:0x3c506c820b5315f1!8m2!3d33.8883591!4d-118.1598748!16s%2Fg%2F11cn0k82fz!19sChIJB-0lByzNwoAR8RVTC4JsUDw?authuser=0&hl=es-419&rclk=1. Error: argument of type 'NoneType' is not iterable\n",
      "['Churros', 'Los Angeles, CA', 'Lucero Bakery', '·$', '4.4', '614', '6307 E Gage Ave, Commerce, CA 90040, Estados Unidos', '\\ue0b0\\n+1 323-560-8955', None, None]\n",
      "['Churros', 'Los Angeles, CA', 'The Churro Man', 'Mobile caterer', '5.0', '9', '2600 W Victory Blvd, Burbank, CA 91505, Estados Unidos', '\\ue0b0\\n+1 818-600-1163', 'info@elchurroman.com', 'http://www.elchurroman.com/']\n",
      "['Churros', 'Los Angeles, CA', \"It's Churro\", 'Churrería', '4.9', '37', '9301 Tampa Ave, Northridge, CA 91324, Estados Unidos', None, '', 'http://itschurro.com/']\n",
      "['Churros', 'Los Angeles, CA', 'The Churro Joint', 'Churrería', '4.7', '19', '905 S Prairie Ave Ste. D, Inglewood, CA 90301, Estados Unidos', '', None, None]\n",
      "['Churros', 'Los Angeles, CA', 'Papi Tacos & Churros', '·$', '4.6', '459', '1320 Vine St, Los Angeles, CA 90028, Estados Unidos', '\\ue0b0\\n+1 323-536-9800', '605a7baede844d278b89dc95ae0a9123@sentry-next.wixpress.com,88170cb0c9d64f94b5821ca7fd2d55a4@sentry-next.wixpress.com,8eb368c655b84e029ed79ad7a5c1718e@sentry.wixpress.com', 'https://www.papitacoschurros.com/']\n",
      "['Churros', 'Los Angeles, CA', 'Churros El Bom Bon', 'Churrería', '4.6', '15', '14104 S Vermont Ave, Gardena, CA 90247, Estados Unidos', '', None, None]\n",
      "['Churros', 'Los Angeles, CA', 'La Michoacána Prime', '·$', '4.6', '95', '4012 W Washington Blvd, Los Angeles, CA 90018, Estados Unidos', '\\ue0b0\\n+1 323-641-7830', 'your@email.com', 'http://menus.fyi/5109152']\n",
      "['Churros', 'Los Angeles, CA', 'La Flor De Yucatan Bakery', '·$$', '4.4', '524', '1800 Hoover St, Los Angeles, CA 90006, Estados Unidos', '\\ue0b0\\n+1 213-748-6090', 'info@laflordeyucatan.net', 'http://www.laflordeyucatan.net/']\n",
      "['Churros', 'Los Angeles, CA', 'CHURROSMX', 'Churrería', '5.0', '8', '1431 S Atlantic Blvd, East Los Angeles, Los Angeles, CA 90022, Estados Unidos', None, None, None]\n",
      "['Churros', 'Los Angeles, CA', 'Churros la Chatita', 'Heladería', '5.0', '1', '4567 Peck Rd, El Monte, CA 91732, Estados Unidos', '', None, None]\n",
      "['Churros', 'Los Angeles, CA', 'Churros Rellenos Ailyn', 'Chiringuito', '4.5', '60', 'next to Superior Market, 9801 Laurel Canyon Blvd, Pacoima, CA 91331, Estados Unidos', '\\ue0b0\\n+1 747-230-1525', '', 'https://instagram.com/churros_ailyn818?igshid=MzRlODBiNWFlZA==']\n",
      "['Churros', 'Los Angeles, CA', 'Churros La Española', 'Restaurante mexicano', '3.7', '6', '1000 E 61st St, Los Angeles, CA 90001, Estados Unidos', '\\ue0b0\\n+1 213-924-2649', None, None]\n",
      "['Churros', 'Los Angeles, CA', 'Gourmet Churro Factory', 'Churrería', '3.9', '7', '8039 Beach Blvd, Buena Park, CA 90620, Estados Unidos', None, '', 'https://www.knotts.com/play/drinks-dining/the-churro-factory']\n",
      "['Churros', 'Los Angeles, CA', 'Papi Tacos & Churros', '·$', '4.5', '392', '313 Wilshire Blvd, Santa Monica, CA 90401, Estados Unidos', '', '605a7baede844d278b89dc95ae0a9123@sentry-next.wixpress.com,88170cb0c9d64f94b5821ca7fd2d55a4@sentry-next.wixpress.com,8eb368c655b84e029ed79ad7a5c1718e@sentry.wixpress.com', 'http://papitacoschurros.com/']\n",
      "Error extracting place with url: https://www.google.com/maps/place/Pier+Bakery+%26+Churros/data=!4m7!3m6!1s0x80c2b4a7ab4a2c3b:0x548af96a49db420a!8m2!3d33.8389926!4d-118.3907061!16s%2Fg%2F1xb2dvbc!19sChIJOyxKq6e0woARCkLbSWr5ilQ?authuser=0&hl=es-419&rclk=1. Error: argument of type 'NoneType' is not iterable\n",
      "['Churros', 'Los Angeles, CA', 'Churros el morita', 'Restaurante mexicano', '5.0', '6', '15029 Crenshaw Blvd, Gardena, CA 90249, Estados Unidos', '\\ue0b0\\n+1 323-910-9193', None, None]\n",
      "['Churros', 'Los Angeles, CA', 'Dulce Canella', '·$', '4.5', '325', '15012 Pioneer Blvd, Norwalk, CA 90650, Estados Unidos', '\\ue0b0\\n+1 562-503-9441', 'e081c35a018348d18e09ed427bf39b65@o462166.ingest.sentry.io', 'http://www.dulcecanella.com/']\n",
      "['Churros', 'Los Angeles, CA', 'Órale A Mis Churros', 'Restaurante de postres', '5.0', '1', '8625 Woodman Ave, Arleta, CA 91331, Estados Unidos', '', None, None]\n",
      "['Churros', 'Los Angeles, CA', 'Churros Don Abel', 'Churrería', '4.2', '5', '1538 N Hacienda Blvd, La Puente, CA 91744, Estados Unidos', None, None, None]\n",
      "['Churros', 'Los Angeles, CA', 'Lucero Cafe', '·$$', '4.6', '160', '6200 E Gage Ave, Bell Gardens, CA 90201, Estados Unidos', None, '', 'https://voltd.top/lucero-cafe']\n",
      "Error extracting place with url: https://www.google.com/maps/place/Churro+Buzz/data=!4m7!3m6!1s0x80dd4b425d91fd31:0x70629fc62895f2fa!8m2!3d33.8296051!4d-118.3494137!16s%2Fg%2F11ghrj6pvb!19sChIJMf2RXUJL3YAR-vKVKMafYnA?authuser=0&hl=es-419&rclk=1. Error: argument of type 'NoneType' is not iterable\n",
      "Error extracting place with url: https://www.google.com/maps/place/Horchata+Coffee+Churros/data=!4m7!3m6!1s0x80c2ccd5e215a84d:0x8ccab814b2df05b5!8m2!3d33.8884267!4d-118.1597837!16s%2Fg%2F11mbpr09fx!19sChIJTagV4tXMwoARtQXfshS4yow?authuser=0&hl=es-419&rclk=1. Error: list index out of range\n",
      "Error extracting place with url: https://www.google.com/maps/place/Churros+Los+Paisitas/data=!4m7!3m6!1s0x80c2cda72ede7c5f:0xeed800be6a8d4621!8m2!3d33.894788!4d-118.193848!16s%2Fg%2F11pvfcb_yv!19sChIJX3zeLqfNwoARIUaNar4A2O4?authuser=0&hl=es-419&rclk=1. Error: list index out of range\n",
      "['Churros', 'Los Angeles, CA', 'Churros y Platanos Ruiz', 'Tienda de postres', '5.0', '1', '7218 Variel Ave, Canoga Park, CA 91303, Estados Unidos', None, None, None]\n",
      "['Churros', 'Los Angeles, CA', 'La Michoacana Premier', '·$', '4.1', '309', '2715 S Western Ave, Los Angeles, CA 90018, Estados Unidos', '\\ue0b0\\n+1 323-643-4022', None, None]\n",
      "['Churros', 'Los Angeles, CA', 'La Carreta Taqueria', '·$', '4.5', '1,648', '1471 E Vernon Ave, Los Angeles, CA 90011, Estados Unidos', '\\ue0b0\\n+1 323-232-7133', None, None]\n",
      "Error extracting place with url: https://www.google.com/maps/place/Churros+express/data=!4m7!3m6!1s0x80c2913616859bad:0x632b979d76639d40!8m2!3d34.2459772!4d-118.4181744!16s%2Fg%2F11h494c73b!19sChIJrZuFFjaRwoARQJ1jdp2XK2M?authuser=0&hl=es-419&rclk=1. Error: list index out of range\n",
      "Churro\n",
      "Los Angeles, CA\n",
      "Churro in Los Angeles, CA\n",
      "Error extracting place with url: https://www.google.com/maps/place/Churros+Calientes/data=!4m7!3m6!1s0x80c2bb6f92c3175d:0x735a857a04b3ab45!8m2!3d34.0453847!4d-118.4528003!16s%2Fg%2F1tdmvwy4!19sChIJXRfDkm-7woARRauzBHqFWnM?authuser=0&hl=es-419&rclk=1. Error: argument of type 'NoneType' is not iterable\n",
      "Error extracting place with url: https://www.google.com/maps/place/Chevitos+Churros+Y+Mas/data=!4m7!3m6!1s0x80c2c983e3f2eab5:0xf74f8263d3f7c6dc!8m2!3d33.9376444!4d-118.2913311!16s%2Fg%2F11rz3gvctt!19sChIJtery44PJwoAR3Mb302OCT_c?authuser=0&hl=es-419&rclk=1. Error: argument of type 'NoneType' is not iterable\n",
      "['Churro', 'Los Angeles, CA', 'Churros La Paloma', 'Mobile caterer', '4.3', '20', '6101 S Central Ave, Los Angeles, CA 90001, Estados Unidos', '', None, None]\n",
      "Error extracting place with url: https://www.google.com/maps/place/Churro+Man/data=!4m7!3m6!1s0x80c2971cfc49f0a1:0x96aa7b3cb0ab3724!8m2!3d34.1713748!4d-118.4470678!16s%2Fg%2F11rn2bs9fm!19sChIJofBJ_ByXwoARJDersDx7qpY?authuser=0&hl=es-419&rclk=1. Error: list index out of range\n",
      "['Churro', 'Los Angeles, CA', 'Los Angeles Churros Catering', 'Catering food and drink supplier', '5.0', '40', None, '\\ue0b0\\n+1 818-397-6030', '', 'https://losangeleschurroscatering.com/']\n",
      "Error extracting place with url: https://www.google.com/maps/place/Churro+Man/data=!4m7!3m6!1s0x80c2971cfc49f0a1:0x96aa7b3cb0ab3724!8m2!3d34.1713748!4d-118.4470678!16s%2Fg%2F11rn2bs9fm!19sChIJofBJ_ByXwoARJDersDx7qpY?authuser=0&hl=es-419&rclk=1. Error: list index out of range\n",
      "Error extracting place with url: https://www.google.com/maps/place/Churro+Hub+Cafe%27/data=!4m7!3m6!1s0x80c291280204858f:0xf0921642200e43cd!8m2!3d34.2330871!4d-118.4393985!16s%2Fg%2F11hy9nqhhw!19sChIJj4UEAiiRwoARzUMOIEIWkvA?authuser=0&hl=es-419&rclk=1. Error: argument of type 'NoneType' is not iterable\n",
      "['Churro', 'Los Angeles, CA', 'Azucanela Churros & Coffee - Hawthorne', '·$$', '4.5', '369', '13307 S Inglewood Ave, Hawthorne, CA 90250, Estados Unidos', '\\ue0b0\\n+1 424-297-0215', 'info@azucanela.com', 'http://azucanela.com/']\n",
      "['Churro', 'Los Angeles, CA', 'Churrería La Gracia LLC', 'Tienda de postres', '5.0', '6', 'VRHM+76, Long Beach, CA 90605, Estados Unidos', None, None, None]\n",
      "Error extracting place with url: https://www.google.com/maps/place/Churros+Los+Paisitas/data=!4m7!3m6!1s0x80c2cda72ede7c5f:0xeed800be6a8d4621!8m2!3d33.894788!4d-118.193848!16s%2Fg%2F11pvfcb_yv!19sChIJX3zeLqfNwoARIUaNar4A2O4?authuser=0&hl=es-419&rclk=1. Error: list index out of range\n",
      "Error extracting place with url: https://www.google.com/maps/place/Churros+Puebla/data=!4m7!3m6!1s0x80c2c97bdf182c97:0x3c89e6049f2c5695!8m2!3d33.9935942!4d-118.2561231!16s%2Fg%2F11sq3289qw!19sChIJlywY33vJwoARlVYsnwTmiTw?authuser=0&hl=es-419&rclk=1. Error: list index out of range\n",
      "Error extracting place with url: https://www.google.com/maps/place/Papi+Tacos+%26+Churros/data=!4m7!3m6!1s0x80c2b959423b0a41:0xf3bbada97a56df38!8m2!3d34.0254752!4d-118.3244886!16s%2Fg%2F11h7c6h67p!19sChIJQQo7Qlm5woARON9Weqmtu_M?authuser=0&hl=es-419&rclk=1. Error: argument of type 'NoneType' is not iterable\n",
      "Churrerria\n",
      "Los Angeles, CA\n",
      "Churrerria in Los Angeles, CA\n",
      "Error extracting place with url: https://www.google.com/maps/place/Churros+Calientes/data=!4m7!3m6!1s0x80c2bb6f92c3175d:0x735a857a04b3ab45!8m2!3d34.0453847!4d-118.4528003!16s%2Fg%2F1tdmvwy4!19sChIJXRfDkm-7woARRauzBHqFWnM?authuser=0&hl=es-419&rclk=1. Error: argument of type 'NoneType' is not iterable\n",
      "Error extracting place with url: https://www.google.com/maps/place/Churros/data=!4m7!3m6!1s0x80c2c781615eb3db:0x6e62e31cc43f1afc!8m2!3d34.0347386!4d-118.2572438!16s%2Fg%2F11sxvxc0ht!19sChIJ27NeYYHHwoAR_Bo_xBzjYm4?authuser=0&hl=es-419&rclk=1. Error: list index out of range\n",
      "Error extracting place with url: https://www.google.com/maps/place/Juanitos+churros/data=!4m7!3m6!1s0x80c2c71905108697:0x7db9b984196aed10!8m2!3d34.0395879!4d-118.2133021!16s%2Fg%2F11txfljlr3!19sChIJl4YQBRnHwoAREO1qGYS5uX0?authuser=0&hl=es-419&rclk=1. Error: list index out of range\n",
      "['Churrerria', 'Los Angeles, CA', 'Azucanela Churros & Coffee - Culver City (Westfield Mall)', 'Tienda de postres', '4.5', '28', 'Westfield Mall(2nd Floor next to macys, 6000 Sepulveda Blvd #2507, Culver City, CA 90230, Estados Unidos', '\\ue0b0\\n+1 310-313-3619', 'info@azucanela.com', 'https://www.azucanela.com/']\n",
      "Error extracting place with url: https://www.google.com/maps/place/Chevitos+Churros+Y+Mas/data=!4m7!3m6!1s0x80c2c983e3f2eab5:0xf74f8263d3f7c6dc!8m2!3d33.9376444!4d-118.2913311!16s%2Fg%2F11rz3gvctt!19sChIJtery44PJwoAR3Mb302OCT_c?authuser=0&hl=es-419&rclk=1. Error: argument of type 'NoneType' is not iterable\n"
     ]
    }
   ],
   "source": [
    "# Import necessary libraries\n",
    "from selenium import webdriver\n",
    "from selenium.webdriver import ActionChains\n",
    "from selenium.webdriver.common.actions.wheel_input import ScrollOrigin\n",
    "from selenium.webdriver.chrome.options import Options\n",
    "from selenium.webdriver.common.by import By\n",
    "from selenium.webdriver.support.ui import WebDriverWait\n",
    "from selenium.webdriver.support import expected_conditions as EC\n",
    "import pandas as pd\n",
    "import time\n",
    "import re\n",
    "\n",
    "def extract_emails(website_url):\n",
    "    browser.get(website_url)\n",
    "    \n",
    "    # Get the regular expressions pattern to match on\n",
    "    email_pattern = r\"[A-Za-z0-9._%+-]+@[A-Za-z0-9.-]+\\.[A-Z|a-z]{2,4}\"\n",
    "    # Get the html content for the page\n",
    "    html = browser.page_source\n",
    "    # Get a list of emails\n",
    "    emails = re.findall(email_pattern, html)\n",
    "    # Get a unique array of the emails on the page\n",
    "    unique_emails_arr = pd.DataFrame(columns=['email'],data=emails)['email'].unique()\n",
    "    # Convert to string with a comma delimiting them\n",
    "    unique_emails_str = ','.join(unique_emails_arr)\n",
    "    return unique_emails_str\n",
    "\n",
    "\n",
    "# Define a function to extract search results for a given search URL, location, and industry\n",
    "def extract_search_results(search_url,location,industry):\n",
    "\n",
    "    # Navigate to the search URL\n",
    "    browser.get(search_url)\n",
    "    wait = WebDriverWait(browser, 10)\n",
    "    \n",
    "    # Wait for the page to load\n",
    "    wait.until(EC.presence_of_element_located((By.CLASS_NAME, \"hfpxzc\")))\n",
    "        \n",
    "    # Find the element to start scrolling from\n",
    "    start_scroll_element = browser.find_element(By.CLASS_NAME,\"hfpxzc\")\n",
    "    scroll_origin = ScrollOrigin.from_element(start_scroll_element)\n",
    "    \n",
    "    # Perform scrolling action to reveal more search results\n",
    "    for i in range(max_num_scrolls):\n",
    "        ActionChains(browser).scroll_from_origin(scroll_origin,0,1500*(i+1)).perform()\n",
    "        \n",
    "        # Possibly find a way to use selenium WebDriverWait \n",
    "        time.sleep(3)\n",
    "        \n",
    "    # Inner function to extract information about a specific place from its page\n",
    "    def extract_place_info(place_url):\n",
    "        browser.get(place_url)\n",
    "        wait.until(EC.presence_of_element_located((By.CLASS_NAME, \"lMbq3e\")))\n",
    "                \n",
    "        # Extract the header information about the place\n",
    "        header_text = browser.find_element(By.CLASS_NAME,'lMbq3e').text\n",
    "        header_list = header_text.split(\"\\n\")\n",
    "        place_name = header_list[0]\n",
    "        reviews_stars = header_list[1]\n",
    "        num_of_reviews = header_list[2].strip('(').strip(')')\n",
    "        place_description = header_list[3]\n",
    "        \n",
    "        # Extract additional information like address, phone, and website\n",
    "        info_elements = browser.find_elements(By.CLASS_NAME, \"CsEnBe\")\n",
    "        website = None\n",
    "        phone = None\n",
    "        address = None\n",
    "        emails = None\n",
    "        \n",
    "        # TODO: Find a way to make this robust against locale differences\n",
    "        if english:  # Handle being in Mexico\n",
    "            for info_element in info_elements:\n",
    "                aria_label = info_element.get_attribute(\"aria-label\")\n",
    "                if 'Address:' in aria_label:\n",
    "                    address = info_element.text\n",
    "                if 'Phone:' in aria_label:\n",
    "                    phone = info_element.text\n",
    "                if 'Website:' in aria_label:\n",
    "                    website = info_element.get_attribute(\"href\")\n",
    "        else:  # If Spanish\n",
    "            for info_element in info_elements:\n",
    "                aria_label = info_element.get_attribute(\"aria-label\")\n",
    "                if 'Dirección:' in aria_label:\n",
    "                    address = info_element.text.split('\\n')[1]\n",
    "                if 'Teléfono:' in aria_label:\n",
    "                    phone = info_element.text\n",
    "                if 'Sitio web:' in aria_label:\n",
    "                    website = info_element.get_attribute(\"href\")\n",
    "        \n",
    "        # Check if the place is a duplicate\n",
    "        if address in all_addresses:\n",
    "            if place_name in all_place_names:\n",
    "                return \"duplicate\"\n",
    "        else:\n",
    "            all_addresses.append(address)\n",
    "            all_place_names.append(place_name)\n",
    "        \n",
    "        if website is not None:\n",
    "            emails = extract_emails(website)\n",
    "        \n",
    "        # Compile the extracted information into a list\n",
    "        place_info = [\n",
    "            industry,\n",
    "            location,\n",
    "            place_name,\n",
    "            place_description,\n",
    "            reviews_stars,\n",
    "            num_of_reviews,\n",
    "            address,\n",
    "            phone,\n",
    "            emails,\n",
    "            website\n",
    "        ]\n",
    "        \n",
    "        print(place_info)\n",
    "        \n",
    "        return place_info\n",
    "    \n",
    "    # Find all elements that represent places in the search results\n",
    "    place_elements = browser.find_elements(By.CLASS_NAME, \"hfpxzc\")\n",
    "        \n",
    "    # Extract the URLs of all places\n",
    "    place_urls = [element.get_attribute(\"href\") for element in place_elements]\n",
    "    \n",
    "    place_info_list = []\n",
    "    \n",
    "    # Loop through the URLs to extract information for each place\n",
    "    for url in place_urls:\n",
    "        try:\n",
    "        # if True:  # TODO: There seems to be an issue in extract_place_info \n",
    "                  # that causes an \"argument of type 'NoneType' is not iterable\" error\n",
    "            temp_place_info = extract_place_info(url)\n",
    "            \n",
    "            if temp_place_info == \"duplicate\":  # Skip if the place is a duplicate\n",
    "                continue\n",
    "            \n",
    "            place_info_list.append(temp_place_info)\n",
    "            \n",
    "        except Exception as e:\n",
    "            print(f\"Error extracting place with url: {url}. Error: {e}\")\n",
    "        \n",
    "        # Stop if max_places_to_find places have been found\n",
    "        if len(place_info_list) >= max_places_to_find:\n",
    "            print('Breaking out of the for loop because {max_places_to_find} places were found.')\n",
    "            break\n",
    "\n",
    "    return place_info_list\n",
    "\n",
    "\n",
    "# Prepare to compile information for multiple locations and industries\n",
    "final_places_list = []\n",
    "all_addresses = []\n",
    "all_place_names = []\n",
    "\n",
    "# Spanish to handle Mexico\n",
    "english = False\n",
    "\n",
    "# Parameters for the search\n",
    "max_places_to_find = 1000  # Maximum number of places to find for each search\n",
    "max_num_scrolls = 10  # Maximum number of times to scroll to reveal more search results\n",
    "\n",
    "# Define the locations and industries to search for\n",
    "locations = ['Los Angeles, CA',] # 'San Francisco, CA','New York, NY','Jacksonville, FL','Portland, OR','Denver, CO']\n",
    "industries = ['Churros', 'Churro', 'Churrerria']  # Add more industries to search for\n",
    "# 'Physical Therapy',\n",
    "# 'HVAC',\n",
    "# 'Veterinary Services',\n",
    "# 'Plumbing',\n",
    "# 'Insurance Brokerages',\n",
    "# 'Landscaping',\n",
    "# 'Automotive Repair',\n",
    "# 'Chiropractic']\n",
    "\n",
    "# Initialize the WebDriver Options \n",
    "options = Options()\n",
    "options.add_argument(\"--headless\")\n",
    "options.add_experimental_option('prefs', {'intl.accept_languages': 'en,en_US'})  # Set language preferences\n",
    "\n",
    "# Loop through each industry and location, perform searches, and compile results\n",
    "for industry in industries:\n",
    "    print(industry)\n",
    "    for location in locations:  \n",
    "        # Initialize the WebDriver for Chrome\n",
    "        browser = webdriver.Chrome(options=options)\n",
    "        \n",
    "        try:\n",
    "            print(location)\n",
    "            search_query = f\"{industry} in {location}\"\n",
    "            print(search_query)\n",
    "            search_url = f\"https://www.google.com/maps/search/{search_query}\"\n",
    "            combo_place_info_list = extract_search_results(search_url,location,industry)\n",
    "            pd.DataFrame(combo_place_info_list).to_csv(f'{industry} Export.csv',index = False)\n",
    "            final_places_list.extend(combo_place_info_list)\n",
    "        except Exception as e:\n",
    "            print(e)\n",
    "        \n",
    "        finally:\n",
    "            browser.close()\n",
    "\n",
    "browser.quit()\n"
   ]
  },
  {
   "cell_type": "markdown",
   "id": "49cabc83",
   "metadata": {},
   "source": [
    "# Data Cleaning and Testing"
   ]
  },
  {
   "cell_type": "code",
   "execution_count": 172,
   "id": "bac1c73c",
   "metadata": {},
   "outputs": [],
   "source": [
    "# Create a DataFrame from the compiled list and save it to a CSV file\n",
    "places_df = pd.DataFrame(columns=['Industry', 'Location', 'Name', 'Description', 'Stars (out of 5)', 'Number of Reviews', 'Address', 'Phone', 'Emails','Website'], data=final_places_list)\n",
    "places_df.to_csv('More Churro Places.csv', index=False)"
   ]
  },
  {
   "cell_type": "code",
   "execution_count": 9,
   "id": "ecd13aad",
   "metadata": {},
   "outputs": [
    {
     "data": {
      "text/plain": [
       "3"
      ]
     },
     "execution_count": 9,
     "metadata": {},
     "output_type": "execute_result"
    }
   ],
   "source": [
    "len(final_places_list)\n",
    "# print(final_places_list)\n"
   ]
  },
  {
   "cell_type": "code",
   "execution_count": 37,
   "id": "d1dbbcec02b6bd3c",
   "metadata": {
    "ExecuteTime": {
     "end_time": "2024-03-18T18:58:14.861340Z",
     "start_time": "2024-03-18T18:58:14.857897Z"
    },
    "collapsed": false
   },
   "outputs": [],
   "source": [
    "fixed_addresses = []\n",
    "\n",
    "for address in places_df['Address']:\n",
    "    fixed_addresses.append(address.split('\\n')[1])"
   ]
  },
  {
   "cell_type": "code",
   "execution_count": 39,
   "id": "ee1d2cd5",
   "metadata": {},
   "outputs": [
    {
     "data": {
      "text/plain": [
       "['231 Border St B, Boston, MA 02128, Estados Unidos',\n",
       " '9 Channel Center St, Boston, MA 02210, Estados Unidos',\n",
       " '400 Commonwealth Ave 3rd floor, Boston, MA 02215, Estados Unidos',\n",
       " '1 Huntington Ave B, Boston, MA 02116, Estados Unidos',\n",
       " '1 McKinley Square Lobby B, Boston, MA 02109, Estados Unidos',\n",
       " '575 Boylston St 7th floor, Boston, MA 02116, Estados Unidos',\n",
       " '177 Tremont St #6, Boston, MA 02111, Estados Unidos',\n",
       " '77 Beacon St, Boston, MA 02108, Estados Unidos',\n",
       " '31 State St 7th Floor, Boston, MA 02109, Estados Unidos',\n",
       " '1610 Tremont St, Boston, MA 02120, Estados Unidos',\n",
       " '37 Newbury St #3, Boston, MA 02116, Estados Unidos',\n",
       " '36 Chauncy St, Boston, MA 02111, Estados Unidos',\n",
       " '591 E Broadway, Boston, MA 02127, Estados Unidos',\n",
       " '1313 Washington St, Boston, MA 02118, Estados Unidos',\n",
       " '272 W Broadway, Boston, MA 02127, Estados Unidos',\n",
       " '800 Boylston St 2nd floor, Boston, MA 02199, Estados Unidos',\n",
       " '22 Traveler St, Boston, MA 02118, Estados Unidos',\n",
       " '46 Farnsworth St, Boston, MA 02210, Estados Unidos']"
      ]
     },
     "execution_count": 39,
     "metadata": {},
     "output_type": "execute_result"
    }
   ],
   "source": [
    "fixed_addresses"
   ]
  },
  {
   "cell_type": "code",
   "execution_count": 44,
   "id": "848c840d",
   "metadata": {},
   "outputs": [],
   "source": [
    "places_df.to_csv('Places Information Fixed.csv', index=False)"
   ]
  },
  {
   "cell_type": "code",
   "execution_count": 22,
   "id": "b9ba8d25",
   "metadata": {},
   "outputs": [],
   "source": [
    "addresses = places_df['Address'].dropna().to_numpy()"
   ]
  },
  {
   "cell_type": "code",
   "execution_count": 24,
   "id": "a42132e4",
   "metadata": {},
   "outputs": [],
   "source": [
    "import numpy as np\n",
    "\n",
    "unique_addies = np.unique(addresses)"
   ]
  },
  {
   "cell_type": "code",
   "execution_count": 25,
   "id": "c2b0b91a",
   "metadata": {},
   "outputs": [
    {
     "data": {
      "text/plain": [
       "(24,)"
      ]
     },
     "execution_count": 25,
     "metadata": {},
     "output_type": "execute_result"
    }
   ],
   "source": [
    "unique_addies.shape"
   ]
  },
  {
   "cell_type": "code",
   "execution_count": 30,
   "id": "d5a55da9",
   "metadata": {},
   "outputs": [],
   "source": [
    "filtered_df = places_df[places_df['Address'].isin(unique_addies)]\n"
   ]
  },
  {
   "cell_type": "code",
   "execution_count": 33,
   "id": "18982a69",
   "metadata": {},
   "outputs": [
    {
     "data": {
      "text/plain": [
       "(45,)"
      ]
     },
     "execution_count": 33,
     "metadata": {},
     "output_type": "execute_result"
    }
   ],
   "source": [
    "filtered_df['Address'].to_numpy().shape"
   ]
  },
  {
   "cell_type": "code",
   "execution_count": 44,
   "id": "8294647e",
   "metadata": {},
   "outputs": [
    {
     "ename": "AttributeError",
     "evalue": "'numpy.ndarray' object has no attribute 'dropna'",
     "output_type": "error",
     "traceback": [
      "\u001b[1;31m---------------------------------------------------------------------------\u001b[0m",
      "\u001b[1;31mAttributeError\u001b[0m                            Traceback (most recent call last)",
      "Cell \u001b[1;32mIn[44], line 1\u001b[0m\n\u001b[1;32m----> 1\u001b[0m places_dropna \u001b[38;5;241m=\u001b[39m places_df\u001b[38;5;241m.\u001b[39mloc[\u001b[43mplaces_df\u001b[49m\u001b[43m[\u001b[49m\u001b[38;5;124;43m'\u001b[39;49m\u001b[38;5;124;43mAddress\u001b[39;49m\u001b[38;5;124;43m'\u001b[39;49m\u001b[43m]\u001b[49m\u001b[38;5;241;43m.\u001b[39;49m\u001b[43munique\u001b[49m\u001b[43m(\u001b[49m\u001b[43m)\u001b[49m\u001b[38;5;241;43m.\u001b[39;49m\u001b[43mdropna\u001b[49m(inplace\u001b[38;5;241m=\u001b[39m\u001b[38;5;28;01mFalse\u001b[39;00m)\u001b[38;5;241m.\u001b[39mindex]\n",
      "\u001b[1;31mAttributeError\u001b[0m: 'numpy.ndarray' object has no attribute 'dropna'"
     ]
    }
   ],
   "source": [
    "places_dropna = places_df.loc[places_df['Address'].dropna(inplace=False).index]"
   ]
  },
  {
   "cell_type": "code",
   "execution_count": 51,
   "id": "9425fc06",
   "metadata": {},
   "outputs": [
    {
     "data": {
      "text/plain": [
       "(47, 10)"
      ]
     },
     "execution_count": 51,
     "metadata": {},
     "output_type": "execute_result"
    }
   ],
   "source": [
    "places_df.shape"
   ]
  },
  {
   "cell_type": "code",
   "execution_count": 54,
   "id": "41eac6cb",
   "metadata": {},
   "outputs": [],
   "source": [
    "# places_df"
   ]
  },
  {
   "cell_type": "code",
   "execution_count": 59,
   "id": "94897c53",
   "metadata": {},
   "outputs": [],
   "source": [
    "df_unique = places_df.drop_duplicates(subset='Address', keep='first')"
   ]
  },
  {
   "cell_type": "code",
   "execution_count": 62,
   "id": "9d198f1a",
   "metadata": {},
   "outputs": [
    {
     "name": "stderr",
     "output_type": "stream",
     "text": [
      "C:\\Users\\wilso\\AppData\\Local\\Temp\\ipykernel_41672\\1627190734.py:1: SettingWithCopyWarning: \n",
      "A value is trying to be set on a copy of a slice from a DataFrame\n",
      "\n",
      "See the caveats in the documentation: https://pandas.pydata.org/pandas-docs/stable/user_guide/indexing.html#returning-a-view-versus-a-copy\n",
      "  df_unique.dropna(subset='Address', inplace=True)\n"
     ]
    }
   ],
   "source": [
    "df_unique.dropna(subset='Address', inplace=True)"
   ]
  },
  {
   "cell_type": "code",
   "execution_count": 65,
   "id": "d18183be",
   "metadata": {},
   "outputs": [],
   "source": [
    "# df_unique.to_csv('Unique Churro Places LA.csv', index=False)"
   ]
  },
  {
   "cell_type": "code",
   "execution_count": null,
   "id": "fa5b2e66",
   "metadata": {},
   "outputs": [],
   "source": [
    "Churros\n",
    "Los Angeles, CA\n",
    "Churros in Los Angeles, CA\n",
    "0\n",
    "1\n",
    "2\n",
    "3\n",
    "4\n",
    "30\n",
    "['Churros', 'Los Angeles, CA', 'Mr. Churro', '·$', '4.3', '493', 'E-12 Olvera St # C, Los Angeles, CA 90012, Estados Unidos', '\\ue0b0\\n+1 213-680-9036', None, None]\n",
    "['Churros', 'Los Angeles, CA', 'Churros Estilo Guadalajara', 'Tienda de postres', '4.8', '10', '4025 S Central Ave, Los Angeles, CA 90011, Estados Unidos', '\\ue0b0\\n+1 323-604-8135', None, None]\n",
    "['Churros', 'Los Angeles, CA', 'Ridges Churro Bar', 'Tienda de postres', '2.8', '4', 'Los Angeles, CA 90014, Estados Unidos', None, '', 'http://instagram.com/ridgeschurrobar']\n",
    "['Churros', 'Los Angeles, CA', 'Salinas Churros', 'Churrería', '3.7', '34', '918 S Lorena St, Los Angeles, CA 90023, Estados Unidos', None, '', 'https://instagram.com/salinaschurros?igshid=YmMyMTA2M2Y=']\n",
    "['Churros', 'Los Angeles, CA', 'Churros y platanos', 'Churrería', '5.0', '17', 'Los Angeles, CA 90034, Estados Unidos', None, None, None]\n",
    "['Churros', 'Los Angeles, CA', 'La Churreria', 'Tienda de postres', '3.7', '3', '532 S Olive St, Los Angeles, CA 90013, Estados Unidos', None, None, None]\n",
    "Error extracting place with url: https://www.google.com/maps/place/Churros+Calientes/data=!4m7!3m6!1s0x80c2bb6f92c3175d:0x735a857a04b3ab45!8m2!3d34.0453847!4d-118.4528003!16s%2Fg%2F1tdmvwy4!19sChIJXRfDkm-7woARRauzBHqFWnM?authuser=0&hl=es-419&rclk=1. Error: argument of type 'NoneType' is not iterable\n",
    "['Churros', 'Los Angeles, CA', 'Churros El Gorilla', 'Restaurante de postres', '5.0', '11', '5525 Sunset Blvd, Los Angeles, CA 90028, Estados Unidos', '\\ue0b0\\n+1 747-258-8650', None, None]\n",
    "Error extracting place with url: https://www.google.com/maps/place/Juanitos+churros/data=!4m7!3m6!1s0x80c2c71905108697:0x7db9b984196aed10!8m2!3d34.0395879!4d-118.2133021!16s%2Fg%2F11txfljlr3!19sChIJl4YQBRnHwoAREO1qGYS5uX0?authuser=0&hl=es-419&rclk=1. Error: list index out of range\n",
    "['Churros', 'Los Angeles, CA', 'Churrito loco', '·$$', '4.6', '38', '5161 Pomona Blvd # 105, East Los Angeles, CA 90022, Estados Unidos', None, 'eatchurritoloco@gmail.com,605a7baede844d278b89dc95ae0a9123@sentry-next.wixpress.com,8eb368c655b84e029ed79ad7a5c1718e@sentry.wixpress.com', 'http://www.eatchurritoloco.com/']\n",
    "['Churros', 'Los Angeles, CA', 'Churros El Bochito', 'Restaurante', '4.2', '20', '1157 Cypress Ave, Los Angeles, CA 90065, Estados Unidos', '\\ue0b0\\n+1 213-820-0172', None, None]\n",
    "['Churros', 'Los Angeles, CA', 'crepes n churros', 'Crepería', '3.5', '11', '2744 1st St, Los Angeles, CA 90033, Estados Unidos', '\\ue0b0\\n+1 323-338-1863', None, None]\n",
    "Breaking out of the for loop because {max_places_to_find} places were found.\n",
    "Message: invalid session id\n",
    "Stacktrace:\n",
    "\tGetHandleVerifier [0x00007FF727FB1502+60802]\n",
    "\t(No symbol) [0x00007FF727F2AC02]\n",
    "\t(No symbol) [0x00007FF727DE7B13]\n",
    "\t(No symbol) [0x00007FF727E28B6B]\n",
    "\t(No symbol) [0x00007FF727E29C21]\n",
    "\tGetHandleVerifier [0x00007FF7282B411D+3217821]\n",
    "\tGetHandleVerifier [0x00007FF7282F60B7+3488055]\n",
    "\tGetHandleVerifier [0x00007FF7282EF03F+3459263]\n",
    "\tGetHandleVerifier [0x00007FF72806B846+823494]\n",
    "\t(No symbol) [0x00007FF727F35F9F]\n",
    "\t(No symbol) [0x00007FF727F30EC4]\n",
    "\t(No symbol) [0x00007FF727F31052]\n",
    "\t(No symbol) [0x00007FF727F218A4]\n",
    "\tBaseThreadInitThunk [0x00007FF86FC9257D+29]\n",
    "\tRtlUserThreadStart [0x00007FF870D2AA48+40]\n",
    "\n"
   ]
  },
  {
   "cell_type": "code",
   "execution_count": 8,
   "id": "bd9cf1ad",
   "metadata": {},
   "outputs": [],
   "source": [
    "# Get Google maps platform api key\n",
    "\n",
    "from dotenv import load_dotenv\n",
    "import os\n",
    "\n",
    "\n",
    "# Load environment variables from .env file\n",
    "load_dotenv()\n",
    "\n",
    "# Access your API key using the os.environ dictionary\n",
    "api_key = os.getenv(\"GOOGLE_MAPS_PLATFORM_API_KEY\")\n"
   ]
  },
  {
   "cell_type": "code",
   "execution_count": 92,
   "id": "2b24dd30",
   "metadata": {},
   "outputs": [],
   "source": [
    "import requests\n",
    "from dotenv import load_dotenv\n",
    "import os\n",
    "from datetime import datetime, timedelta\n",
    "import time\n",
    "import numpy as np\n",
    "import pandas as pd\n",
    "\n",
    "# Load environment variables (including the API key)\n",
    "load_dotenv()\n",
    "\n",
    "# Get the API key from environment variables\n",
    "GOOGLE_MAPS_API_KEY = os.getenv(\"GOOGLE_MAPS_API_KEY\")\n",
    "\n",
    "\n",
    "def get_next_2am_unix_timestamp():\n",
    "    \"\"\"Get the Unix timestamp for the next 2 a.m.\"\"\"\n",
    "    now = datetime.now()\n",
    "    next_2am = now.replace(hour=2, minute=0, second=0, microsecond=0)\n",
    "\n",
    "    # If it's already past 2 a.m. today, move to the next day\n",
    "    if now >= next_2am:\n",
    "        next_2am += timedelta(days=1)\n",
    "\n",
    "    return int(time.mktime(next_2am.timetuple()))\n",
    "\n",
    "\n",
    "\n",
    "\n",
    "def is_within_time(origins: np.ndarray, destinations: np.ndarray) -> np.ndarray:\n",
    "    \"\"\"Check if the travel time from the origin to each destination is within a specified time.\n",
    "    \n",
    "    Parameters:\n",
    "        origins (ndarray(n,)): The starting locations.\n",
    "        destinations (ndarray(m,)): A numpy array of destination addresses.\n",
    "        time (int): The maximum travel time in seconds.\n",
    "        \n",
    "    Returns:\n",
    "        ndarray(n, m): A numpy array of boolean values indicating if the travel time to each destination is within the specified time.\n",
    "    \"\"\"\n",
    "    n, m = len(origins), len(destinations)\n",
    "    times_arr = np.zeros((n, m), dtype=float)\n",
    "    \n",
    "    if type(origins) != list and type(origins) != np.ndarray:\n",
    "        raise TypeError(\"Origins must be a numpy array.\")\n",
    "    else:\n",
    "        destinations = np.array(destinations)\n",
    "            \n",
    "    if type(destinations) != list and type(destinations) != np.ndarray:\n",
    "        raise TypeError(\"Destinations must be a numpy array.\")\n",
    "    else:\n",
    "        destinations = np.array(destinations)\n",
    "        \n",
    "    if type(origins) == list:\n",
    "        origins = np.array(origins)\n",
    "    if type(destinations) == list:\n",
    "        destinations = np.array(destinations)\n",
    "    \n",
    "    for i, origin in enumerate(origins):\n",
    "        \n",
    "        base_url = \"https://maps.googleapis.com/maps/api/directions/json\"\n",
    "        within_time = []\n",
    "\n",
    "        # Calculate the Unix timestamp for the next 2 a.m.\n",
    "        departure_time = str(get_next_2am_unix_timestamp())\n",
    "\n",
    "        for j, destination in enumerate(destinations):\n",
    "            params = {\n",
    "                \"origin\": origin,\n",
    "                \"destination\": destination,\n",
    "                \"departure_time\": departure_time,  # Dynamically calculated 2 a.m. timestamp\n",
    "                \"key\": GOOGLE_MAPS_API_KEY\n",
    "            }\n",
    "\n",
    "            response = requests.get(base_url, params=params)\n",
    "            if response.status_code == 200:\n",
    "                data = response.json()\n",
    "\n",
    "                # Check if the API returned a valid route\n",
    "                if data[\"status\"] == \"OK\":\n",
    "                    duration_seconds = data[\"routes\"][0][\"legs\"][0][\"duration\"][\"value\"]\n",
    "                    times_arr[i, j] = duration_seconds  # Store the travel time\n",
    "\n",
    "                else:\n",
    "                    print(f\"No valid route for {destination}. \\nStatus: {data['status']}\")\n",
    "            else:\n",
    "                raise Exception(f\"Google Maps API error: {response.status_code}\")\n",
    "    \n",
    "    df_times = pd.DataFrame(data=times_arr, columns=destinations, index=origins)\n",
    "    \n",
    "    return df_times\n"
   ]
  },
  {
   "cell_type": "code",
   "execution_count": 58,
   "id": "0c40fe9f",
   "metadata": {},
   "outputs": [
    {
     "ename": "GeocoderInsufficientPrivileges",
     "evalue": "Non-successful status code 403",
     "output_type": "error",
     "traceback": [
      "\u001b[1;31m---------------------------------------------------------------------------\u001b[0m",
      "\u001b[1;31mAdapterHTTPError\u001b[0m                          Traceback (most recent call last)",
      "File \u001b[1;32mc:\\Users\\wilso\\AppData\\Local\\Programs\\Python\\Python312\\Lib\\site-packages\\geopy\\geocoders\\base.py:368\u001b[0m, in \u001b[0;36mGeocoder._call_geocoder\u001b[1;34m(self, url, callback, timeout, is_json, headers)\u001b[0m\n\u001b[0;32m    367\u001b[0m \u001b[38;5;28;01mif\u001b[39;00m is_json:\n\u001b[1;32m--> 368\u001b[0m     result \u001b[38;5;241m=\u001b[39m \u001b[38;5;28;43mself\u001b[39;49m\u001b[38;5;241;43m.\u001b[39;49m\u001b[43madapter\u001b[49m\u001b[38;5;241;43m.\u001b[39;49m\u001b[43mget_json\u001b[49m\u001b[43m(\u001b[49m\u001b[43murl\u001b[49m\u001b[43m,\u001b[49m\u001b[43m \u001b[49m\u001b[43mtimeout\u001b[49m\u001b[38;5;241;43m=\u001b[39;49m\u001b[43mtimeout\u001b[49m\u001b[43m,\u001b[49m\u001b[43m \u001b[49m\u001b[43mheaders\u001b[49m\u001b[38;5;241;43m=\u001b[39;49m\u001b[43mreq_headers\u001b[49m\u001b[43m)\u001b[49m\n\u001b[0;32m    369\u001b[0m \u001b[38;5;28;01melse\u001b[39;00m:\n",
      "File \u001b[1;32mc:\\Users\\wilso\\AppData\\Local\\Programs\\Python\\Python312\\Lib\\site-packages\\geopy\\adapters.py:472\u001b[0m, in \u001b[0;36mRequestsAdapter.get_json\u001b[1;34m(self, url, timeout, headers)\u001b[0m\n\u001b[0;32m    471\u001b[0m \u001b[38;5;28;01mdef\u001b[39;00m \u001b[38;5;21mget_json\u001b[39m(\u001b[38;5;28mself\u001b[39m, url, \u001b[38;5;241m*\u001b[39m, timeout, headers):\n\u001b[1;32m--> 472\u001b[0m     resp \u001b[38;5;241m=\u001b[39m \u001b[38;5;28;43mself\u001b[39;49m\u001b[38;5;241;43m.\u001b[39;49m\u001b[43m_request\u001b[49m\u001b[43m(\u001b[49m\u001b[43murl\u001b[49m\u001b[43m,\u001b[49m\u001b[43m \u001b[49m\u001b[43mtimeout\u001b[49m\u001b[38;5;241;43m=\u001b[39;49m\u001b[43mtimeout\u001b[49m\u001b[43m,\u001b[49m\u001b[43m \u001b[49m\u001b[43mheaders\u001b[49m\u001b[38;5;241;43m=\u001b[39;49m\u001b[43mheaders\u001b[49m\u001b[43m)\u001b[49m\n\u001b[0;32m    473\u001b[0m     \u001b[38;5;28;01mtry\u001b[39;00m:\n",
      "File \u001b[1;32mc:\\Users\\wilso\\AppData\\Local\\Programs\\Python\\Python312\\Lib\\site-packages\\geopy\\adapters.py:500\u001b[0m, in \u001b[0;36mRequestsAdapter._request\u001b[1;34m(self, url, timeout, headers)\u001b[0m\n\u001b[0;32m    499\u001b[0m     \u001b[38;5;28;01mif\u001b[39;00m resp\u001b[38;5;241m.\u001b[39mstatus_code \u001b[38;5;241m>\u001b[39m\u001b[38;5;241m=\u001b[39m \u001b[38;5;241m400\u001b[39m:\n\u001b[1;32m--> 500\u001b[0m         \u001b[38;5;28;01mraise\u001b[39;00m AdapterHTTPError(\n\u001b[0;32m    501\u001b[0m             \u001b[38;5;124m\"\u001b[39m\u001b[38;5;124mNon-successful status code \u001b[39m\u001b[38;5;132;01m%s\u001b[39;00m\u001b[38;5;124m\"\u001b[39m \u001b[38;5;241m%\u001b[39m resp\u001b[38;5;241m.\u001b[39mstatus_code,\n\u001b[0;32m    502\u001b[0m             status_code\u001b[38;5;241m=\u001b[39mresp\u001b[38;5;241m.\u001b[39mstatus_code,\n\u001b[0;32m    503\u001b[0m             headers\u001b[38;5;241m=\u001b[39mresp\u001b[38;5;241m.\u001b[39mheaders,\n\u001b[0;32m    504\u001b[0m             text\u001b[38;5;241m=\u001b[39mresp\u001b[38;5;241m.\u001b[39mtext,\n\u001b[0;32m    505\u001b[0m         )\n\u001b[0;32m    507\u001b[0m \u001b[38;5;28;01mreturn\u001b[39;00m resp\n",
      "\u001b[1;31mAdapterHTTPError\u001b[0m: Non-successful status code 403",
      "\nThe above exception was the direct cause of the following exception:\n",
      "\u001b[1;31mGeocoderInsufficientPrivileges\u001b[0m            Traceback (most recent call last)",
      "Cell \u001b[1;32mIn[58], line 62\u001b[0m\n\u001b[0;32m     60\u001b[0m \u001b[38;5;66;03m# Check destinations within a 10-minute drive (assuming an average speed of 60 km/h)\u001b[39;00m\n\u001b[0;32m     61\u001b[0m max_distance \u001b[38;5;241m=\u001b[39m \u001b[38;5;241m4\u001b[39m\n\u001b[1;32m---> 62\u001b[0m result \u001b[38;5;241m=\u001b[39m \u001b[43mis_within_geodesic_distance\u001b[49m\u001b[43m(\u001b[49m\u001b[43morigin_addresses\u001b[49m\u001b[43m,\u001b[49m\u001b[43m \u001b[49m\u001b[43mdestination_addresses\u001b[49m\u001b[43m,\u001b[49m\u001b[43m \u001b[49m\u001b[43mmax_distance\u001b[49m\u001b[43m)\u001b[49m\n\u001b[0;32m     63\u001b[0m \u001b[38;5;28mprint\u001b[39m(result)\n",
      "Cell \u001b[1;32mIn[58], line 32\u001b[0m, in \u001b[0;36mis_within_geodesic_distance\u001b[1;34m(origins, destinations, max_distance)\u001b[0m\n\u001b[0;32m     29\u001b[0m max_distance_km \u001b[38;5;241m=\u001b[39m max_distance \u001b[38;5;241m*\u001b[39m \u001b[38;5;241m1.60934\u001b[39m\n\u001b[0;32m     31\u001b[0m \u001b[38;5;66;03m# Geocode the origins and destinations\u001b[39;00m\n\u001b[1;32m---> 32\u001b[0m origins_coords \u001b[38;5;241m=\u001b[39m [\u001b[43mgeocode_address\u001b[49m\u001b[43m(\u001b[49m\u001b[43morigin\u001b[49m\u001b[43m)\u001b[49m \u001b[38;5;28;01mfor\u001b[39;00m origin \u001b[38;5;129;01min\u001b[39;00m origins]\n\u001b[0;32m     33\u001b[0m destinations_coords \u001b[38;5;241m=\u001b[39m [geocode_address(destination) \u001b[38;5;28;01mfor\u001b[39;00m destination \u001b[38;5;129;01min\u001b[39;00m destinations]\n\u001b[0;32m     35\u001b[0m n, m \u001b[38;5;241m=\u001b[39m \u001b[38;5;28mlen\u001b[39m(origins), \u001b[38;5;28mlen\u001b[39m(destinations)\n",
      "Cell \u001b[1;32mIn[58], line 10\u001b[0m, in \u001b[0;36mgeocode_address\u001b[1;34m(address)\u001b[0m\n\u001b[0;32m      8\u001b[0m \u001b[38;5;28;01mdef\u001b[39;00m \u001b[38;5;21mgeocode_address\u001b[39m(address):\n\u001b[0;32m      9\u001b[0m     geolocator \u001b[38;5;241m=\u001b[39m Nominatim(user_agent\u001b[38;5;241m=\u001b[39m\u001b[38;5;124m\"\u001b[39m\u001b[38;5;124mgeoapiExercises\u001b[39m\u001b[38;5;124m\"\u001b[39m)\n\u001b[1;32m---> 10\u001b[0m     location \u001b[38;5;241m=\u001b[39m \u001b[43mgeolocator\u001b[49m\u001b[38;5;241;43m.\u001b[39;49m\u001b[43mgeocode\u001b[49m\u001b[43m(\u001b[49m\u001b[43maddress\u001b[49m\u001b[43m)\u001b[49m\n\u001b[0;32m     11\u001b[0m     \u001b[38;5;28;01mif\u001b[39;00m location:\n\u001b[0;32m     12\u001b[0m         \u001b[38;5;28;01mreturn\u001b[39;00m (location\u001b[38;5;241m.\u001b[39mlatitude, location\u001b[38;5;241m.\u001b[39mlongitude)\n",
      "File \u001b[1;32mc:\\Users\\wilso\\AppData\\Local\\Programs\\Python\\Python312\\Lib\\site-packages\\geopy\\geocoders\\nominatim.py:297\u001b[0m, in \u001b[0;36mNominatim.geocode\u001b[1;34m(self, query, exactly_one, timeout, limit, addressdetails, language, geometry, extratags, country_codes, viewbox, bounded, featuretype, namedetails)\u001b[0m\n\u001b[0;32m    295\u001b[0m logger\u001b[38;5;241m.\u001b[39mdebug(\u001b[38;5;124m\"\u001b[39m\u001b[38;5;132;01m%s\u001b[39;00m\u001b[38;5;124m.geocode: \u001b[39m\u001b[38;5;132;01m%s\u001b[39;00m\u001b[38;5;124m\"\u001b[39m, \u001b[38;5;28mself\u001b[39m\u001b[38;5;241m.\u001b[39m\u001b[38;5;18m__class__\u001b[39m\u001b[38;5;241m.\u001b[39m\u001b[38;5;18m__name__\u001b[39m, url)\n\u001b[0;32m    296\u001b[0m callback \u001b[38;5;241m=\u001b[39m partial(\u001b[38;5;28mself\u001b[39m\u001b[38;5;241m.\u001b[39m_parse_json, exactly_one\u001b[38;5;241m=\u001b[39mexactly_one)\n\u001b[1;32m--> 297\u001b[0m \u001b[38;5;28;01mreturn\u001b[39;00m \u001b[38;5;28;43mself\u001b[39;49m\u001b[38;5;241;43m.\u001b[39;49m\u001b[43m_call_geocoder\u001b[49m\u001b[43m(\u001b[49m\u001b[43murl\u001b[49m\u001b[43m,\u001b[49m\u001b[43m \u001b[49m\u001b[43mcallback\u001b[49m\u001b[43m,\u001b[49m\u001b[43m \u001b[49m\u001b[43mtimeout\u001b[49m\u001b[38;5;241;43m=\u001b[39;49m\u001b[43mtimeout\u001b[49m\u001b[43m)\u001b[49m\n",
      "File \u001b[1;32mc:\\Users\\wilso\\AppData\\Local\\Programs\\Python\\Python312\\Lib\\site-packages\\geopy\\geocoders\\base.py:388\u001b[0m, in \u001b[0;36mGeocoder._call_geocoder\u001b[1;34m(self, url, callback, timeout, is_json, headers)\u001b[0m\n\u001b[0;32m    386\u001b[0m         \u001b[38;5;28;01mreturn\u001b[39;00m callback(result)\n\u001b[0;32m    387\u001b[0m \u001b[38;5;28;01mexcept\u001b[39;00m \u001b[38;5;167;01mException\u001b[39;00m \u001b[38;5;28;01mas\u001b[39;00m error:\n\u001b[1;32m--> 388\u001b[0m     res \u001b[38;5;241m=\u001b[39m \u001b[38;5;28;43mself\u001b[39;49m\u001b[38;5;241;43m.\u001b[39;49m\u001b[43m_adapter_error_handler\u001b[49m\u001b[43m(\u001b[49m\u001b[43merror\u001b[49m\u001b[43m)\u001b[49m\n\u001b[0;32m    389\u001b[0m     \u001b[38;5;28;01mif\u001b[39;00m res \u001b[38;5;129;01mis\u001b[39;00m NONE_RESULT:\n\u001b[0;32m    390\u001b[0m         \u001b[38;5;28;01mreturn\u001b[39;00m \u001b[38;5;28;01mNone\u001b[39;00m\n",
      "File \u001b[1;32mc:\\Users\\wilso\\AppData\\Local\\Programs\\Python\\Python312\\Lib\\site-packages\\geopy\\geocoders\\base.py:411\u001b[0m, in \u001b[0;36mGeocoder._adapter_error_handler\u001b[1;34m(self, error)\u001b[0m\n\u001b[0;32m    407\u001b[0m         \u001b[38;5;28;01mraise\u001b[39;00m exc_cls(\n\u001b[0;32m    408\u001b[0m             \u001b[38;5;28mstr\u001b[39m(error), retry_after\u001b[38;5;241m=\u001b[39mget_retry_after(error\u001b[38;5;241m.\u001b[39mheaders)\n\u001b[0;32m    409\u001b[0m         ) \u001b[38;5;28;01mfrom\u001b[39;00m \u001b[38;5;21;01merror\u001b[39;00m\n\u001b[0;32m    410\u001b[0m     \u001b[38;5;28;01melse\u001b[39;00m:\n\u001b[1;32m--> 411\u001b[0m         \u001b[38;5;28;01mraise\u001b[39;00m exc_cls(\u001b[38;5;28mstr\u001b[39m(error)) \u001b[38;5;28;01mfrom\u001b[39;00m \u001b[38;5;21;01merror\u001b[39;00m\n\u001b[0;32m    412\u001b[0m \u001b[38;5;28;01melse\u001b[39;00m:\n\u001b[0;32m    413\u001b[0m     res \u001b[38;5;241m=\u001b[39m \u001b[38;5;28mself\u001b[39m\u001b[38;5;241m.\u001b[39m_geocoder_exception_handler(error)\n",
      "\u001b[1;31mGeocoderInsufficientPrivileges\u001b[0m: Non-successful status code 403"
     ]
    }
   ],
   "source": [
    "from geopy.geocoders import Nominatim\n",
    "from geopy.distance import geodesic\n",
    "import numpy as np\n",
    "import pandas as pd\n",
    "\n",
    "\n",
    "# Function to convert addresses to latitude/longitude\n",
    "def geocode_address(address):\n",
    "    geolocator = Nominatim(user_agent=\"geoapiExercises\")\n",
    "    location = geolocator.geocode(address)\n",
    "    if location:\n",
    "        return (location.latitude, location.longitude)\n",
    "    else:\n",
    "        raise ValueError(f\"Could not geocode address: {address}\")\n",
    "\n",
    "\n",
    "def is_within_geodesic_distance(origins: np.ndarray, destinations: np.ndarray, max_distance: float) -> pd.DataFrame:\n",
    "    \"\"\"Check if the geodesic travel time from each origin to each destination is within a specified time.\n",
    "\n",
    "    Parameters:\n",
    "        origins (ndarray): Array of starting addresses.\n",
    "        destinations (ndarray): Array of destination addresses.\n",
    "        max_distance (float): Maximum distance in miles.\n",
    "\n",
    "    Returns:\n",
    "        DataFrame: A DataFrame indicating which destinations are within the specified travel time from each origin.\n",
    "    \"\"\"\n",
    "    # Convert travel time to maximum distance in km\n",
    "    max_distance_km = max_distance * 1.60934\n",
    "\n",
    "    # Geocode the origins and destinations\n",
    "    origins_coords = [geocode_address(origin) for origin in origins]\n",
    "    destinations_coords = [geocode_address(destination) for destination in destinations]\n",
    "\n",
    "    n, m = len(origins), len(destinations)\n",
    "    within_distance_final = np.zeros((n, m), dtype=bool)\n",
    "\n",
    "    for i, origin_coord in enumerate(origins_coords):\n",
    "        within_distance = []\n",
    "        for destination_coord in destinations_coords:\n",
    "            distance_km = geodesic(origin_coord, destination_coord).kilometers\n",
    "            within_distance.append(distance_km <= max_distance_km)\n",
    "\n",
    "        within_distance_final[i, :] = np.array(within_distance)\n",
    "\n",
    "    return pd.DataFrame(data=within_distance_final, columns=destinations, index=origins)\n",
    "\n",
    "\n",
    "# Example Usage\n",
    "origin_addresses = np.array([\n",
    "    \"1600 Amphitheatre Parkway, Mountain View, CA\",\n",
    "    \"1 Infinite Loop, Cupertino, CA\"\n",
    "])\n",
    "destination_addresses = np.array([\n",
    "    \"San Francisco, CA\",\n",
    "    \"San Jose, CA\",\n",
    "    \"Palo Alto, CA\"\n",
    "])\n",
    "\n",
    "# Check destinations within a 10-minute drive (assuming an average speed of 60 km/h)\n",
    "max_distance = 4\n",
    "result = is_within_geodesic_distance(origin_addresses, destination_addresses, max_distance)\n",
    "print(result)\n"
   ]
  },
  {
   "cell_type": "code",
   "execution_count": 93,
   "id": "7dc9d4f0",
   "metadata": {},
   "outputs": [],
   "source": [
    "df = pd.read_csv('Unique Churro Places LA.csv')\n",
    "\n",
    "origin_list = [\n",
    "    \"2300 Harbor Blvd, Costa Mesa, CA 92626, United States\",\n",
    "    \"1524 Sunset Blvd, Los Angeles, CA 90026, United States\",\n",
    "    \"12405 Washington Blvd, Los Angeles, CA 90066, United States\",\n",
    "    \"131 N Larchmont Blvd, Los Angeles, CA 90004, United States\",\n",
    "    \"1534 Montana Ave, Santa Monica, CA 90403, USA\",\n",
    "    \"4455 Los Feliz Blvd, Los Angeles, CA 90027, United States\",\n",
    "    \"100 S Avenue 64, Highland Park, CA 90042, USA\",\n",
    "    \"600 N Brand Blvd, Glendale, CA 91203, USA\",\n",
    "    \"9615 S Santa Monica Blvd, Beverly Hills, CA 90210, USA\",\n",
    "    \"96 E Colorado Blvd, Pasadena, CA 91105, United States\",\n",
    "]\n",
    "\n",
    "churro_list = list(df['Address'])\n",
    "\n",
    "times_df = is_within_time(origin_list, churro_list)\n"
   ]
  },
  {
   "cell_type": "code",
   "execution_count": 94,
   "id": "349704aa",
   "metadata": {},
   "outputs": [],
   "source": [
    "# times_df.to_csv('times_df.csv', index=False)\n"
   ]
  },
  {
   "cell_type": "code",
   "execution_count": 127,
   "id": "86936ddc",
   "metadata": {},
   "outputs": [
    {
     "data": {
      "text/plain": [
       "20"
      ]
     },
     "execution_count": 127,
     "metadata": {},
     "output_type": "execute_result"
    }
   ],
   "source": [
    "max_time = 900\n",
    "\n",
    "is_within_time = times_df.values < max_time\n",
    "\n",
    "is_within_time.sum()"
   ]
  },
  {
   "cell_type": "code",
   "execution_count": 129,
   "id": "34e1cfcb",
   "metadata": {},
   "outputs": [],
   "source": [
    "i_arr, j_arr = np.nonzero(is_within_time)"
   ]
  },
  {
   "cell_type": "code",
   "execution_count": 131,
   "id": "b75f0781",
   "metadata": {},
   "outputs": [
    {
     "name": "stdout",
     "output_type": "stream",
     "text": [
      "20\n"
     ]
    }
   ],
   "source": [
    "print(len(j_arr))"
   ]
  },
  {
   "cell_type": "code",
   "execution_count": 130,
   "id": "5977b5de",
   "metadata": {},
   "outputs": [
    {
     "name": "stdout",
     "output_type": "stream",
     "text": [
      "10\n"
     ]
    }
   ],
   "source": [
    "print(len(np.unique(j_arr)))"
   ]
  },
  {
   "cell_type": "code",
   "execution_count": 132,
   "id": "7e833956",
   "metadata": {},
   "outputs": [
    {
     "name": "stdout",
     "output_type": "stream",
     "text": [
      "[1 1 1 1 1 1 1 2 2 3 5 5 5 6 6 6 6 7 7 8]\n",
      "[ 0  1  2  5  6  8 11 12 15  3  3  5 11  0  2  5  8  5 11 12]\n"
     ]
    }
   ],
   "source": [
    "print(i_arr)\n",
    "print(j_arr)"
   ]
  },
  {
   "cell_type": "code",
   "execution_count": 166,
   "id": "36c50d96",
   "metadata": {},
   "outputs": [],
   "source": [
    "origin_names = [\n",
    "    \"Culver city\",\n",
    "    \"Hancock Park\", \n",
    "    \"Griffith Park\",\n",
    "    \"Highland Park\", \n",
    "    \"Palisades Park\",\n",
    "    \"Glendale\",\n",
    "    \"Beverly Hills\",\n",
    "    \"Pasadena\",\n",
    "]"
   ]
  },
  {
   "cell_type": "code",
   "execution_count": 165,
   "id": "c9b66884",
   "metadata": {},
   "outputs": [],
   "source": [
    "new_i_list = []\n",
    "new_j_list = []\n",
    "\n",
    "for k in range(len(churro_list)):\n",
    "    if k not in j_arr:\n",
    "        continue\n",
    "    \n",
    "    same_loc = i_arr[j_arr == k]\n",
    "    \n",
    "    closest_dist = np.inf\n",
    "    \n",
    "    for loc in same_loc:\n",
    "        if times_df.iloc[loc, k] < closest_dist:\n",
    "            closest_dist = times_df.iloc[loc, k]\n",
    "            closest_loc = loc\n",
    "    \n",
    "    new_i_list.append(closest_loc)\n",
    "    new_j_list.append(k)\n",
    "\n",
    "sort_mask = np.argsort(new_i_list)\n",
    "new_i_arr = np.array(new_i_list)[sort_mask]\n",
    "new_j_arr = np.array(new_j_list)[sort_mask]"
   ]
  },
  {
   "cell_type": "code",
   "execution_count": 167,
   "id": "403e1326",
   "metadata": {},
   "outputs": [],
   "source": [
    "comb_arr = list(map(tuple, np.vstack((new_i_arr, new_j_arr)).T))\n"
   ]
  },
  {
   "cell_type": "code",
   "execution_count": 168,
   "id": "33c451fa",
   "metadata": {},
   "outputs": [
    {
     "name": "stdout",
     "output_type": "stream",
     "text": [
      "Origin Name: Culver city\n",
      "Origin Address: 1524 Sunset Blvd, Los Angeles, CA 90026, United States\n",
      "Destination Name: Mr. Churro\n",
      "Destination Address: E-12 Olvera St # C, Los Angeles, CA 90012, Estados Unidos\n",
      "\n",
      "Origin Name: Culver city\n",
      "Origin Address: 1524 Sunset Blvd, Los Angeles, CA 90026, United States\n",
      "Destination Name: Ridges Churro Bar\n",
      "Destination Address: Los Angeles, CA 90014, Estados Unidos\n",
      "\n",
      "Origin Name: Culver city\n",
      "Origin Address: 1524 Sunset Blvd, Los Angeles, CA 90026, United States\n",
      "Destination Name: La Churreria\n",
      "Destination Address: 532 S Olive St, Los Angeles, CA 90013, Estados Unidos\n",
      "\n",
      "Origin Name: Culver city\n",
      "Origin Address: 1524 Sunset Blvd, Los Angeles, CA 90026, United States\n",
      "Destination Name: crepes n churros\n",
      "Destination Address: 2744 1st St, Los Angeles, CA 90033, Estados Unidos\n",
      "\n",
      "Origin Name: Culver city\n",
      "Origin Address: 1524 Sunset Blvd, Los Angeles, CA 90026, United States\n",
      "Destination Name: Salinas Churros\n",
      "Destination Address: 918 S Lorena St, Los Angeles, CA 90023, Estados Unidos\n",
      "\n",
      "Origin Name: Hancock Park\n",
      "Origin Address: 12405 Washington Blvd, Los Angeles, CA 90066, United States\n",
      "Destination Name: Azucanela Churros & Coffee - Culver City (Westfield Mall)\n",
      "Destination Address: Westfield Mall(2nd Floor next to macys, 6000 Sepulveda Blvd #2507, Culver City, CA 90230, Estados Unidos\n",
      "\n",
      "Origin Name: Palisades Park\n",
      "Origin Address: 4455 Los Feliz Blvd, Los Angeles, CA 90027, United States\n",
      "Destination Name: Churros El Gorilla\n",
      "Destination Address: 5525 Sunset Blvd, Los Angeles, CA 90028, Estados Unidos\n",
      "\n",
      "Origin Name: Glendale\n",
      "Origin Address: 100 S Avenue 64, Highland Park, CA 90042, USA\n",
      "Destination Name: Churros El Bochito\n",
      "Destination Address: 1157 Cypress Ave, Los Angeles, CA 90065, Estados Unidos\n",
      "\n",
      "Origin Name: Beverly Hills\n",
      "Origin Address: 600 N Brand Blvd, Glendale, CA 91203, USA\n",
      "Destination Name: Churro Factory\n",
      "Destination Address: 5333 Zoo Dr, Los Angeles, CA 90027, Estados Unidos\n",
      "\n",
      "Origin Name: Pasadena\n",
      "Origin Address: 9615 S Santa Monica Blvd, Beverly Hills, CA 90210, USA\n",
      "Destination Name: Churros y platanos\n",
      "Destination Address: Los Angeles, CA 90034, Estados Unidos\n",
      "\n"
     ]
    }
   ],
   "source": [
    "occurence_list = []\n",
    "c = 0\n",
    "\n",
    "for i, j in comb_arr:\n",
    "    \n",
    "    occurence_list.append(j)\n",
    "    \n",
    "    print(f\"Origin Name: {origin_names[i-1]}\")\n",
    "    print(f\"Origin Address: {origin_list[i]}\")\n",
    "    print(f\"Destination Name: {df['Name'][j]}\")\n",
    "    print(f\"Destination Address: {churro_list[j]}\")\n",
    "    print(\"\")\n",
    "    \n",
    "    # Count how many unique places are within the time limit\n",
    "    c += 1"
   ]
  },
  {
   "cell_type": "code",
   "execution_count": null,
   "id": "563a29f4",
   "metadata": {},
   "outputs": [],
   "source": [
    "\"\"\"\n",
    "\n",
    "Origin Name: Culver city\n",
    "Origin Address: 1524 Sunset Blvd, Los Angeles, CA 90026, United States\n",
    "Destination Name: Mr. Churro\n",
    "Destination Address: E-12 Olvera St # C, Los Angeles, CA 90012, Estados Unidos\n",
    "\n",
    "Origin Name: Culver city\n",
    "Origin Address: 1524 Sunset Blvd, Los Angeles, CA 90026, United States\n",
    "Destination Name: Ridges Churro Bar\n",
    "Destination Address: Los Angeles, CA 90014, Estados Unidos\n",
    "\n",
    "Origin Name: Culver city\n",
    "Origin Address: 1524 Sunset Blvd, Los Angeles, CA 90026, United States\n",
    "Destination Name: La Churreria\n",
    "Destination Address: 532 S Olive St, Los Angeles, CA 90013, Estados Unidos\n",
    "\n",
    "Origin Name: Culver city\n",
    "Origin Address: 1524 Sunset Blvd, Los Angeles, CA 90026, United States\n",
    "Destination Name: crepes n churros\n",
    "Destination Address: 2744 1st St, Los Angeles, CA 90033, Estados Unidos\n",
    "\n",
    "Origin Name: Culver city\n",
    "Origin Address: 1524 Sunset Blvd, Los Angeles, CA 90026, United States\n",
    "Destination Name: Salinas Churros\n",
    "Destination Address: 918 S Lorena St, Los Angeles, CA 90023, Estados Unidos\n",
    "\n",
    "Origin Name: Hancock Park\n",
    "Origin Address: 12405 Washington Blvd, Los Angeles, CA 90066, United States\n",
    "Destination Name: Azucanela Churros & Coffee - Culver City (Westfield Mall)\n",
    "Destination Address: Westfield Mall(2nd Floor next to macys, 6000 Sepulveda Blvd #2507, Culver City, CA 90230, Estados Unidos\n",
    "\n",
    "Origin Name: Palisades Park\n",
    "Origin Address: 4455 Los Feliz Blvd, Los Angeles, CA 90027, United States\n",
    "Destination Name: Churros El Gorilla\n",
    "Destination Address: 5525 Sunset Blvd, Los Angeles, CA 90028, Estados Unidos\n",
    "\n",
    "Origin Name: Glendale\n",
    "Origin Address: 100 S Avenue 64, Highland Park, CA 90042, USA\n",
    "Destination Name: Churros El Bochito\n",
    "Destination Address: 1157 Cypress Ave, Los Angeles, CA 90065, Estados Unidos\n",
    "\n",
    "Origin Name: Beverly Hills\n",
    "Origin Address: 600 N Brand Blvd, Glendale, CA 91203, USA\n",
    "Destination Name: Churro Factory\n",
    "Destination Address: 5333 Zoo Dr, Los Angeles, CA 90027, Estados Unidos\n",
    "\n",
    "Origin Name: Pasadena\n",
    "Origin Address: 9615 S Santa Monica Blvd, Beverly Hills, CA 90210, USA\n",
    "Destination Name: Churros y platanos\n",
    "Destination Address: Los Angeles, CA 90034, Estados Unidos\n",
    "\n",
    "\n",
    "\n",
    "\"\"\""
   ]
  }
 ],
 "metadata": {
  "kernelspec": {
   "display_name": "Python 3",
   "language": "python",
   "name": "python3"
  },
  "language_info": {
   "codemirror_mode": {
    "name": "ipython",
    "version": 3
   },
   "file_extension": ".py",
   "mimetype": "text/x-python",
   "name": "python",
   "nbconvert_exporter": "python",
   "pygments_lexer": "ipython3",
   "version": "3.12.1"
  }
 },
 "nbformat": 4,
 "nbformat_minor": 5
}
