{
 "cells": [
  {
   "cell_type": "code",
   "execution_count": 66,
   "id": "initial_id",
   "metadata": {
    "collapsed": true
   },
   "outputs": [
    {
     "name": "stdout",
     "output_type": "stream",
     "text": [
      "Requirement already satisfied: pandas in c:\\users\\wilso\\appdata\\local\\programs\\python\\python312\\lib\\site-packages (2.2.2)\n",
      "Requirement already satisfied: numpy>=1.26.0 in c:\\users\\wilso\\appdata\\local\\programs\\python\\python312\\lib\\site-packages (from pandas) (1.26.3)\n",
      "Requirement already satisfied: python-dateutil>=2.8.2 in c:\\users\\wilso\\appdata\\roaming\\python\\python312\\site-packages (from pandas) (2.8.2)\n",
      "Requirement already satisfied: pytz>=2020.1 in c:\\users\\wilso\\appdata\\local\\programs\\python\\python312\\lib\\site-packages (from pandas) (2024.1)\n",
      "Requirement already satisfied: tzdata>=2022.7 in c:\\users\\wilso\\appdata\\local\\programs\\python\\python312\\lib\\site-packages (from pandas) (2023.4)\n",
      "Requirement already satisfied: six>=1.5 in c:\\users\\wilso\\appdata\\roaming\\python\\python312\\site-packages (from python-dateutil>=2.8.2->pandas) (1.16.0)\n",
      "Note: you may need to restart the kernel to use updated packages.\n",
      "Requirement already satisfied: selenium in c:\\users\\wilso\\appdata\\local\\programs\\python\\python312\\lib\\site-packages (4.20.0)\n",
      "Requirement already satisfied: urllib3<3,>=1.26 in c:\\users\\wilso\\appdata\\local\\programs\\python\\python312\\lib\\site-packages (from urllib3[socks]<3,>=1.26->selenium) (2.0.7)\n",
      "Requirement already satisfied: trio~=0.17 in c:\\users\\wilso\\appdata\\local\\programs\\python\\python312\\lib\\site-packages (from selenium) (0.25.0)\n",
      "Requirement already satisfied: trio-websocket~=0.9 in c:\\users\\wilso\\appdata\\local\\programs\\python\\python312\\lib\\site-packages (from selenium) (0.11.1)\n",
      "Requirement already satisfied: certifi>=2021.10.8 in c:\\users\\wilso\\appdata\\local\\programs\\python\\python312\\lib\\site-packages (from selenium) (2023.11.17)\n",
      "Requirement already satisfied: typing_extensions>=4.9.0 in c:\\users\\wilso\\appdata\\local\\programs\\python\\python312\\lib\\site-packages (from selenium) (4.9.0)\n",
      "Requirement already satisfied: attrs>=23.2.0 in c:\\users\\wilso\\appdata\\local\\programs\\python\\python312\\lib\\site-packages (from trio~=0.17->selenium) (23.2.0)\n",
      "Requirement already satisfied: sortedcontainers in c:\\users\\wilso\\appdata\\local\\programs\\python\\python312\\lib\\site-packages (from trio~=0.17->selenium) (2.4.0)\n",
      "Requirement already satisfied: idna in c:\\users\\wilso\\appdata\\local\\programs\\python\\python312\\lib\\site-packages (from trio~=0.17->selenium) (3.6)\n",
      "Requirement already satisfied: outcome in c:\\users\\wilso\\appdata\\local\\programs\\python\\python312\\lib\\site-packages (from trio~=0.17->selenium) (1.3.0.post0)\n",
      "Requirement already satisfied: sniffio>=1.3.0 in c:\\users\\wilso\\appdata\\local\\programs\\python\\python312\\lib\\site-packages (from trio~=0.17->selenium) (1.3.0)\n",
      "Requirement already satisfied: cffi>=1.14 in c:\\users\\wilso\\appdata\\local\\programs\\python\\python312\\lib\\site-packages (from trio~=0.17->selenium) (1.16.0)\n",
      "Requirement already satisfied: wsproto>=0.14 in c:\\users\\wilso\\appdata\\local\\programs\\python\\python312\\lib\\site-packages (from trio-websocket~=0.9->selenium) (1.2.0)\n",
      "Requirement already satisfied: pysocks!=1.5.7,<2.0,>=1.5.6 in c:\\users\\wilso\\appdata\\local\\programs\\python\\python312\\lib\\site-packages (from urllib3[socks]<3,>=1.26->selenium) (1.7.1)\n",
      "Requirement already satisfied: pycparser in c:\\users\\wilso\\appdata\\local\\programs\\python\\python312\\lib\\site-packages (from cffi>=1.14->trio~=0.17->selenium) (2.21)\n",
      "Requirement already satisfied: h11<1,>=0.9.0 in c:\\users\\wilso\\appdata\\local\\programs\\python\\python312\\lib\\site-packages (from wsproto>=0.14->trio-websocket~=0.9->selenium) (0.14.0)\n",
      "Note: you may need to restart the kernel to use updated packages.\n",
      "Requirement already satisfied: Pyarrow in c:\\users\\wilso\\appdata\\local\\programs\\python\\python312\\lib\\site-packages (16.0.0)\n",
      "Requirement already satisfied: numpy>=1.16.6 in c:\\users\\wilso\\appdata\\local\\programs\\python\\python312\\lib\\site-packages (from Pyarrow) (1.26.3)\n",
      "Note: you may need to restart the kernel to use updated packages.\n"
     ]
    }
   ],
   "source": [
    "%pip install pandas\n",
    "%pip install selenium\n",
    "%pip install Pyarrow"
   ]
  },
  {
   "cell_type": "code",
   "execution_count": 8,
   "id": "f8c6dfb79cac2600",
   "metadata": {
    "ExecuteTime": {
     "start_time": "2024-03-18T19:04:57.368567Z"
    },
    "collapsed": false,
    "is_executing": true
   },
   "outputs": [
    {
     "name": "stdout",
     "output_type": "stream",
     "text": [
      "Churros\n",
      "Los Angeles, CA\n",
      "Churros in Los Angeles, CA\n",
      "0\n",
      "1\n",
      "2\n",
      "3\n",
      "4\n",
      "30\n",
      "['Churros', 'Los Angeles, CA', 'Mr. Churro', '·$', '4.3', '493', 'E-12 Olvera St # C, Los Angeles, CA 90012, Estados Unidos', '', None, None]\n",
      "['Churros', 'Los Angeles, CA', 'Ridges Churro Bar', 'Tienda de postres', '2.8', '4', 'Los Angeles, CA 90014, Estados Unidos', None, '', 'http://instagram.com/ridgeschurrobar']\n",
      "['Churros', 'Los Angeles, CA', 'La Churreria', 'Tienda de postres', '3.7', '3', '532 S Olive St, Los Angeles, CA 90013, Estados Unidos', None, None, None]\n",
      "Error extracting place with url: https://www.google.com/maps/place/Churros+Calientes/data=!4m7!3m6!1s0x80c2bb6f92c3175d:0x735a857a04b3ab45!8m2!3d34.0453847!4d-118.4528003!16s%2Fg%2F1tdmvwy4!19sChIJXRfDkm-7woARRauzBHqFWnM?authuser=0&hl=es-419&rclk=1. Error: argument of type 'NoneType' is not iterable\n",
      "['Churros', 'Los Angeles, CA', 'Churros El Gorilla', 'Restaurante de postres', '5.0', '11', '5525 Sunset Blvd, Los Angeles, CA 90028, Estados Unidos', '\\ue0b0\\n+1 747-258-8650', None, None]\n",
      "Error extracting place with url: https://www.google.com/maps/place/Juanitos+churros/data=!4m7!3m6!1s0x80c2c71905108697:0x7db9b984196aed10!8m2!3d34.0395879!4d-118.2133021!16s%2Fg%2F11txfljlr3!19sChIJl4YQBRnHwoAREO1qGYS5uX0?authuser=0&hl=es-419&rclk=1. Error: list index out of range\n",
      "['Churros', 'Los Angeles, CA', 'Churros Estilo Guadalajara', 'Tienda de postres', '4.8', '10', '4025 S Central Ave, Los Angeles, CA 90011, Estados Unidos', '\\ue0b0\\n+1 323-604-8135', None, None]\n",
      "['Churros', 'Los Angeles, CA', 'Churros El Bochito', 'Restaurante', '4.2', '20', '1157 Cypress Ave, Los Angeles, CA 90065, Estados Unidos', '', None, None]\n",
      "['Churros', 'Los Angeles, CA', 'crepes n churros', 'Crepería', '3.5', '11', '2744 1st St, Los Angeles, CA 90033, Estados Unidos', '\\ue0b0\\n+1 323-338-1863', None, None]\n",
      "['Churros', 'Los Angeles, CA', 'Sr. Churro', 'Restaurante', '4.7', '21', '11019 S Alameda St, Los Angeles, CA 90059, Estados Unidos', '\\ue0b0\\n+1 323-629-1092', None, None]\n",
      "Error extracting place with url: https://www.google.com/maps/place/Chevitos+Churros+Y+Mas/data=!4m7!3m6!1s0x80c2c983e3f2eab5:0xf74f8263d3f7c6dc!8m2!3d33.9376444!4d-118.2913311!16s%2Fg%2F11rz3gvctt!19sChIJtery44PJwoAR3Mb302OCT_c?authuser=0&hl=es-419&rclk=1. Error: argument of type 'NoneType' is not iterable\n",
      "['Churros', 'Los Angeles, CA', 'Salinas Churros', 'Churrería', '3.7', '34', '918 S Lorena St, Los Angeles, CA 90023, Estados Unidos', None, '', 'https://instagram.com/salinaschurros?igshid=YmMyMTA2M2Y=']\n",
      "Error extracting place with url: https://www.google.com/maps/place/Churros/data=!4m7!3m6!1s0x80c2c781615eb3db:0x6e62e31cc43f1afc!8m2!3d34.0347386!4d-118.2572438!16s%2Fg%2F11sxvxc0ht!19sChIJ27NeYYHHwoAR_Bo_xBzjYm4?authuser=0&hl=es-419&rclk=1. Error: list index out of range\n",
      "['Churros', 'Los Angeles, CA', 'Churros carrusel', 'Tienda de postres', '4.5', '15', 'Churros carrusel, Los Angeles, CA 90003, Estados Unidos', None, None, None]\n",
      "['Churros', 'Los Angeles, CA', 'Churros el torrrro', 'Tienda de postres', '4.5', '2', '1104 Hoover St, Los Angeles, CA 90006, Estados Unidos', '\\ue0b0\\n+1 213-531-6707', None, None]\n",
      "['Churros', 'Los Angeles, CA', 'Churro Factory', 'Churrería', '5.0', '1', '5333 Zoo Dr, Los Angeles, CA 90027, Estados Unidos', None, None, None]\n",
      "['Churros', 'Los Angeles, CA', 'Churros y platanos', 'Churrería', '5.0', '17', 'Los Angeles, CA 90034, Estados Unidos', None, None, None]\n",
      "['Churros', 'Los Angeles, CA', 'Churros La Paloma', 'Mobile caterer', '4.3', '20', '6101 S Central Ave, Los Angeles, CA 90001, Estados Unidos', '', None, None]\n",
      "['Churros', 'Los Angeles, CA', 'The Churros Bros', 'Churrería', '3.7', '3', '738 S Fetterly Ave, Los Angeles, CA 90022, Estados Unidos', None, None, None]\n",
      "['Churros', 'Los Angeles, CA', 'Azucanela Churros & Coffee - Culver City (Westfield Mall)', 'Tienda de postres', '4.5', '28', 'Westfield Mall(2nd Floor next to macys, 6000 Sepulveda Blvd #2507, Culver City, CA 90230, Estados Unidos', '\\ue0b0\\n+1 310-313-3619', 'info@azucanela.com', 'https://www.azucanela.com/']\n",
      "['Churros', 'Los Angeles, CA', 'Churro Factory', 'Churrería', '5.0', '1', '5333 Zoo Dr, Los Angeles, CA 90027, Estados Unidos', None, None, None]\n",
      "['Churros', 'Los Angeles, CA', 'The Churros Bros', 'Churrería', '3.7', '3', '738 S Fetterly Ave, Los Angeles, CA 90022, Estados Unidos', None, None, None]\n",
      "['Churros', 'Los Angeles, CA', 'Lucero Bakery', '·$', '4.4', '612', '6307 E Gage Ave, Commerce, CA 90040, Estados Unidos', '\\ue0b0\\n+1 323-560-8955', None, None]\n",
      "Error extracting place with url: https://www.google.com/maps/place/Pap%C3%A1+Churros/data=!4m7!3m6!1s0x80c2cdaab4ffbd7d:0x58893f88ee28a47a!8m2!3d33.9323971!4d-118.1453129!16s%2Fg%2F11vc6pyc01!19sChIJfb3_tKrNwoAReqQo7og_iVg?authuser=0&hl=es-419&rclk=1. Error: argument of type 'NoneType' is not iterable\n",
      "['Churros', 'Los Angeles, CA', 'The Churro Joint', 'Churrería', '4.7', '19', '905 S Prairie Ave Ste. D, Inglewood, CA 90301, Estados Unidos', '\\ue0b0\\n+1 424-227-8069', None, None]\n",
      "['Churros', 'Los Angeles, CA', 'Los Angeles Churros Catering', 'Catering food and drink supplier', '5.0', '40', None, '\\ue0b0\\n+1 818-397-6030', '', 'https://losangeleschurroscatering.com/']\n",
      "Error extracting place with url: https://www.google.com/maps/place/La+Flor+De+Yucatan+Bakery/data=!4m7!3m6!1s0x80c2c793c5b671b1:0x2b4a157270528f21!8m2!3d34.0416491!4d-118.2839248!16s%2Fg%2F1v44qpjp!19sChIJsXG2xZPHwoARIY9ScHIVSis?authuser=0&hl=es-419&rclk=1. Error: list index out of range\n",
      "['Churros', 'Los Angeles, CA', 'CHURROSMX', 'Churrería', '5.0', '8', '1431 S Atlantic Blvd, East Los Angeles, Los Angeles, CA 90022, Estados Unidos', None, None, None]\n",
      "['Churros', 'Los Angeles, CA', 'Lucero Cafe', '·$$', '4.6', '160', '6200 E Gage Ave, Bell Gardens, CA 90201, Estados Unidos', None, '', 'https://voltd.top/lucero-cafe']\n",
      "['Churros', 'Los Angeles, CA', 'Churros El Bom Bon', 'Churrería', '4.6', '15', '14104 S Vermont Ave, Gardena, CA 90247, Estados Unidos', '\\ue0b0\\n+1 310-422-4160', None, None]\n",
      "Message: invalid session id\n",
      "Stacktrace:\n",
      "\tGetHandleVerifier [0x00007FF727FB1502+60802]\n",
      "\t(No symbol) [0x00007FF727F2AC02]\n",
      "\t(No symbol) [0x00007FF727DE7B13]\n",
      "\t(No symbol) [0x00007FF727E28B6B]\n",
      "\t(No symbol) [0x00007FF727E29C21]\n",
      "\tGetHandleVerifier [0x00007FF7282B411D+3217821]\n",
      "\tGetHandleVerifier [0x00007FF7282F60B7+3488055]\n",
      "\tGetHandleVerifier [0x00007FF7282EF03F+3459263]\n",
      "\tGetHandleVerifier [0x00007FF72806B846+823494]\n",
      "\t(No symbol) [0x00007FF727F35F9F]\n",
      "\t(No symbol) [0x00007FF727F30EC4]\n",
      "\t(No symbol) [0x00007FF727F31052]\n",
      "\t(No symbol) [0x00007FF727F218A4]\n",
      "\tBaseThreadInitThunk [0x00007FF86FC9257D+29]\n",
      "\tRtlUserThreadStart [0x00007FF870D2AA48+40]\n",
      "\n",
      "Churreria\n",
      "Los Angeles, CA\n",
      "Churreria in Los Angeles, CA\n",
      "0\n",
      "1\n",
      "2\n",
      "3\n",
      "4\n",
      "30\n",
      "['Churreria', 'Los Angeles, CA', 'Mr. Churro', '·$', '4.3', '493', 'E-12 Olvera St # C, Los Angeles, CA 90012, Estados Unidos', '\\ue0b0\\n+1 213-680-9036', None, None]\n",
      "['Churreria', 'Los Angeles, CA', 'La Churreria', 'Tienda de postres·\\ue934', '3.7', '3', '532 S Olive St, Los Angeles, CA 90013, Estados Unidos', None, None, None]\n",
      "['Churreria', 'Los Angeles, CA', 'Ridges Churro Bar', 'Tienda de postres·\\ue934', '2.8', '4', 'Los Angeles, CA 90014, Estados Unidos', None, '', 'http://instagram.com/ridgeschurrobar']\n",
      "Error extracting place with url: https://www.google.com/maps/place/Churros+Calientes/data=!4m7!3m6!1s0x80c2bb6f92c3175d:0x735a857a04b3ab45!8m2!3d34.0453847!4d-118.4528003!16s%2Fg%2F1tdmvwy4!19sChIJXRfDkm-7woARRauzBHqFWnM?authuser=0&hl=es-419&rclk=1. Error: argument of type 'NoneType' is not iterable\n",
      "['Churreria', 'Los Angeles, CA', 'Churros El Bom Bon', 'Churrería·\\ue934', '4.6', '15', '14104 S Vermont Ave, Gardena, CA 90247, Estados Unidos', '\\ue0b0\\n+1 310-422-4160', None, None]\n",
      "['Churreria', 'Los Angeles, CA', 'Churros carrusel', 'Tienda de postres·\\ue934', '4.5', '15', 'Churros carrusel, Los Angeles, CA 90003, Estados Unidos', None, None, None]\n",
      "['Churreria', 'Los Angeles, CA', 'Churros y platanos', 'Churrería', '5.0', '17', 'Los Angeles, CA 90034, Estados Unidos', None, None, None]\n",
      "['Churreria', 'Los Angeles, CA', 'Salinas Churros', 'Churrería·\\ue934', '3.7', '34', '918 S Lorena St, Los Angeles, CA 90023, Estados Unidos', None, '', 'https://instagram.com/salinaschurros?igshid=YmMyMTA2M2Y=']\n",
      "['Churreria', 'Los Angeles, CA', 'The Churros Bros', 'Churrería·\\ue934', '3.7', '3', '738 S Fetterly Ave, Los Angeles, CA 90022, Estados Unidos', None, None, None]\n",
      "['Churreria', 'Los Angeles, CA', 'Churros Estilo Guadalajara', 'Tienda de postres·\\ue934', '4.8', '10', '4025 S Central Ave, Los Angeles, CA 90011, Estados Unidos', '\\ue0b0\\n+1 323-604-8135', None, None]\n",
      "['Churreria', 'Los Angeles, CA', 'Churro Factory', 'Churrería·\\ue934', '5.0', '1', '5333 Zoo Dr, Los Angeles, CA 90027, Estados Unidos', None, None, None]\n",
      "['Churreria', 'Los Angeles, CA', 'CHURROSMX', 'Churrería', '5.0', '8', '1431 S Atlantic Blvd, East Los Angeles, Los Angeles, CA 90022, Estados Unidos', None, None, None]\n",
      "['Churreria', 'Los Angeles, CA', 'crepes n churros', 'Crepería·\\ue934', '3.5', '11', '2744 1st St, Los Angeles, CA 90033, Estados Unidos', '\\ue0b0\\n+1 323-338-1863', None, None]\n",
      "['Churreria', 'Los Angeles, CA', 'Churros el torrrro', 'Tienda de postres', '4.5', '2', '1104 Hoover St, Los Angeles, CA 90006, Estados Unidos', '\\ue0b0\\n+1 213-531-6707', None, None]\n",
      "['Churreria', 'Los Angeles, CA', 'Churros El Gorilla', 'Restaurante de postres', '5.0', '11', '5525 Sunset Blvd, Los Angeles, CA 90028, Estados Unidos', '', None, None]\n",
      "Error extracting place with url: https://www.google.com/maps/place/Churros/data=!4m7!3m6!1s0x80c2c781615eb3db:0x6e62e31cc43f1afc!8m2!3d34.0347386!4d-118.2572438!16s%2Fg%2F11sxvxc0ht!19sChIJ27NeYYHHwoAR_Bo_xBzjYm4?authuser=0&hl=es-419&rclk=1. Error: list index out of range\n",
      "Error extracting place with url: https://www.google.com/maps/place/Juanitos+churros/data=!4m7!3m6!1s0x80c2c71905108697:0x7db9b984196aed10!8m2!3d34.0395879!4d-118.2133021!16s%2Fg%2F11txfljlr3!19sChIJl4YQBRnHwoAREO1qGYS5uX0?authuser=0&hl=es-419&rclk=1. Error: list index out of range\n",
      "['Churreria', 'Los Angeles, CA', 'Azucanela Churros & Coffee - Culver City (Westfield Mall)', 'Tienda de postres·\\ue934', '4.5', '28', 'Westfield Mall(2nd Floor next to macys, 6000 Sepulveda Blvd #2507, Culver City, CA 90230, Estados Unidos', '\\ue0b0\\n+1 310-313-3619', 'info@azucanela.com', 'https://www.azucanela.com/']\n",
      "['Churreria', 'Los Angeles, CA', 'Churros El Bochito', 'Restaurante·\\ue934', '4.2', '20', '1157 Cypress Ave, Los Angeles, CA 90065, Estados Unidos', '\\ue0b0\\n+1 213-820-0172', None, None]\n",
      "Error extracting place with url: https://www.google.com/maps/place/Chevitos+Churros+Y+Mas/data=!4m7!3m6!1s0x80c2c983e3f2eab5:0xf74f8263d3f7c6dc!8m2!3d33.9376444!4d-118.2913311!16s%2Fg%2F11rz3gvctt!19sChIJtery44PJwoAR3Mb302OCT_c?authuser=0&hl=es-419&rclk=1. Error: argument of type 'NoneType' is not iterable\n",
      "['Churreria', 'Los Angeles, CA', 'crepes n churros', 'Crepería·\\ue934', '3.5', '11', '2744 1st St, Los Angeles, CA 90033, Estados Unidos', '\\ue0b0\\n+1 323-338-1863', None, None]\n",
      "['Churreria', 'Los Angeles, CA', 'The Churro Joint', 'Churrería·\\ue934', '4.7', '19', '905 S Prairie Ave Ste. D, Inglewood, CA 90301, Estados Unidos', '\\ue0b0\\n+1 424-227-8069', None, None]\n",
      "Error extracting place with url: https://www.google.com/maps/place/Chevitos+Churros+Y+Mas/data=!4m7!3m6!1s0x80c2c983e3f2eab5:0xf74f8263d3f7c6dc!8m2!3d33.9376444!4d-118.2913311!16s%2Fg%2F11rz3gvctt!19sChIJtery44PJwoAR3Mb302OCT_c?authuser=0&hl=es-419&rclk=1. Error: argument of type 'NoneType' is not iterable\n",
      "['Churreria', 'Los Angeles, CA', 'Los Angeles Churros Catering', 'Catering food and drink supplier', '5.0', '40', None, '\\ue0b0\\n+1 818-397-6030', '', 'https://losangeleschurroscatering.com/']\n",
      "Error extracting place with url: https://www.google.com/maps/place/Churro+Buzz/data=!4m7!3m6!1s0x80dd4b425d91fd31:0x70629fc62895f2fa!8m2!3d33.8296051!4d-118.3494137!16s%2Fg%2F11ghrj6pvb!19sChIJMf2RXUJL3YAR-vKVKMafYnA?authuser=0&hl=es-419&rclk=1. Error: argument of type 'NoneType' is not iterable\n",
      "Error extracting place with url: https://www.google.com/maps/place/Pap%C3%A1+Churros/data=!4m7!3m6!1s0x80c2cdaab4ffbd7d:0x58893f88ee28a47a!8m2!3d33.9323971!4d-118.1453129!16s%2Fg%2F11vc6pyc01!19sChIJfb3_tKrNwoAReqQo7og_iVg?authuser=0&hl=es-419&rclk=1. Error: argument of type 'NoneType' is not iterable\n",
      "['Churreria', 'Los Angeles, CA', 'Churrito loco', '·$$', '4.6', '38', '5161 Pomona Blvd # 105, East Los Angeles, CA 90022, Estados Unidos', None, 'eatchurritoloco@gmail.com,605a7baede844d278b89dc95ae0a9123@sentry-next.wixpress.com,8eb368c655b84e029ed79ad7a5c1718e@sentry.wixpress.com', 'http://www.eatchurritoloco.com/']\n",
      "['Churreria', 'Los Angeles, CA', 'The Churro Man', 'Mobile caterer·\\ue934', '5.0', '9', '2600 W Victory Blvd, Burbank, CA 91505, Estados Unidos', '\\ue0b0\\n+1 818-600-1163', 'info@elchurroman.com', 'http://www.elchurroman.com/']\n",
      "['Churreria', 'Los Angeles, CA', 'Churrería La Gracia LLC', 'Tienda de postres·\\ue934', '5.0', '6', 'VRHM+76, Long Beach, CA 90605, Estados Unidos', None, None, None]\n",
      "['Churreria', 'Los Angeles, CA', 'Churros el torrrro', 'Tienda de postres', '4.5', '2', '1104 Hoover St, Los Angeles, CA 90006, Estados Unidos', '\\ue0b0\\n+1 213-531-6707', None, None]\n",
      "Message: invalid session id\n",
      "Stacktrace:\n",
      "\tGetHandleVerifier [0x00007FF727FB1502+60802]\n",
      "\t(No symbol) [0x00007FF727F2AC02]\n",
      "\t(No symbol) [0x00007FF727DE7B13]\n",
      "\t(No symbol) [0x00007FF727E28B6B]\n",
      "\t(No symbol) [0x00007FF727E29C21]\n",
      "\tGetHandleVerifier [0x00007FF7282B411D+3217821]\n",
      "\tGetHandleVerifier [0x00007FF7282F60B7+3488055]\n",
      "\tGetHandleVerifier [0x00007FF7282EF03F+3459263]\n",
      "\tGetHandleVerifier [0x00007FF72806B846+823494]\n",
      "\t(No symbol) [0x00007FF727F35F9F]\n",
      "\t(No symbol) [0x00007FF727F30EC4]\n",
      "\t(No symbol) [0x00007FF727F31052]\n",
      "\t(No symbol) [0x00007FF727F218A4]\n",
      "\tBaseThreadInitThunk [0x00007FF86FC9257D+29]\n",
      "\tRtlUserThreadStart [0x00007FF870D2AA48+40]\n",
      "\n"
     ]
    }
   ],
   "source": [
    "# Import necessary libraries\n",
    "from selenium import webdriver\n",
    "from selenium.webdriver import ActionChains\n",
    "from selenium.webdriver.common.actions.wheel_input import ScrollOrigin\n",
    "from selenium.webdriver.chrome.options import Options\n",
    "from selenium.webdriver.common.by import By\n",
    "import pandas as pd\n",
    "import time\n",
    "import re\n",
    "\n",
    "def extract_emails(website_url):\n",
    "    browser.get(website_url)\n",
    "    # Get the regular expressions pattern to match on\n",
    "    email_pattern = r\"[A-Za-z0-9._%+-]+@[A-Za-z0-9.-]+\\.[A-Z|a-z]{2,4}\"\n",
    "    # Get the html content for the page\n",
    "    html = browser.page_source\n",
    "    # Get a list of emails\n",
    "    emails = re.findall(email_pattern, html)\n",
    "    # Get a unique array of the emails on the page\n",
    "    unique_emails_arr = pd.DataFrame(columns=['email'],data=emails)['email'].unique()\n",
    "    # Convert to string with a comma delimiting them\n",
    "    unique_emails_str = ','.join(unique_emails_arr)\n",
    "    return unique_emails_str\n",
    "\n",
    "\n",
    "# Define a function to extract search results for a given search URL, location, and industry\n",
    "def extract_search_results(search_url,location,industry):\n",
    "\n",
    "    # Navigate to the search URL\n",
    "    browser.get(search_url)\n",
    "    \n",
    "    # Wait for the page to load\n",
    "    time.sleep(5)\n",
    "    \n",
    "    # Find the element to start scrolling from\n",
    "    start_scroll_element = browser.find_element(By.CLASS_NAME,\"hfpxzc\")\n",
    "    scroll_origin = ScrollOrigin.from_element(start_scroll_element)\n",
    "    \n",
    "    # Perform scrolling action to reveal more search results\n",
    "    for i in range(5):\n",
    "        print(i)\n",
    "        ActionChains(browser).scroll_from_origin(scroll_origin,0,1500*(i+1)).perform()\n",
    "        time.sleep(3)\n",
    "        \n",
    "    # Inner function to extract information about a specific place from its page\n",
    "    def extract_place_info(place_url):\n",
    "        browser.get(place_url)\n",
    "        time.sleep(3)\n",
    "        header_text = browser.find_element(By.CLASS_NAME,'lMbq3e').text\n",
    "        header_list = header_text.split(\"\\n\")\n",
    "        place_name = header_list[0]\n",
    "        reviews_stars = header_list[1]\n",
    "        num_of_reviews = header_list[2].strip('(').strip(')')\n",
    "        place_description = header_list[3]\n",
    "        \n",
    "        # Extract additional information like address, phone, and website\n",
    "        info_elements = browser.find_elements(By.CLASS_NAME, \"CsEnBe\")\n",
    "        website = None\n",
    "        phone = None\n",
    "        address = None\n",
    "        emails = None\n",
    "        \n",
    "        if english:\n",
    "            for info_element in info_elements:\n",
    "                aria_label = info_element.get_attribute(\"aria-label\")\n",
    "                if 'Address:' in aria_label:\n",
    "                    address = info_element.text\n",
    "                if 'Phone:' in aria_label:\n",
    "                    phone = info_element.text\n",
    "                if 'Website:' in aria_label:\n",
    "                    website = info_element.get_attribute(\"href\")\n",
    "        else:  # If Spanish\n",
    "            for info_element in info_elements:\n",
    "                aria_label = info_element.get_attribute(\"aria-label\")\n",
    "                if 'Dirección:' in aria_label:\n",
    "                    address = info_element.text.split('\\n')[1]\n",
    "                if 'Teléfono:' in aria_label:\n",
    "                    phone = info_element.text\n",
    "                if 'Sitio web:' in aria_label:\n",
    "                    website = info_element.get_attribute(\"href\")\n",
    "        \n",
    "        if website is not None:\n",
    "            emails = extract_emails(website)\n",
    "        \n",
    "        # Compile the extracted information into a list\n",
    "        place_info_list = [\n",
    "            industry,\n",
    "            location,\n",
    "            place_name,\n",
    "            place_description,\n",
    "            reviews_stars,\n",
    "            num_of_reviews,\n",
    "            address,\n",
    "            phone,\n",
    "            emails,\n",
    "            website\n",
    "        ]\n",
    "        print(place_info_list)\n",
    "        return place_info_list    \n",
    "    \n",
    "    # Find all elements that represent places in the search results\n",
    "    place_elements = browser.find_elements(By.CLASS_NAME, \"hfpxzc\")\n",
    "    print(len(place_elements))\n",
    "    \n",
    "    # Extract the URLs of all places\n",
    "    place_urls = [element.get_attribute(\"href\") for element in place_elements]\n",
    "    \n",
    "    place_info_list = []\n",
    "    \n",
    "    # Loop through the URLs to extract information for each place\n",
    "    for url in place_urls:\n",
    "        try:\n",
    "            temp_place_info_list = extract_place_info(url)\n",
    "            place_info_list.append(temp_place_info_list)\n",
    "        except Exception as e:\n",
    "            print(f\"Error extracting place with url: {url}. Error: {e}\")\n",
    "        \n",
    "        # Stop if 20 places have been found\n",
    "        if len(place_info_list) >= max_places_to_find:\n",
    "            print('Breaking out of the for loop because {max_places_to_find} places were found.')\n",
    "            break\n",
    "    browser.close()\n",
    "    return place_info_list\n",
    "\n",
    "\n",
    "# Prepare to compile information for multiple locations and industries\n",
    "final_places_list = []\n",
    "\n",
    "# Spanish\n",
    "english = False\n",
    "max_places_to_find = 80\n",
    "\n",
    "# Define the locations and industries to search for\n",
    "locations = ['Los Angeles, CA',] # 'San Francisco, CA','New York, NY','Jacksonville, FL','Portland, OR','Denver, CO']\n",
    "industries = ['Churros', 'Churreria']  # Add more industries to search for\n",
    "# 'Physical Therapy',\n",
    "# 'HVAC',\n",
    "# 'Veterinary Services',\n",
    "# 'Plumbing',\n",
    "# 'Insurance Brokerages',\n",
    "# 'Landscaping',\n",
    "# 'Automotive Repair',\n",
    "# 'Chiropractic']\n",
    "\n",
    "options = Options()\n",
    "options.add_argument(\"--headless\")\n",
    "options.add_experimental_option('prefs', {'intl.accept_languages': 'en,en_US'})  # Set language preferences\n",
    "\n",
    "# Loop through each industry and location, perform searches, and compile results\n",
    "for industry in industries:\n",
    "    print(industry)\n",
    "    for location in locations:  \n",
    "        # Initialize the WebDriver for Chrome\n",
    "        browser = webdriver.Chrome(options=options)\n",
    "        \n",
    "        try:\n",
    "            print(location)\n",
    "            search_query = f\"{industry} in {location}\"\n",
    "            print(search_query)\n",
    "            search_url = f\"https://www.google.com/maps/search/{search_query}\"\n",
    "            combo_place_info_list = extract_search_results(search_url,location,industry)\n",
    "            pd.DataFrame(combo_place_info_list).to_csv(f'{industry} Export.csv',index = False)\n",
    "            final_places_list.extend(combo_place_info_list)\n",
    "        except Exception as e:\n",
    "            print(e)\n",
    "        \n",
    "        try:  # Solve the weird error that occurs when trying to close the browser\n",
    "            browser.close()\n",
    "        except Exception as e:\n",
    "            print(e)\n",
    "\n",
    "try:\n",
    "    browser.quit()\n",
    "except Exception as e:\n",
    "    print(e)\n"
   ]
  },
  {
   "cell_type": "code",
   "execution_count": 9,
   "id": "bac1c73c",
   "metadata": {},
   "outputs": [],
   "source": [
    "# Create a DataFrame from the compiled list and save it to a CSV file\n",
    "places_df = pd.DataFrame(columns=['Industry', 'Location', 'Name', 'Description', 'Stars (out of 5)', 'Number of Reviews', 'Address', 'Phone', 'Emails','Website'], data=final_places_list)\n",
    "places_df.to_csv('Churro Places Information again.csv', index=False)"
   ]
  },
  {
   "cell_type": "code",
   "execution_count": 11,
   "id": "ecd13aad",
   "metadata": {},
   "outputs": [
    {
     "data": {
      "text/plain": [
       "47"
      ]
     },
     "execution_count": 11,
     "metadata": {},
     "output_type": "execute_result"
    }
   ],
   "source": [
    "len(final_places_list)\n",
    "# print(final_places_list)\n"
   ]
  },
  {
   "cell_type": "code",
   "execution_count": 37,
   "id": "d1dbbcec02b6bd3c",
   "metadata": {
    "ExecuteTime": {
     "end_time": "2024-03-18T18:58:14.861340Z",
     "start_time": "2024-03-18T18:58:14.857897Z"
    },
    "collapsed": false
   },
   "outputs": [],
   "source": [
    "fixed_addresses = []\n",
    "\n",
    "for address in places_df['Address']:\n",
    "    fixed_addresses.append(address.split('\\n')[1])"
   ]
  },
  {
   "cell_type": "code",
   "execution_count": 39,
   "id": "ee1d2cd5",
   "metadata": {},
   "outputs": [
    {
     "data": {
      "text/plain": [
       "['231 Border St B, Boston, MA 02128, Estados Unidos',\n",
       " '9 Channel Center St, Boston, MA 02210, Estados Unidos',\n",
       " '400 Commonwealth Ave 3rd floor, Boston, MA 02215, Estados Unidos',\n",
       " '1 Huntington Ave B, Boston, MA 02116, Estados Unidos',\n",
       " '1 McKinley Square Lobby B, Boston, MA 02109, Estados Unidos',\n",
       " '575 Boylston St 7th floor, Boston, MA 02116, Estados Unidos',\n",
       " '177 Tremont St #6, Boston, MA 02111, Estados Unidos',\n",
       " '77 Beacon St, Boston, MA 02108, Estados Unidos',\n",
       " '31 State St 7th Floor, Boston, MA 02109, Estados Unidos',\n",
       " '1610 Tremont St, Boston, MA 02120, Estados Unidos',\n",
       " '37 Newbury St #3, Boston, MA 02116, Estados Unidos',\n",
       " '36 Chauncy St, Boston, MA 02111, Estados Unidos',\n",
       " '591 E Broadway, Boston, MA 02127, Estados Unidos',\n",
       " '1313 Washington St, Boston, MA 02118, Estados Unidos',\n",
       " '272 W Broadway, Boston, MA 02127, Estados Unidos',\n",
       " '800 Boylston St 2nd floor, Boston, MA 02199, Estados Unidos',\n",
       " '22 Traveler St, Boston, MA 02118, Estados Unidos',\n",
       " '46 Farnsworth St, Boston, MA 02210, Estados Unidos']"
      ]
     },
     "execution_count": 39,
     "metadata": {},
     "output_type": "execute_result"
    }
   ],
   "source": [
    "fixed_addresses"
   ]
  },
  {
   "cell_type": "code",
   "execution_count": 44,
   "id": "848c840d",
   "metadata": {},
   "outputs": [],
   "source": [
    "places_df.to_csv('Places Information Fixed.csv', index=False)"
   ]
  },
  {
   "cell_type": "code",
   "execution_count": 22,
   "id": "b9ba8d25",
   "metadata": {},
   "outputs": [],
   "source": [
    "addresses = places_df['Address'].dropna().to_numpy()"
   ]
  },
  {
   "cell_type": "code",
   "execution_count": 24,
   "id": "a42132e4",
   "metadata": {},
   "outputs": [],
   "source": [
    "import numpy as np\n",
    "\n",
    "unique_addies = np.unique(addresses)"
   ]
  },
  {
   "cell_type": "code",
   "execution_count": 25,
   "id": "c2b0b91a",
   "metadata": {},
   "outputs": [
    {
     "data": {
      "text/plain": [
       "(24,)"
      ]
     },
     "execution_count": 25,
     "metadata": {},
     "output_type": "execute_result"
    }
   ],
   "source": [
    "unique_addies.shape"
   ]
  },
  {
   "cell_type": "code",
   "execution_count": 30,
   "id": "d5a55da9",
   "metadata": {},
   "outputs": [],
   "source": [
    "filtered_df = places_df[places_df['Address'].isin(unique_addies)]\n"
   ]
  },
  {
   "cell_type": "code",
   "execution_count": 33,
   "id": "18982a69",
   "metadata": {},
   "outputs": [
    {
     "data": {
      "text/plain": [
       "(45,)"
      ]
     },
     "execution_count": 33,
     "metadata": {},
     "output_type": "execute_result"
    }
   ],
   "source": [
    "filtered_df['Address'].to_numpy().shape"
   ]
  },
  {
   "cell_type": "code",
   "execution_count": 44,
   "id": "8294647e",
   "metadata": {},
   "outputs": [
    {
     "ename": "AttributeError",
     "evalue": "'numpy.ndarray' object has no attribute 'dropna'",
     "output_type": "error",
     "traceback": [
      "\u001b[1;31m---------------------------------------------------------------------------\u001b[0m",
      "\u001b[1;31mAttributeError\u001b[0m                            Traceback (most recent call last)",
      "Cell \u001b[1;32mIn[44], line 1\u001b[0m\n\u001b[1;32m----> 1\u001b[0m places_dropna \u001b[38;5;241m=\u001b[39m places_df\u001b[38;5;241m.\u001b[39mloc[\u001b[43mplaces_df\u001b[49m\u001b[43m[\u001b[49m\u001b[38;5;124;43m'\u001b[39;49m\u001b[38;5;124;43mAddress\u001b[39;49m\u001b[38;5;124;43m'\u001b[39;49m\u001b[43m]\u001b[49m\u001b[38;5;241;43m.\u001b[39;49m\u001b[43munique\u001b[49m\u001b[43m(\u001b[49m\u001b[43m)\u001b[49m\u001b[38;5;241;43m.\u001b[39;49m\u001b[43mdropna\u001b[49m(inplace\u001b[38;5;241m=\u001b[39m\u001b[38;5;28;01mFalse\u001b[39;00m)\u001b[38;5;241m.\u001b[39mindex]\n",
      "\u001b[1;31mAttributeError\u001b[0m: 'numpy.ndarray' object has no attribute 'dropna'"
     ]
    }
   ],
   "source": [
    "places_dropna = places_df.loc[places_df['Address'].dropna(inplace=False).index]"
   ]
  },
  {
   "cell_type": "code",
   "execution_count": 51,
   "id": "9425fc06",
   "metadata": {},
   "outputs": [
    {
     "data": {
      "text/plain": [
       "(47, 10)"
      ]
     },
     "execution_count": 51,
     "metadata": {},
     "output_type": "execute_result"
    }
   ],
   "source": [
    "places_df.shape"
   ]
  },
  {
   "cell_type": "code",
   "execution_count": 54,
   "id": "41eac6cb",
   "metadata": {},
   "outputs": [],
   "source": [
    "# places_df"
   ]
  },
  {
   "cell_type": "code",
   "execution_count": 59,
   "id": "94897c53",
   "metadata": {},
   "outputs": [],
   "source": [
    "df_unique = places_df.drop_duplicates(subset='Address', keep='first')"
   ]
  },
  {
   "cell_type": "code",
   "execution_count": 62,
   "id": "9d198f1a",
   "metadata": {},
   "outputs": [
    {
     "name": "stderr",
     "output_type": "stream",
     "text": [
      "C:\\Users\\wilso\\AppData\\Local\\Temp\\ipykernel_41672\\1627190734.py:1: SettingWithCopyWarning: \n",
      "A value is trying to be set on a copy of a slice from a DataFrame\n",
      "\n",
      "See the caveats in the documentation: https://pandas.pydata.org/pandas-docs/stable/user_guide/indexing.html#returning-a-view-versus-a-copy\n",
      "  df_unique.dropna(subset='Address', inplace=True)\n"
     ]
    }
   ],
   "source": [
    "df_unique.dropna(subset='Address', inplace=True)"
   ]
  },
  {
   "cell_type": "code",
   "execution_count": 65,
   "id": "d18183be",
   "metadata": {},
   "outputs": [],
   "source": [
    "# df_unique.to_csv('Unique Churro Places LA.csv', index=False)"
   ]
  }
 ],
 "metadata": {
  "kernelspec": {
   "display_name": "Python 3",
   "language": "python",
   "name": "python3"
  },
  "language_info": {
   "codemirror_mode": {
    "name": "ipython",
    "version": 3
   },
   "file_extension": ".py",
   "mimetype": "text/x-python",
   "name": "python",
   "nbconvert_exporter": "python",
   "pygments_lexer": "ipython3",
   "version": "3.12.1"
  }
 },
 "nbformat": 4,
 "nbformat_minor": 5
}
