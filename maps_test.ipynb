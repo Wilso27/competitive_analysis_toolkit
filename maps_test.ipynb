{
 "cells": [
  {
   "cell_type": "code",
   "execution_count": 6,
   "metadata": {},
   "outputs": [],
   "source": [
    "\n",
    "from google.cloud import api_keys_v2\n",
    "from google.cloud.api_keys_v2 import Key\n",
    "\n",
    "\n",
    "def create_api_key(project_id: str, suffix: str) -> Key:\n",
    "    \"\"\"\n",
    "    Creates and restrict an API key. Add the suffix for uniqueness.\n",
    "\n",
    "    TODO(Developer):\n",
    "    1. Before running this sample,\n",
    "      set up ADC as described in https://cloud.google.com/docs/authentication/external/set-up-adc\n",
    "    2. Make sure you have the necessary permission to create API keys.\n",
    "\n",
    "    Args:\n",
    "        project_id: Google Cloud project id.\n",
    "\n",
    "    Returns:\n",
    "        response: Returns the created API Key.\n",
    "    \"\"\"\n",
    "    # Create the API Keys client.\n",
    "    client = api_keys_v2.ApiKeysClient()\n",
    "\n",
    "    key = api_keys_v2.Key()\n",
    "    key.display_name = f\"My first API key - {suffix}\"\n",
    "\n",
    "    # Initialize request and set arguments.\n",
    "    request = api_keys_v2.CreateKeyRequest()\n",
    "    request.parent = f\"projects/{project_id}/locations/global\"\n",
    "    request.key = key\n",
    "\n",
    "    # Make the request and wait for the operation to complete.\n",
    "    response = client.create_key(request=request).result()\n",
    "\n",
    "    print(f\"Successfully created an API key: {response.name}\")\n",
    "    # For authenticating with the API key, use the value in \"response.key_string\".\n",
    "    # To restrict the usage of this API key, use the value in \"response.name\".\n",
    "    return response\n"
   ]
  },
  {
   "cell_type": "code",
   "execution_count": 7,
   "metadata": {},
   "outputs": [
    {
     "ename": "DefaultCredentialsError",
     "evalue": "Your default credentials were not found. To set up Application Default Credentials, see https://cloud.google.com/docs/authentication/external/set-up-adc for more information.",
     "output_type": "error",
     "traceback": [
      "\u001b[0;31m---------------------------------------------------------------------------\u001b[0m",
      "\u001b[0;31mDefaultCredentialsError\u001b[0m                   Traceback (most recent call last)",
      "\u001b[0;32m/tmp/ipykernel_94573/3709224210.py\u001b[0m in \u001b[0;36m<module>\u001b[0;34m\u001b[0m\n\u001b[0;32m----> 1\u001b[0;31m \u001b[0mcreate_api_key\u001b[0m\u001b[0;34m(\u001b[0m\u001b[0mproject_id\u001b[0m\u001b[0;34m=\u001b[0m\u001b[0;34m''\u001b[0m\u001b[0;34m,\u001b[0m \u001b[0msuffix\u001b[0m\u001b[0;34m=\u001b[0m\u001b[0;34m''\u001b[0m\u001b[0;34m)\u001b[0m\u001b[0;34m\u001b[0m\u001b[0;34m\u001b[0m\u001b[0m\n\u001b[0m",
      "\u001b[0;32m/tmp/ipykernel_94573/2004665117.py\u001b[0m in \u001b[0;36mcreate_api_key\u001b[0;34m(project_id, suffix)\u001b[0m\n\u001b[1;32m     19\u001b[0m     \"\"\"\n\u001b[1;32m     20\u001b[0m     \u001b[0;31m# Create the API Keys client.\u001b[0m\u001b[0;34m\u001b[0m\u001b[0;34m\u001b[0m\u001b[0m\n\u001b[0;32m---> 21\u001b[0;31m     \u001b[0mclient\u001b[0m \u001b[0;34m=\u001b[0m \u001b[0mapi_keys_v2\u001b[0m\u001b[0;34m.\u001b[0m\u001b[0mApiKeysClient\u001b[0m\u001b[0;34m(\u001b[0m\u001b[0;34m)\u001b[0m\u001b[0;34m\u001b[0m\u001b[0;34m\u001b[0m\u001b[0m\n\u001b[0m\u001b[1;32m     22\u001b[0m \u001b[0;34m\u001b[0m\u001b[0m\n\u001b[1;32m     23\u001b[0m     \u001b[0mkey\u001b[0m \u001b[0;34m=\u001b[0m \u001b[0mapi_keys_v2\u001b[0m\u001b[0;34m.\u001b[0m\u001b[0mKey\u001b[0m\u001b[0;34m(\u001b[0m\u001b[0;34m)\u001b[0m\u001b[0;34m\u001b[0m\u001b[0;34m\u001b[0m\u001b[0m\n",
      "\u001b[0;32m~/.local/lib/python3.10/site-packages/google/cloud/api_keys_v2/services/api_keys/client.py\u001b[0m in \u001b[0;36m__init__\u001b[0;34m(self, credentials, transport, client_options, client_info)\u001b[0m\n\u001b[1;32m    656\u001b[0m \u001b[0;34m\u001b[0m\u001b[0m\n\u001b[1;32m    657\u001b[0m             \u001b[0mTransport\u001b[0m \u001b[0;34m=\u001b[0m \u001b[0mtype\u001b[0m\u001b[0;34m(\u001b[0m\u001b[0mself\u001b[0m\u001b[0;34m)\u001b[0m\u001b[0;34m.\u001b[0m\u001b[0mget_transport_class\u001b[0m\u001b[0;34m(\u001b[0m\u001b[0mcast\u001b[0m\u001b[0;34m(\u001b[0m\u001b[0mstr\u001b[0m\u001b[0;34m,\u001b[0m \u001b[0mtransport\u001b[0m\u001b[0;34m)\u001b[0m\u001b[0;34m)\u001b[0m\u001b[0;34m\u001b[0m\u001b[0;34m\u001b[0m\u001b[0m\n\u001b[0;32m--> 658\u001b[0;31m             self._transport = Transport(\n\u001b[0m\u001b[1;32m    659\u001b[0m                 \u001b[0mcredentials\u001b[0m\u001b[0;34m=\u001b[0m\u001b[0mcredentials\u001b[0m\u001b[0;34m,\u001b[0m\u001b[0;34m\u001b[0m\u001b[0;34m\u001b[0m\u001b[0m\n\u001b[1;32m    660\u001b[0m                 \u001b[0mcredentials_file\u001b[0m\u001b[0;34m=\u001b[0m\u001b[0mself\u001b[0m\u001b[0;34m.\u001b[0m\u001b[0m_client_options\u001b[0m\u001b[0;34m.\u001b[0m\u001b[0mcredentials_file\u001b[0m\u001b[0;34m,\u001b[0m\u001b[0;34m\u001b[0m\u001b[0;34m\u001b[0m\u001b[0m\n",
      "\u001b[0;32m~/.local/lib/python3.10/site-packages/google/cloud/api_keys_v2/services/api_keys/transports/grpc.py\u001b[0m in \u001b[0;36m__init__\u001b[0;34m(self, host, credentials, credentials_file, scopes, channel, api_mtls_endpoint, client_cert_source, ssl_channel_credentials, client_cert_source_for_mtls, quota_project_id, client_info, always_use_jwt_access, api_audience)\u001b[0m\n\u001b[1;32m    148\u001b[0m \u001b[0;34m\u001b[0m\u001b[0m\n\u001b[1;32m    149\u001b[0m         \u001b[0;31m# The base transport sets the host, credentials and scopes\u001b[0m\u001b[0;34m\u001b[0m\u001b[0;34m\u001b[0m\u001b[0m\n\u001b[0;32m--> 150\u001b[0;31m         super().__init__(\n\u001b[0m\u001b[1;32m    151\u001b[0m             \u001b[0mhost\u001b[0m\u001b[0;34m=\u001b[0m\u001b[0mhost\u001b[0m\u001b[0;34m,\u001b[0m\u001b[0;34m\u001b[0m\u001b[0;34m\u001b[0m\u001b[0m\n\u001b[1;32m    152\u001b[0m             \u001b[0mcredentials\u001b[0m\u001b[0;34m=\u001b[0m\u001b[0mcredentials\u001b[0m\u001b[0;34m,\u001b[0m\u001b[0;34m\u001b[0m\u001b[0;34m\u001b[0m\u001b[0m\n",
      "\u001b[0;32m~/.local/lib/python3.10/site-packages/google/cloud/api_keys_v2/services/api_keys/transports/base.py\u001b[0m in \u001b[0;36m__init__\u001b[0;34m(self, host, credentials, credentials_file, scopes, quota_project_id, client_info, always_use_jwt_access, api_audience, **kwargs)\u001b[0m\n\u001b[1;32m     99\u001b[0m             )\n\u001b[1;32m    100\u001b[0m         \u001b[0;32melif\u001b[0m \u001b[0mcredentials\u001b[0m \u001b[0;32mis\u001b[0m \u001b[0;32mNone\u001b[0m\u001b[0;34m:\u001b[0m\u001b[0;34m\u001b[0m\u001b[0;34m\u001b[0m\u001b[0m\n\u001b[0;32m--> 101\u001b[0;31m             credentials, _ = google.auth.default(\n\u001b[0m\u001b[1;32m    102\u001b[0m                 \u001b[0;34m**\u001b[0m\u001b[0mscopes_kwargs\u001b[0m\u001b[0;34m,\u001b[0m \u001b[0mquota_project_id\u001b[0m\u001b[0;34m=\u001b[0m\u001b[0mquota_project_id\u001b[0m\u001b[0;34m\u001b[0m\u001b[0;34m\u001b[0m\u001b[0m\n\u001b[1;32m    103\u001b[0m             )\n",
      "\u001b[0;32m~/.local/lib/python3.10/site-packages/google/auth/_default.py\u001b[0m in \u001b[0;36mdefault\u001b[0;34m(scopes, request, quota_project_id, default_scopes)\u001b[0m\n\u001b[1;32m    689\u001b[0m             \u001b[0;32mreturn\u001b[0m \u001b[0mcredentials\u001b[0m\u001b[0;34m,\u001b[0m \u001b[0meffective_project_id\u001b[0m\u001b[0;34m\u001b[0m\u001b[0;34m\u001b[0m\u001b[0m\n\u001b[1;32m    690\u001b[0m \u001b[0;34m\u001b[0m\u001b[0m\n\u001b[0;32m--> 691\u001b[0;31m     \u001b[0;32mraise\u001b[0m \u001b[0mexceptions\u001b[0m\u001b[0;34m.\u001b[0m\u001b[0mDefaultCredentialsError\u001b[0m\u001b[0;34m(\u001b[0m\u001b[0m_CLOUD_SDK_MISSING_CREDENTIALS\u001b[0m\u001b[0;34m)\u001b[0m\u001b[0;34m\u001b[0m\u001b[0;34m\u001b[0m\u001b[0m\n\u001b[0m",
      "\u001b[0;31mDefaultCredentialsError\u001b[0m: Your default credentials were not found. To set up Application Default Credentials, see https://cloud.google.com/docs/authentication/external/set-up-adc for more information."
     ]
    }
   ],
   "source": [
    "create_api_key(project_id='', suffix='')"
   ]
  },
  {
   "cell_type": "code",
   "execution_count": 5,
   "metadata": {},
   "outputs": [
    {
     "ename": "FileNotFoundError",
     "evalue": "[Errno 2] No such file or directory: '/path/to/service-account.json'",
     "output_type": "error",
     "traceback": [
      "\u001b[0;31m---------------------------------------------------------------------------\u001b[0m",
      "\u001b[0;31mFileNotFoundError\u001b[0m                         Traceback (most recent call last)",
      "\u001b[0;32m/tmp/ipykernel_94573/1886134171.py\u001b[0m in \u001b[0;36m<module>\u001b[0;34m\u001b[0m\n\u001b[1;32m      5\u001b[0m \u001b[0mSCOPES\u001b[0m \u001b[0;34m=\u001b[0m \u001b[0;34m[\u001b[0m\u001b[0;34m'https://www.googleapis.com/auth/cloud-platform'\u001b[0m\u001b[0;34m]\u001b[0m\u001b[0;34m\u001b[0m\u001b[0;34m\u001b[0m\u001b[0m\n\u001b[1;32m      6\u001b[0m \u001b[0;34m\u001b[0m\u001b[0m\n\u001b[0;32m----> 7\u001b[0;31m credentials = service_account.Credentials.from_service_account_file(\n\u001b[0m\u001b[1;32m      8\u001b[0m         SERVICE_ACCOUNT_FILE, scopes=SCOPES)\n\u001b[1;32m      9\u001b[0m \u001b[0;34m\u001b[0m\u001b[0m\n",
      "\u001b[0;32m~/.local/lib/python3.10/site-packages/google/oauth2/service_account.py\u001b[0m in \u001b[0;36mfrom_service_account_file\u001b[0;34m(cls, filename, **kwargs)\u001b[0m\n\u001b[1;32m    256\u001b[0m                 \u001b[0mcredentials\u001b[0m\u001b[0;34m.\u001b[0m\u001b[0;34m\u001b[0m\u001b[0;34m\u001b[0m\u001b[0m\n\u001b[1;32m    257\u001b[0m         \"\"\"\n\u001b[0;32m--> 258\u001b[0;31m         info, signer = _service_account_info.from_filename(\n\u001b[0m\u001b[1;32m    259\u001b[0m             \u001b[0mfilename\u001b[0m\u001b[0;34m,\u001b[0m \u001b[0mrequire\u001b[0m\u001b[0;34m=\u001b[0m\u001b[0;34m[\u001b[0m\u001b[0;34m\"client_email\"\u001b[0m\u001b[0;34m,\u001b[0m \u001b[0;34m\"token_uri\"\u001b[0m\u001b[0;34m]\u001b[0m\u001b[0;34m\u001b[0m\u001b[0;34m\u001b[0m\u001b[0m\n\u001b[1;32m    260\u001b[0m         )\n",
      "\u001b[0;32m~/.local/lib/python3.10/site-packages/google/auth/_service_account_info.py\u001b[0m in \u001b[0;36mfrom_filename\u001b[0;34m(filename, require, use_rsa_signer)\u001b[0m\n\u001b[1;32m     76\u001b[0m             \u001b[0minfo\u001b[0m \u001b[0;32mand\u001b[0m \u001b[0ma\u001b[0m \u001b[0msigner\u001b[0m \u001b[0minstance\u001b[0m\u001b[0;34m.\u001b[0m\u001b[0;34m\u001b[0m\u001b[0;34m\u001b[0m\u001b[0m\n\u001b[1;32m     77\u001b[0m     \"\"\"\n\u001b[0;32m---> 78\u001b[0;31m     \u001b[0;32mwith\u001b[0m \u001b[0mio\u001b[0m\u001b[0;34m.\u001b[0m\u001b[0mopen\u001b[0m\u001b[0;34m(\u001b[0m\u001b[0mfilename\u001b[0m\u001b[0;34m,\u001b[0m \u001b[0;34m\"r\"\u001b[0m\u001b[0;34m,\u001b[0m \u001b[0mencoding\u001b[0m\u001b[0;34m=\u001b[0m\u001b[0;34m\"utf-8\"\u001b[0m\u001b[0;34m)\u001b[0m \u001b[0;32mas\u001b[0m \u001b[0mjson_file\u001b[0m\u001b[0;34m:\u001b[0m\u001b[0;34m\u001b[0m\u001b[0;34m\u001b[0m\u001b[0m\n\u001b[0m\u001b[1;32m     79\u001b[0m         \u001b[0mdata\u001b[0m \u001b[0;34m=\u001b[0m \u001b[0mjson\u001b[0m\u001b[0;34m.\u001b[0m\u001b[0mload\u001b[0m\u001b[0;34m(\u001b[0m\u001b[0mjson_file\u001b[0m\u001b[0;34m)\u001b[0m\u001b[0;34m\u001b[0m\u001b[0;34m\u001b[0m\u001b[0m\n\u001b[1;32m     80\u001b[0m         \u001b[0;32mreturn\u001b[0m \u001b[0mdata\u001b[0m\u001b[0;34m,\u001b[0m \u001b[0mfrom_dict\u001b[0m\u001b[0;34m(\u001b[0m\u001b[0mdata\u001b[0m\u001b[0;34m,\u001b[0m \u001b[0mrequire\u001b[0m\u001b[0;34m=\u001b[0m\u001b[0mrequire\u001b[0m\u001b[0;34m,\u001b[0m \u001b[0muse_rsa_signer\u001b[0m\u001b[0;34m=\u001b[0m\u001b[0muse_rsa_signer\u001b[0m\u001b[0;34m)\u001b[0m\u001b[0;34m\u001b[0m\u001b[0;34m\u001b[0m\u001b[0m\n",
      "\u001b[0;31mFileNotFoundError\u001b[0m: [Errno 2] No such file or directory: '/path/to/service-account.json'"
     ]
    }
   ],
   "source": [
    "# from googleapiclient.discovery import build\n",
    "# from google.oauth2 import service_account\n",
    "\n",
    "# SERVICE_ACCOUNT_FILE = '/path/to/service-account.json'\n",
    "# SCOPES = ['https://www.googleapis.com/auth/cloud-platform']\n",
    "\n",
    "# credentials = service_account.Credentials.from_service_account_file(\n",
    "#         SERVICE_ACCOUNT_FILE, scopes=SCOPES)\n",
    "\n",
    "# service = build('apikeys', 'v2', credentials=credentials)\n",
    "\n",
    "# # Example of creating an API key (adjust according to actual API requirements)\n",
    "# project_id = 'your-project-id'\n",
    "# body = {\n",
    "#     'displayName': f'API Key for {project_id}'\n",
    "# }\n",
    "# request = service.projects().locations().keys().create(\n",
    "#     parent=f'projects/{project_id}/locations/global',\n",
    "#     body=body\n",
    "# )\n",
    "# response = request.execute()\n",
    "\n",
    "# print(response)\n"
   ]
  },
  {
   "cell_type": "code",
   "execution_count": 15,
   "metadata": {},
   "outputs": [],
   "source": [
    "from selenium import webdriver\n",
    "from selenium.webdriver.edge.service import Service\n",
    "from selenium.webdriver.edge.options import Options\n",
    "from webdriver_manager.microsoft import EdgeChromiumDriverManager\n",
    "\n",
    "# Setup Edge options\n",
    "options = Options()\n",
    "options.use_chromium = True\n",
    "options.binary_location = r\"C:\\Program Files (x86)\\Microsoft\\Edge\\Application\\msedge.exe\"  # Update this path if your installation is different\n",
    "options.add_argument(\"start-maximized\")\n",
    "options.add_argument('disable-infobars')\n",
    "options.add_argument('--disable-extensions')\n",
    "options.add_argument('--headless')\n",
    "\n",
    "# Specify the path to your msedgedriver.exe\n",
    "edge_driver_path = r'C:\\Users\\wilso\\Documents\\myprojects\\el_moro\\msedgedriver.exe'\n",
    "\n",
    "# Setup the Edge driver\n",
    "service = Service(executable_path=edge_driver_path)\n",
    "driver = webdriver.Edge(service=service, options=options)\n",
    "\n",
    "# Navigate to a webpage\n",
    "driver.get('http://example.com')\n",
    "\n",
    "# Example: find and print the page title\n",
    "print(driver.title)\n",
    "\n",
    "# Close the browser\n",
    "driver.quit()\n"
   ]
  },
  {
   "cell_type": "code",
   "execution_count": 17,
   "metadata": {},
   "outputs": [],
   "source": [
    "from selenium import webdriver\n",
    "\n",
    "url = 'http://example.com'\n",
    "driver = webdriver.Edge()\n",
    "driver.maximize_window()\n",
    "driver.get(url)"
   ]
  },
  {
   "cell_type": "code",
   "execution_count": 21,
   "metadata": {},
   "outputs": [
    {
     "ename": "TimeoutException",
     "evalue": "Message: \nStacktrace:\n\tGetHandleVerifier [0x00007FF727FB1502+60802]\n\t(No symbol) [0x00007FF727F2AC02]\n\t(No symbol) [0x00007FF727DE7CE4]\n\t(No symbol) [0x00007FF727E36D4D]\n\t(No symbol) [0x00007FF727E36E1C]\n\t(No symbol) [0x00007FF727E7CE37]\n\t(No symbol) [0x00007FF727E5ABBF]\n\t(No symbol) [0x00007FF727E7A224]\n\t(No symbol) [0x00007FF727E5A923]\n\t(No symbol) [0x00007FF727E28FEC]\n\t(No symbol) [0x00007FF727E29C21]\n\tGetHandleVerifier [0x00007FF7282B411D+3217821]\n\tGetHandleVerifier [0x00007FF7282F60B7+3488055]\n\tGetHandleVerifier [0x00007FF7282EF03F+3459263]\n\tGetHandleVerifier [0x00007FF72806B846+823494]\n\t(No symbol) [0x00007FF727F35F9F]\n\t(No symbol) [0x00007FF727F30EC4]\n\t(No symbol) [0x00007FF727F31052]\n\t(No symbol) [0x00007FF727F218A4]\n\tBaseThreadInitThunk [0x00007FF86FC9257D+29]\n\tRtlUserThreadStart [0x00007FF870D2AA48+40]\n",
     "output_type": "error",
     "traceback": [
      "\u001b[1;31m---------------------------------------------------------------------------\u001b[0m",
      "\u001b[1;31mTimeoutException\u001b[0m                          Traceback (most recent call last)",
      "Cell \u001b[1;32mIn[21], line 23\u001b[0m\n\u001b[0;32m     20\u001b[0m search_box\u001b[38;5;241m.\u001b[39msend_keys(Keys\u001b[38;5;241m.\u001b[39mENTER)  \u001b[38;5;66;03m# Using ENTER key instead of clicking the search button\u001b[39;00m\n\u001b[0;32m     22\u001b[0m \u001b[38;5;66;03m# Wait for search results to load by checking for the presence of result cards\u001b[39;00m\n\u001b[1;32m---> 23\u001b[0m \u001b[43mwait\u001b[49m\u001b[38;5;241;43m.\u001b[39;49m\u001b[43muntil\u001b[49m\u001b[43m(\u001b[49m\u001b[43mEC\u001b[49m\u001b[38;5;241;43m.\u001b[39;49m\u001b[43mvisibility_of_element_located\u001b[49m\u001b[43m(\u001b[49m\u001b[43m(\u001b[49m\u001b[43mBy\u001b[49m\u001b[38;5;241;43m.\u001b[39;49m\u001b[43mCLASS_NAME\u001b[49m\u001b[43m,\u001b[49m\u001b[43m \u001b[49m\u001b[38;5;124;43m\"\u001b[39;49m\u001b[38;5;124;43msection-result-content\u001b[39;49m\u001b[38;5;124;43m\"\u001b[39;49m\u001b[43m)\u001b[49m\u001b[43m)\u001b[49m\u001b[43m)\u001b[49m\n\u001b[0;32m     25\u001b[0m \u001b[38;5;66;03m# Find all address elements in the search results\u001b[39;00m\n\u001b[0;32m     26\u001b[0m addresses \u001b[38;5;241m=\u001b[39m driver\u001b[38;5;241m.\u001b[39mfind_elements(By\u001b[38;5;241m.\u001b[39mCLASS_NAME, \u001b[38;5;124m\"\u001b[39m\u001b[38;5;124msection-result-location\u001b[39m\u001b[38;5;124m\"\u001b[39m)\n",
      "File \u001b[1;32mc:\\Users\\wilso\\AppData\\Local\\Programs\\Python\\Python312\\Lib\\site-packages\\selenium\\webdriver\\support\\wait.py:105\u001b[0m, in \u001b[0;36mWebDriverWait.until\u001b[1;34m(self, method, message)\u001b[0m\n\u001b[0;32m    103\u001b[0m     \u001b[38;5;28;01mif\u001b[39;00m time\u001b[38;5;241m.\u001b[39mmonotonic() \u001b[38;5;241m>\u001b[39m end_time:\n\u001b[0;32m    104\u001b[0m         \u001b[38;5;28;01mbreak\u001b[39;00m\n\u001b[1;32m--> 105\u001b[0m \u001b[38;5;28;01mraise\u001b[39;00m TimeoutException(message, screen, stacktrace)\n",
      "\u001b[1;31mTimeoutException\u001b[0m: Message: \nStacktrace:\n\tGetHandleVerifier [0x00007FF727FB1502+60802]\n\t(No symbol) [0x00007FF727F2AC02]\n\t(No symbol) [0x00007FF727DE7CE4]\n\t(No symbol) [0x00007FF727E36D4D]\n\t(No symbol) [0x00007FF727E36E1C]\n\t(No symbol) [0x00007FF727E7CE37]\n\t(No symbol) [0x00007FF727E5ABBF]\n\t(No symbol) [0x00007FF727E7A224]\n\t(No symbol) [0x00007FF727E5A923]\n\t(No symbol) [0x00007FF727E28FEC]\n\t(No symbol) [0x00007FF727E29C21]\n\tGetHandleVerifier [0x00007FF7282B411D+3217821]\n\tGetHandleVerifier [0x00007FF7282F60B7+3488055]\n\tGetHandleVerifier [0x00007FF7282EF03F+3459263]\n\tGetHandleVerifier [0x00007FF72806B846+823494]\n\t(No symbol) [0x00007FF727F35F9F]\n\t(No symbol) [0x00007FF727F30EC4]\n\t(No symbol) [0x00007FF727F31052]\n\t(No symbol) [0x00007FF727F218A4]\n\tBaseThreadInitThunk [0x00007FF86FC9257D+29]\n\tRtlUserThreadStart [0x00007FF870D2AA48+40]\n"
     ]
    }
   ],
   "source": [
    "from selenium import webdriver\n",
    "from selenium.webdriver.common.by import By\n",
    "from selenium.webdriver.common.keys import Keys\n",
    "from selenium.webdriver.support.ui import WebDriverWait\n",
    "from selenium.webdriver.support import expected_conditions as EC\n",
    "\n",
    "# Initialize the Chrome driver\n",
    "driver = webdriver.Chrome()\n",
    "\n",
    "# Navigate to Google Maps\n",
    "driver.get(\"https://www.google.com/maps\")\n",
    "\n",
    "# Wait for the search box to be available\n",
    "wait = WebDriverWait(driver, 10)\n",
    "search_box = wait.until(EC.visibility_of_element_located((By.ID, \"searchboxinput\")))\n",
    "\n",
    "# Clear the search box and search for Shake Shack locations in Los Angeles\n",
    "search_box.clear()\n",
    "search_box.send_keys(\"Shake Shack Los Angeles\")\n",
    "search_box.send_keys(Keys.ENTER)  # Using ENTER key instead of clicking the search button\n",
    "\n",
    "# Wait for search results to load by checking for the presence of result cards\n",
    "wait.until(EC.visibility_of_element_located((By.CLASS_NAME, \"section-result-content\")))\n",
    "\n",
    "# Find all address elements in the search results\n",
    "addresses = driver.find_elements(By.CLASS_NAME, \"section-result-location\")\n",
    "\n",
    "# Print all addresses\n",
    "for address in addresses:\n",
    "    print(address.text)\n",
    "\n",
    "# Close the browser\n",
    "driver.quit()\n"
   ]
  },
  {
   "cell_type": "code",
   "execution_count": 22,
   "metadata": {},
   "outputs": [
    {
     "ename": "TimeoutException",
     "evalue": "Message: \nStacktrace:\n\tGetHandleVerifier [0x00007FF727FB1502+60802]\n\t(No symbol) [0x00007FF727F2AC02]\n\t(No symbol) [0x00007FF727DE7CE4]\n\t(No symbol) [0x00007FF727E36D4D]\n\t(No symbol) [0x00007FF727E36E1C]\n\t(No symbol) [0x00007FF727E7CE37]\n\t(No symbol) [0x00007FF727E5ABBF]\n\t(No symbol) [0x00007FF727E7A224]\n\t(No symbol) [0x00007FF727E5A923]\n\t(No symbol) [0x00007FF727E28FEC]\n\t(No symbol) [0x00007FF727E29C21]\n\tGetHandleVerifier [0x00007FF7282B411D+3217821]\n\tGetHandleVerifier [0x00007FF7282F60B7+3488055]\n\tGetHandleVerifier [0x00007FF7282EF03F+3459263]\n\tGetHandleVerifier [0x00007FF72806B846+823494]\n\t(No symbol) [0x00007FF727F35F9F]\n\t(No symbol) [0x00007FF727F30EC4]\n\t(No symbol) [0x00007FF727F31052]\n\t(No symbol) [0x00007FF727F218A4]\n\tBaseThreadInitThunk [0x00007FF86FC9257D+29]\n\tRtlUserThreadStart [0x00007FF870D2AA48+40]\n",
     "output_type": "error",
     "traceback": [
      "\u001b[1;31m---------------------------------------------------------------------------\u001b[0m",
      "\u001b[1;31mTimeoutException\u001b[0m                          Traceback (most recent call last)",
      "Cell \u001b[1;32mIn[22], line 20\u001b[0m\n\u001b[0;32m     17\u001b[0m search_box\u001b[38;5;241m.\u001b[39msend_keys(\u001b[38;5;124m\"\u001b[39m\u001b[38;5;124mShake Shack Los Angeles\u001b[39m\u001b[38;5;124m\"\u001b[39m \u001b[38;5;241m+\u001b[39m Keys\u001b[38;5;241m.\u001b[39mENTER)\n\u001b[0;32m     19\u001b[0m \u001b[38;5;66;03m# Wait for the results to be visible and check for an element that definitely appears\u001b[39;00m\n\u001b[1;32m---> 20\u001b[0m \u001b[43mwait\u001b[49m\u001b[38;5;241;43m.\u001b[39;49m\u001b[43muntil\u001b[49m\u001b[43m(\u001b[49m\u001b[43mEC\u001b[49m\u001b[38;5;241;43m.\u001b[39;49m\u001b[43mvisibility_of_element_located\u001b[49m\u001b[43m(\u001b[49m\u001b[43m(\u001b[49m\u001b[43mBy\u001b[49m\u001b[38;5;241;43m.\u001b[39;49m\u001b[43mCSS_SELECTOR\u001b[49m\u001b[43m,\u001b[49m\u001b[43m \u001b[49m\u001b[38;5;124;43m\"\u001b[39;49m\u001b[38;5;124;43mdiv.section-result\u001b[39;49m\u001b[38;5;124;43m\"\u001b[39;49m\u001b[43m)\u001b[49m\u001b[43m)\u001b[49m\u001b[43m)\u001b[49m\n\u001b[0;32m     22\u001b[0m \u001b[38;5;66;03m# Assuming that 'div.section-result-location' is the correct class for addresses\u001b[39;00m\n\u001b[0;32m     23\u001b[0m addresses \u001b[38;5;241m=\u001b[39m driver\u001b[38;5;241m.\u001b[39mfind_elements(By\u001b[38;5;241m.\u001b[39mCSS_SELECTOR, \u001b[38;5;124m\"\u001b[39m\u001b[38;5;124mdiv.section-result-location\u001b[39m\u001b[38;5;124m\"\u001b[39m)\n",
      "File \u001b[1;32mc:\\Users\\wilso\\AppData\\Local\\Programs\\Python\\Python312\\Lib\\site-packages\\selenium\\webdriver\\support\\wait.py:105\u001b[0m, in \u001b[0;36mWebDriverWait.until\u001b[1;34m(self, method, message)\u001b[0m\n\u001b[0;32m    103\u001b[0m     \u001b[38;5;28;01mif\u001b[39;00m time\u001b[38;5;241m.\u001b[39mmonotonic() \u001b[38;5;241m>\u001b[39m end_time:\n\u001b[0;32m    104\u001b[0m         \u001b[38;5;28;01mbreak\u001b[39;00m\n\u001b[1;32m--> 105\u001b[0m \u001b[38;5;28;01mraise\u001b[39;00m TimeoutException(message, screen, stacktrace)\n",
      "\u001b[1;31mTimeoutException\u001b[0m: Message: \nStacktrace:\n\tGetHandleVerifier [0x00007FF727FB1502+60802]\n\t(No symbol) [0x00007FF727F2AC02]\n\t(No symbol) [0x00007FF727DE7CE4]\n\t(No symbol) [0x00007FF727E36D4D]\n\t(No symbol) [0x00007FF727E36E1C]\n\t(No symbol) [0x00007FF727E7CE37]\n\t(No symbol) [0x00007FF727E5ABBF]\n\t(No symbol) [0x00007FF727E7A224]\n\t(No symbol) [0x00007FF727E5A923]\n\t(No symbol) [0x00007FF727E28FEC]\n\t(No symbol) [0x00007FF727E29C21]\n\tGetHandleVerifier [0x00007FF7282B411D+3217821]\n\tGetHandleVerifier [0x00007FF7282F60B7+3488055]\n\tGetHandleVerifier [0x00007FF7282EF03F+3459263]\n\tGetHandleVerifier [0x00007FF72806B846+823494]\n\t(No symbol) [0x00007FF727F35F9F]\n\t(No symbol) [0x00007FF727F30EC4]\n\t(No symbol) [0x00007FF727F31052]\n\t(No symbol) [0x00007FF727F218A4]\n\tBaseThreadInitThunk [0x00007FF86FC9257D+29]\n\tRtlUserThreadStart [0x00007FF870D2AA48+40]\n"
     ]
    }
   ],
   "source": [
    "from selenium import webdriver\n",
    "from selenium.webdriver.common.by import By\n",
    "from selenium.webdriver.common.keys import Keys\n",
    "from selenium.webdriver.support.ui import WebDriverWait\n",
    "from selenium.webdriver.support import expected_conditions as EC\n",
    "\n",
    "driver = webdriver.Chrome()\n",
    "\n",
    "driver.get(\"https://www.google.com/maps\")\n",
    "\n",
    "# Adjusting timeout to 20 seconds for demonstration\n",
    "wait = WebDriverWait(driver, 20)\n",
    "\n",
    "try:\n",
    "    search_box = wait.until(EC.visibility_of_element_located((By.ID, \"searchboxinput\")))\n",
    "    search_box.clear()\n",
    "    search_box.send_keys(\"Shake Shack Los Angeles\" + Keys.ENTER)\n",
    "    \n",
    "    # Wait for the results to be visible and check for an element that definitely appears\n",
    "    wait.until(EC.visibility_of_element_located((By.CSS_SELECTOR, \"div.section-result\")))\n",
    "    \n",
    "    # Assuming that 'div.section-result-location' is the correct class for addresses\n",
    "    addresses = driver.find_elements(By.CSS_SELECTOR, \"div.section-result-location\")\n",
    "    \n",
    "    for address in addresses:\n",
    "        print(address.text)\n",
    "        \n",
    "finally:\n",
    "    driver.quit()\n"
   ]
  },
  {
   "cell_type": "code",
   "execution_count": 37,
   "metadata": {},
   "outputs": [],
   "source": [
    "import csv\n",
    "from selenium import webdriver\n",
    "from selenium.webdriver.common.by import By\n",
    "from selenium.webdriver.common.keys import Keys\n",
    "from selenium.webdriver.support.ui import WebDriverWait\n",
    "from selenium.webdriver.support import expected_conditions as EC\n",
    "from selenium.webdriver.chrome.options import Options\n",
    "\n",
    "options = Options()\n",
    "options.add_argument(\"user-agent=Mozilla/5.0 (Windows NT 10.0; Win64; x64) AppleWebKit/537.36 (KHTML, like Gecko) Chrome/90.0.4430.212 Safari/537.36\")\n",
    "driver = webdriver.Chrome(options=options)\n",
    "\n",
    "# Function to extract addresses from the current page\n",
    "def get_addresses():\n",
    "    # Find all address elements on the page\n",
    "    addresses = driver.find_elements(By.CSS_SELECTOR, \"div.location-address\")\n",
    "    return [address.text for address in addresses]\n",
    "\n",
    "try:\n",
    "    # Navigate to the Shake Shack locations page\n",
    "    driver.get(\"https://shakeshack.com/locations#/\")\n",
    "    wait = WebDriverWait(driver, 30)\n",
    "    \n",
    "    # Wait for the search box to be clickable, then search for Los Angeles\n",
    "    search_box = wait.until(EC.element_to_be_clickable((By.CSS_SELECTOR, \"#edit-keys\")))\n",
    "    search_box.clear()\n",
    "    search_box.send_keys(\"Los Angeles\")\n",
    "    search_box.send_keys(Keys.RETURN)\n",
    "    \n",
    "    # Wait for the addresses to load\n",
    "    wait.until(EC.presence_of_element_located(\n",
    "        (By.CSS_SELECTOR,\n",
    "         \"div:nth-child(2) > div:nth-child(1)\"\n",
    "         )))\n",
    "    \n",
    "    # Initialize a list to store all addresses\n",
    "    all_addresses = []\n",
    "    \n",
    "    # Extract addresses from the first page\n",
    "    all_addresses.extend(get_addresses())\n",
    "    \n",
    "    # Handle pagination and extract addresses from subsequent pages\n",
    "    while True:\n",
    "        try:\n",
    "            # Wait for the next button and click it if clickable\n",
    "            next_button = wait.until(EC.element_to_be_clickable((By.CSS_SELECTOR, \"button.next\")))\n",
    "            next_button.click()\n",
    "            \n",
    "            # Wait for the next set of addresses to load\n",
    "            wait.until(EC.presence_of_element_located((By.CSS_SELECTOR, \"div.location-address\")))\n",
    "            all_addresses.extend(get_addresses())\n",
    "        except Exception:\n",
    "            # Break the loop if no more pages are found\n",
    "            break\n",
    "\n",
    "    # Save the addresses to a CSV file\n",
    "    with open('shake_shack_locations.csv', 'w', newline='') as file:\n",
    "        writer = csv.writer(file)\n",
    "        for address in all_addresses:\n",
    "            writer.writerow([address])\n",
    "\n",
    "finally:\n",
    "    # Close the driver\n",
    "    driver.quit()\n"
   ]
  },
  {
   "cell_type": "code",
   "execution_count": 46,
   "metadata": {},
   "outputs": [],
   "source": [
    "options = Options()\n",
    "# options.add_argument(\"--headless\")\n",
    "options.add_argument(\"--disable-gpu\")\n",
    "options.add_argument(\"user-agent=Mozilla/5.0 (Windows NT 10.0; Win64; x64) AppleWebKit/537.36 (KHTML, like Gecko) Chrome/90.0.4430.212 Safari/537.36\")\n",
    "options.add_experimental_option(\"excludeSwitches\", [\"enable-automation\"])\n",
    "options.add_argument(\"--disable-blink-features=AutomationControlled\")"
   ]
  },
  {
   "cell_type": "code",
   "execution_count": 47,
   "metadata": {},
   "outputs": [],
   "source": [
    "driver = webdriver.Chrome(options=options)\n",
    "driver.get(\"https://shakeshack.com/locations#/\")\n"
   ]
  },
  {
   "cell_type": "code",
   "execution_count": 43,
   "metadata": {},
   "outputs": [
    {
     "ename": "TimeoutException",
     "evalue": "Message: \nStacktrace:\n\tGetHandleVerifier [0x00007FF727FB1502+60802]\n\t(No symbol) [0x00007FF727F2AC02]\n\t(No symbol) [0x00007FF727DE7CE4]\n\t(No symbol) [0x00007FF727E36D4D]\n\t(No symbol) [0x00007FF727E36E1C]\n\t(No symbol) [0x00007FF727E7CE37]\n\t(No symbol) [0x00007FF727E5ABBF]\n\t(No symbol) [0x00007FF727E7A224]\n\t(No symbol) [0x00007FF727E5A923]\n\t(No symbol) [0x00007FF727E28FEC]\n\t(No symbol) [0x00007FF727E29C21]\n\tGetHandleVerifier [0x00007FF7282B411D+3217821]\n\tGetHandleVerifier [0x00007FF7282F60B7+3488055]\n\tGetHandleVerifier [0x00007FF7282EF03F+3459263]\n\tGetHandleVerifier [0x00007FF72806B846+823494]\n\t(No symbol) [0x00007FF727F35F9F]\n\t(No symbol) [0x00007FF727F30EC4]\n\t(No symbol) [0x00007FF727F31052]\n\t(No symbol) [0x00007FF727F218A4]\n\tBaseThreadInitThunk [0x00007FF86FC9257D+29]\n\tRtlUserThreadStart [0x00007FF870D2AA48+40]\n",
     "output_type": "error",
     "traceback": [
      "\u001b[1;31m---------------------------------------------------------------------------\u001b[0m",
      "\u001b[1;31mTimeoutException\u001b[0m                          Traceback (most recent call last)",
      "Cell \u001b[1;32mIn[43], line 13\u001b[0m\n\u001b[0;32m     10\u001b[0m wait \u001b[38;5;241m=\u001b[39m WebDriverWait(driver, \u001b[38;5;241m30\u001b[39m)\n\u001b[0;32m     12\u001b[0m \u001b[38;5;66;03m# Wait for the search box to be clickable, then search for Los Angeles\u001b[39;00m\n\u001b[1;32m---> 13\u001b[0m search_box \u001b[38;5;241m=\u001b[39m \u001b[43mwait\u001b[49m\u001b[38;5;241;43m.\u001b[39;49m\u001b[43muntil\u001b[49m\u001b[43m(\u001b[49m\u001b[43mEC\u001b[49m\u001b[38;5;241;43m.\u001b[39;49m\u001b[43melement_to_be_clickable\u001b[49m\u001b[43m(\u001b[49m\u001b[43m(\u001b[49m\u001b[43mBy\u001b[49m\u001b[38;5;241;43m.\u001b[39;49m\u001b[43mCSS_SELECTOR\u001b[49m\u001b[43m,\u001b[49m\u001b[43m \u001b[49m\u001b[38;5;124;43m\"\u001b[39;49m\u001b[38;5;124;43m#edit-keys\u001b[39;49m\u001b[38;5;124;43m\"\u001b[39;49m\u001b[43m)\u001b[49m\u001b[43m)\u001b[49m\u001b[43m)\u001b[49m\n\u001b[0;32m     14\u001b[0m search_box\u001b[38;5;241m.\u001b[39mclear()\n\u001b[0;32m     15\u001b[0m search_box\u001b[38;5;241m.\u001b[39msend_keys(\u001b[38;5;124m\"\u001b[39m\u001b[38;5;124mLos Angeles\u001b[39m\u001b[38;5;124m\"\u001b[39m)\n",
      "File \u001b[1;32mc:\\Users\\wilso\\AppData\\Local\\Programs\\Python\\Python312\\Lib\\site-packages\\selenium\\webdriver\\support\\wait.py:105\u001b[0m, in \u001b[0;36mWebDriverWait.until\u001b[1;34m(self, method, message)\u001b[0m\n\u001b[0;32m    103\u001b[0m     \u001b[38;5;28;01mif\u001b[39;00m time\u001b[38;5;241m.\u001b[39mmonotonic() \u001b[38;5;241m>\u001b[39m end_time:\n\u001b[0;32m    104\u001b[0m         \u001b[38;5;28;01mbreak\u001b[39;00m\n\u001b[1;32m--> 105\u001b[0m \u001b[38;5;28;01mraise\u001b[39;00m TimeoutException(message, screen, stacktrace)\n",
      "\u001b[1;31mTimeoutException\u001b[0m: Message: \nStacktrace:\n\tGetHandleVerifier [0x00007FF727FB1502+60802]\n\t(No symbol) [0x00007FF727F2AC02]\n\t(No symbol) [0x00007FF727DE7CE4]\n\t(No symbol) [0x00007FF727E36D4D]\n\t(No symbol) [0x00007FF727E36E1C]\n\t(No symbol) [0x00007FF727E7CE37]\n\t(No symbol) [0x00007FF727E5ABBF]\n\t(No symbol) [0x00007FF727E7A224]\n\t(No symbol) [0x00007FF727E5A923]\n\t(No symbol) [0x00007FF727E28FEC]\n\t(No symbol) [0x00007FF727E29C21]\n\tGetHandleVerifier [0x00007FF7282B411D+3217821]\n\tGetHandleVerifier [0x00007FF7282F60B7+3488055]\n\tGetHandleVerifier [0x00007FF7282EF03F+3459263]\n\tGetHandleVerifier [0x00007FF72806B846+823494]\n\t(No symbol) [0x00007FF727F35F9F]\n\t(No symbol) [0x00007FF727F30EC4]\n\t(No symbol) [0x00007FF727F31052]\n\t(No symbol) [0x00007FF727F218A4]\n\tBaseThreadInitThunk [0x00007FF86FC9257D+29]\n\tRtlUserThreadStart [0x00007FF870D2AA48+40]\n"
     ]
    }
   ],
   "source": [
    "# Function to extract addresses from the current page\n",
    "def get_addresses():\n",
    "    # Find all address elements on the page\n",
    "    addresses = driver.find_elements(By.CSS_SELECTOR, \"div.location-address\")\n",
    "    return [address.text for address in addresses]\n",
    "\n",
    "try:\n",
    "    # Navigate to the Shake Shack locations page\n",
    "    driver.get(\"https://shakeshack.com/locations#/\")\n",
    "    wait = WebDriverWait(driver, 30)\n",
    "    \n",
    "    # Wait for the search box to be clickable, then search for Los Angeles\n",
    "    search_box = wait.until(EC.element_to_be_clickable((By.CSS_SELECTOR, \"#edit-keys\")))\n",
    "    search_box.clear()\n",
    "    search_box.send_keys(\"Los Angeles\")\n",
    "    search_box.send_keys(Keys.RETURN)\n",
    "    \n",
    "    # Wait for the addresses to load\n",
    "    wait.until(EC.presence_of_element_located(\n",
    "        (By.CSS_SELECTOR,\n",
    "         \"div:nth-child(2) > div:nth-child(1)\"\n",
    "         )))\n",
    "    \n",
    "    # Initialize a list to store all addresses\n",
    "    all_addresses = []\n",
    "    \n",
    "    # Extract addresses from the first page\n",
    "    all_addresses.extend(get_addresses())\n",
    "    \n",
    "    # Handle pagination and extract addresses from subsequent pages\n",
    "    while True:\n",
    "        try:\n",
    "            # Wait for the next button and click it if clickable\n",
    "            next_button = wait.until(EC.element_to_be_clickable((By.CSS_SELECTOR, \"button.next\")))\n",
    "            next_button.click()\n",
    "            \n",
    "            # Wait for the next set of addresses to load\n",
    "            wait.until(EC.presence_of_element_located((By.CSS_SELECTOR, \"div.location-address\")))\n",
    "            all_addresses.extend(get_addresses())\n",
    "        except Exception:\n",
    "            # Break the loop if no more pages are found\n",
    "            break\n",
    "\n",
    "    # Save the addresses to a CSV file\n",
    "    with open('shake_shack_locations.csv', 'w', newline='') as file:\n",
    "        writer = csv.writer(file)\n",
    "        for address in all_addresses:\n",
    "            writer.writerow([address])\n",
    "\n",
    "finally:\n",
    "    # Close the driver\n",
    "    driver.quit()\n"
   ]
  },
  {
   "cell_type": "code",
   "execution_count": 28,
   "metadata": {},
   "outputs": [
    {
     "name": "stderr",
     "output_type": "stream",
     "text": [
      "C:\\Users\\wilso\\AppData\\Local\\Temp\\ipykernel_7208\\3857394968.py:4: UserWarning: genfromtxt: Empty input file: \"shake_shack_locations.csv\"\n",
      "  data = np.genfromtxt('shake_shack_locations.csv', delimiter=',', dtype=str)\n"
     ]
    }
   ],
   "source": [
    "import numpy as np\n",
    "\n",
    "# Read in the CSV file\n",
    "data = np.genfromtxt('shake_shack_locations.csv', delimiter=',', dtype=str)"
   ]
  },
  {
   "cell_type": "code",
   "execution_count": 29,
   "metadata": {},
   "outputs": [
    {
     "name": "stderr",
     "output_type": "stream",
     "text": [
      "C:\\Users\\wilso\\AppData\\Local\\Temp\\ipykernel_7208\\231137539.py:1: UserWarning: loadtxt: input contained no data: \"shake_shack_locations.csv\"\n",
      "  np.loadtxt('shake_shack_locations.csv', delimiter=',', dtype=str)\n"
     ]
    },
    {
     "data": {
      "text/plain": [
       "array([], dtype='<U1')"
      ]
     },
     "execution_count": 29,
     "metadata": {},
     "output_type": "execute_result"
    }
   ],
   "source": [
    "np.loadtxt('shake_shack_locations.csv', delimiter=',', dtype=str)"
   ]
  },
  {
   "cell_type": "code",
   "execution_count": null,
   "metadata": {},
   "outputs": [],
   "source": [
    "#block-shake-shack-content > article > div > div > div > div.views-element-container.view-mode-no-view-mode.block.block-views.block-views-blocksearch-location-block-search-location > div > div > div.view-content.layout-grid.component-spacing > div:nth-child(1) > div:nth-child(2) > div:nth-child(1)\n",
    "\n",
    "#block-shake-shack-content > article > div > div > div > div.views-element-container.view-mode-no-view-mode.block.block-views.block-views-blocksearch-location-block-search-location > div > div > div.view-content.layout-grid.component-spacing > div:nth-child(2) > div:nth-child(2) > div:nth-child(1)\n",
    "\n",
    "#block-shake-shack-content > article > div > div > div > div.views-element-container.view-mode-no-view-mode.block.block-views.block-views-blocksearch-location-block-search-location > div > div > div.view-content.layout-grid.component-spacing > div:nth-child(3) > div:nth-child(2) > div:nth-child(1)\n",
    "\n",
    "#block-shake-shack-content > article > div > div > div > div.views-element-container.view-mode-no-view-mode.block.block-views.block-views-blocksearch-location-block-search-location > div > div > div.view-content.layout-grid.component-spacing > div:nth-child(4) > div:nth-child(2) > div:nth-child(1)\n",
    "\n",
    "#block-shake-shack-content > article > div > div > div > div.views-element-container.view-mode-no-view-mode.block.block-views.block-views-blocksearch-location-block-search-location > div > div > div.view-content.layout-grid.component-spacing > div:nth-child(6) > div:nth-child(2) > div:nth-child(1)"
   ]
  }
 ],
 "metadata": {
  "kernelspec": {
   "display_name": "Python 3",
   "language": "python",
   "name": "python3"
  },
  "language_info": {
   "codemirror_mode": {
    "name": "ipython",
    "version": 3
   },
   "file_extension": ".py",
   "mimetype": "text/x-python",
   "name": "python",
   "nbconvert_exporter": "python",
   "pygments_lexer": "ipython3",
   "version": "3.12.1"
  }
 },
 "nbformat": 4,
 "nbformat_minor": 2
}
