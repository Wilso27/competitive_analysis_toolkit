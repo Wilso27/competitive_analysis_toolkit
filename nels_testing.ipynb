{
 "cells": [
  {
   "cell_type": "code",
   "execution_count": 1,
   "metadata": {},
   "outputs": [
    {
     "name": "stdout",
     "output_type": "stream",
     "text": [
      "Updated IX\n"
     ]
    }
   ],
   "source": [
    "import nels_companalysis as nels"
   ]
  },
  {
   "cell_type": "code",
   "execution_count": null,
   "metadata": {},
   "outputs": [],
   "source": [
    "<span data-testid=\"rich-text\" class=\"s4 mc s5 bo cq bq e1 b1\">MX$301.00</span>"
   ]
  },
  {
   "cell_type": "code",
   "execution_count": 15,
   "metadata": {},
   "outputs": [
    {
     "name": "stdout",
     "output_type": "stream",
     "text": [
      "The string matches the pattern\n"
     ]
    }
   ],
   "source": [
    "import re\n",
    "\n",
    "pattern = r\"^MX\\$\\d+\\.\\d{2}$\"\n",
    "test_string = \"MX$301.00\"\n",
    "\n",
    "if re.match(pattern, test_string):\n",
    "    print(\"The string matches the pattern\")\n",
    "else:\n",
    "    print(\"The string does not match the pattern\")"
   ]
  },
  {
   "cell_type": "code",
   "execution_count": 18,
   "metadata": {},
   "outputs": [
    {
     "name": "stdout",
     "output_type": "stream",
     "text": [
      "Matched\n"
     ]
    }
   ],
   "source": [
    "import re\n",
    "price_pattern = r\"^(USD ?|\\$ ?|MX\\$ ?)\\d+\\.\\d{2}$\"\n",
    "if re.match(price_pattern, \"MX$301.00\"):\n",
    "    print(\"Matched\")"
   ]
  },
  {
   "cell_type": "code",
   "execution_count": 2,
   "metadata": {},
   "outputs": [
    {
     "name": "stderr",
     "output_type": "stream",
     "text": [
      "Setting up the browser...: 100%|██████████| 4/4 [00:17<00:00,  4.27s/it]\n"
     ]
    },
    {
     "name": "stdout",
     "output_type": "stream",
     "text": [
      "Clicking show more button...\n",
      "________________________\n",
      "Show more button clicked.\n",
      "________________________\n",
      "______________________\n",
      "Stores URL List:  [<selenium.webdriver.remote.webelement.WebElement (session=\"62aa0c242c0173c20718177d1b80e56d\", element=\"f.C038BBCF394662D06151671141DB22D9.d.3E1248860CD06DB7300205A1E5EF9717.e.1511\")>, <selenium.webdriver.remote.webelement.WebElement (session=\"62aa0c242c0173c20718177d1b80e56d\", element=\"f.C038BBCF394662D06151671141DB22D9.d.3E1248860CD06DB7300205A1E5EF9717.e.1512\")>, <selenium.webdriver.remote.webelement.WebElement (session=\"62aa0c242c0173c20718177d1b80e56d\", element=\"f.C038BBCF394662D06151671141DB22D9.d.3E1248860CD06DB7300205A1E5EF9717.e.1513\")>, <selenium.webdriver.remote.webelement.WebElement (session=\"62aa0c242c0173c20718177d1b80e56d\", element=\"f.C038BBCF394662D06151671141DB22D9.d.3E1248860CD06DB7300205A1E5EF9717.e.1514\")>, <selenium.webdriver.remote.webelement.WebElement (session=\"62aa0c242c0173c20718177d1b80e56d\", element=\"f.C038BBCF394662D06151671141DB22D9.d.3E1248860CD06DB7300205A1E5EF9717.e.1515\")>, <selenium.webdriver.remote.webelement.WebElement (session=\"62aa0c242c0173c20718177d1b80e56d\", element=\"f.C038BBCF394662D06151671141DB22D9.d.3E1248860CD06DB7300205A1E5EF9717.e.1516\")>, <selenium.webdriver.remote.webelement.WebElement (session=\"62aa0c242c0173c20718177d1b80e56d\", element=\"f.C038BBCF394662D06151671141DB22D9.d.3E1248860CD06DB7300205A1E5EF9717.e.1517\")>, <selenium.webdriver.remote.webelement.WebElement (session=\"62aa0c242c0173c20718177d1b80e56d\", element=\"f.C038BBCF394662D06151671141DB22D9.d.3E1248860CD06DB7300205A1E5EF9717.e.1518\")>, <selenium.webdriver.remote.webelement.WebElement (session=\"62aa0c242c0173c20718177d1b80e56d\", element=\"f.C038BBCF394662D06151671141DB22D9.d.3E1248860CD06DB7300205A1E5EF9717.e.1519\")>, <selenium.webdriver.remote.webelement.WebElement (session=\"62aa0c242c0173c20718177d1b80e56d\", element=\"f.C038BBCF394662D06151671141DB22D9.d.3E1248860CD06DB7300205A1E5EF9717.e.1520\")>, <selenium.webdriver.remote.webelement.WebElement (session=\"62aa0c242c0173c20718177d1b80e56d\", element=\"f.C038BBCF394662D06151671141DB22D9.d.3E1248860CD06DB7300205A1E5EF9717.e.1521\")>, <selenium.webdriver.remote.webelement.WebElement (session=\"62aa0c242c0173c20718177d1b80e56d\", element=\"f.C038BBCF394662D06151671141DB22D9.d.3E1248860CD06DB7300205A1E5EF9717.e.1522\")>, <selenium.webdriver.remote.webelement.WebElement (session=\"62aa0c242c0173c20718177d1b80e56d\", element=\"f.C038BBCF394662D06151671141DB22D9.d.3E1248860CD06DB7300205A1E5EF9717.e.1523\")>, <selenium.webdriver.remote.webelement.WebElement (session=\"62aa0c242c0173c20718177d1b80e56d\", element=\"f.C038BBCF394662D06151671141DB22D9.d.3E1248860CD06DB7300205A1E5EF9717.e.1524\")>, <selenium.webdriver.remote.webelement.WebElement (session=\"62aa0c242c0173c20718177d1b80e56d\", element=\"f.C038BBCF394662D06151671141DB22D9.d.3E1248860CD06DB7300205A1E5EF9717.e.1525\")>, <selenium.webdriver.remote.webelement.WebElement (session=\"62aa0c242c0173c20718177d1b80e56d\", element=\"f.C038BBCF394662D06151671141DB22D9.d.3E1248860CD06DB7300205A1E5EF9717.e.1526\")>, <selenium.webdriver.remote.webelement.WebElement (session=\"62aa0c242c0173c20718177d1b80e56d\", element=\"f.C038BBCF394662D06151671141DB22D9.d.3E1248860CD06DB7300205A1E5EF9717.e.1527\")>, <selenium.webdriver.remote.webelement.WebElement (session=\"62aa0c242c0173c20718177d1b80e56d\", element=\"f.C038BBCF394662D06151671141DB22D9.d.3E1248860CD06DB7300205A1E5EF9717.e.1528\")>, <selenium.webdriver.remote.webelement.WebElement (session=\"62aa0c242c0173c20718177d1b80e56d\", element=\"f.C038BBCF394662D06151671141DB22D9.d.3E1248860CD06DB7300205A1E5EF9717.e.1529\")>, <selenium.webdriver.remote.webelement.WebElement (session=\"62aa0c242c0173c20718177d1b80e56d\", element=\"f.C038BBCF394662D06151671141DB22D9.d.3E1248860CD06DB7300205A1E5EF9717.e.1530\")>, <selenium.webdriver.remote.webelement.WebElement (session=\"62aa0c242c0173c20718177d1b80e56d\", element=\"f.C038BBCF394662D06151671141DB22D9.d.3E1248860CD06DB7300205A1E5EF9717.e.1531\")>, <selenium.webdriver.remote.webelement.WebElement (session=\"62aa0c242c0173c20718177d1b80e56d\", element=\"f.C038BBCF394662D06151671141DB22D9.d.3E1248860CD06DB7300205A1E5EF9717.e.1532\")>, <selenium.webdriver.remote.webelement.WebElement (session=\"62aa0c242c0173c20718177d1b80e56d\", element=\"f.C038BBCF394662D06151671141DB22D9.d.3E1248860CD06DB7300205A1E5EF9717.e.1533\")>, <selenium.webdriver.remote.webelement.WebElement (session=\"62aa0c242c0173c20718177d1b80e56d\", element=\"f.C038BBCF394662D06151671141DB22D9.d.3E1248860CD06DB7300205A1E5EF9717.e.1534\")>, <selenium.webdriver.remote.webelement.WebElement (session=\"62aa0c242c0173c20718177d1b80e56d\", element=\"f.C038BBCF394662D06151671141DB22D9.d.3E1248860CD06DB7300205A1E5EF9717.e.1535\")>, <selenium.webdriver.remote.webelement.WebElement (session=\"62aa0c242c0173c20718177d1b80e56d\", element=\"f.C038BBCF394662D06151671141DB22D9.d.3E1248860CD06DB7300205A1E5EF9717.e.1536\")>, <selenium.webdriver.remote.webelement.WebElement (session=\"62aa0c242c0173c20718177d1b80e56d\", element=\"f.C038BBCF394662D06151671141DB22D9.d.3E1248860CD06DB7300205A1E5EF9717.e.1537\")>, <selenium.webdriver.remote.webelement.WebElement (session=\"62aa0c242c0173c20718177d1b80e56d\", element=\"f.C038BBCF394662D06151671141DB22D9.d.3E1248860CD06DB7300205A1E5EF9717.e.1538\")>, <selenium.webdriver.remote.webelement.WebElement (session=\"62aa0c242c0173c20718177d1b80e56d\", element=\"f.C038BBCF394662D06151671141DB22D9.d.3E1248860CD06DB7300205A1E5EF9717.e.1539\")>, <selenium.webdriver.remote.webelement.WebElement (session=\"62aa0c242c0173c20718177d1b80e56d\", element=\"f.C038BBCF394662D06151671141DB22D9.d.3E1248860CD06DB7300205A1E5EF9717.e.1540\")>, <selenium.webdriver.remote.webelement.WebElement (session=\"62aa0c242c0173c20718177d1b80e56d\", element=\"f.C038BBCF394662D06151671141DB22D9.d.3E1248860CD06DB7300205A1E5EF9717.e.1541\")>, <selenium.webdriver.remote.webelement.WebElement (session=\"62aa0c242c0173c20718177d1b80e56d\", element=\"f.C038BBCF394662D06151671141DB22D9.d.3E1248860CD06DB7300205A1E5EF9717.e.1542\")>, <selenium.webdriver.remote.webelement.WebElement (session=\"62aa0c242c0173c20718177d1b80e56d\", element=\"f.C038BBCF394662D06151671141DB22D9.d.3E1248860CD06DB7300205A1E5EF9717.e.1543\")>, <selenium.webdriver.remote.webelement.WebElement (session=\"62aa0c242c0173c20718177d1b80e56d\", element=\"f.C038BBCF394662D06151671141DB22D9.d.3E1248860CD06DB7300205A1E5EF9717.e.1544\")>, <selenium.webdriver.remote.webelement.WebElement (session=\"62aa0c242c0173c20718177d1b80e56d\", element=\"f.C038BBCF394662D06151671141DB22D9.d.3E1248860CD06DB7300205A1E5EF9717.e.1545\")>, <selenium.webdriver.remote.webelement.WebElement (session=\"62aa0c242c0173c20718177d1b80e56d\", element=\"f.C038BBCF394662D06151671141DB22D9.d.3E1248860CD06DB7300205A1E5EF9717.e.1546\")>, <selenium.webdriver.remote.webelement.WebElement (session=\"62aa0c242c0173c20718177d1b80e56d\", element=\"f.C038BBCF394662D06151671141DB22D9.d.3E1248860CD06DB7300205A1E5EF9717.e.1547\")>, <selenium.webdriver.remote.webelement.WebElement (session=\"62aa0c242c0173c20718177d1b80e56d\", element=\"f.C038BBCF394662D06151671141DB22D9.d.3E1248860CD06DB7300205A1E5EF9717.e.1548\")>, <selenium.webdriver.remote.webelement.WebElement (session=\"62aa0c242c0173c20718177d1b80e56d\", element=\"f.C038BBCF394662D06151671141DB22D9.d.3E1248860CD06DB7300205A1E5EF9717.e.1549\")>, <selenium.webdriver.remote.webelement.WebElement (session=\"62aa0c242c0173c20718177d1b80e56d\", element=\"f.C038BBCF394662D06151671141DB22D9.d.3E1248860CD06DB7300205A1E5EF9717.e.1550\")>, <selenium.webdriver.remote.webelement.WebElement (session=\"62aa0c242c0173c20718177d1b80e56d\", element=\"f.C038BBCF394662D06151671141DB22D9.d.3E1248860CD06DB7300205A1E5EF9717.e.1551\")>, <selenium.webdriver.remote.webelement.WebElement (session=\"62aa0c242c0173c20718177d1b80e56d\", element=\"f.C038BBCF394662D06151671141DB22D9.d.3E1248860CD06DB7300205A1E5EF9717.e.1552\")>, <selenium.webdriver.remote.webelement.WebElement (session=\"62aa0c242c0173c20718177d1b80e56d\", element=\"f.C038BBCF394662D06151671141DB22D9.d.3E1248860CD06DB7300205A1E5EF9717.e.1553\")>, <selenium.webdriver.remote.webelement.WebElement (session=\"62aa0c242c0173c20718177d1b80e56d\", element=\"f.C038BBCF394662D06151671141DB22D9.d.3E1248860CD06DB7300205A1E5EF9717.e.1554\")>, <selenium.webdriver.remote.webelement.WebElement (session=\"62aa0c242c0173c20718177d1b80e56d\", element=\"f.C038BBCF394662D06151671141DB22D9.d.3E1248860CD06DB7300205A1E5EF9717.e.1555\")>, <selenium.webdriver.remote.webelement.WebElement (session=\"62aa0c242c0173c20718177d1b80e56d\", element=\"f.C038BBCF394662D06151671141DB22D9.d.3E1248860CD06DB7300205A1E5EF9717.e.1556\")>, <selenium.webdriver.remote.webelement.WebElement (session=\"62aa0c242c0173c20718177d1b80e56d\", element=\"f.C038BBCF394662D06151671141DB22D9.d.3E1248860CD06DB7300205A1E5EF9717.e.1557\")>, <selenium.webdriver.remote.webelement.WebElement (session=\"62aa0c242c0173c20718177d1b80e56d\", element=\"f.C038BBCF394662D06151671141DB22D9.d.3E1248860CD06DB7300205A1E5EF9717.e.1558\")>, <selenium.webdriver.remote.webelement.WebElement (session=\"62aa0c242c0173c20718177d1b80e56d\", element=\"f.C038BBCF394662D06151671141DB22D9.d.3E1248860CD06DB7300205A1E5EF9717.e.1559\")>, <selenium.webdriver.remote.webelement.WebElement (session=\"62aa0c242c0173c20718177d1b80e56d\", element=\"f.C038BBCF394662D06151671141DB22D9.d.3E1248860CD06DB7300205A1E5EF9717.e.1560\")>, <selenium.webdriver.remote.webelement.WebElement (session=\"62aa0c242c0173c20718177d1b80e56d\", element=\"f.C038BBCF394662D06151671141DB22D9.d.3E1248860CD06DB7300205A1E5EF9717.e.1561\")>, <selenium.webdriver.remote.webelement.WebElement (session=\"62aa0c242c0173c20718177d1b80e56d\", element=\"f.C038BBCF394662D06151671141DB22D9.d.3E1248860CD06DB7300205A1E5EF9717.e.1562\")>, <selenium.webdriver.remote.webelement.WebElement (session=\"62aa0c242c0173c20718177d1b80e56d\", element=\"f.C038BBCF394662D06151671141DB22D9.d.3E1248860CD06DB7300205A1E5EF9717.e.1563\")>, <selenium.webdriver.remote.webelement.WebElement (session=\"62aa0c242c0173c20718177d1b80e56d\", element=\"f.C038BBCF394662D06151671141DB22D9.d.3E1248860CD06DB7300205A1E5EF9717.e.1564\")>, <selenium.webdriver.remote.webelement.WebElement (session=\"62aa0c242c0173c20718177d1b80e56d\", element=\"f.C038BBCF394662D06151671141DB22D9.d.3E1248860CD06DB7300205A1E5EF9717.e.1565\")>, <selenium.webdriver.remote.webelement.WebElement (session=\"62aa0c242c0173c20718177d1b80e56d\", element=\"f.C038BBCF394662D06151671141DB22D9.d.3E1248860CD06DB7300205A1E5EF9717.e.1566\")>, <selenium.webdriver.remote.webelement.WebElement (session=\"62aa0c242c0173c20718177d1b80e56d\", element=\"f.C038BBCF394662D06151671141DB22D9.d.3E1248860CD06DB7300205A1E5EF9717.e.1567\")>, <selenium.webdriver.remote.webelement.WebElement (session=\"62aa0c242c0173c20718177d1b80e56d\", element=\"f.C038BBCF394662D06151671141DB22D9.d.3E1248860CD06DB7300205A1E5EF9717.e.1568\")>, <selenium.webdriver.remote.webelement.WebElement (session=\"62aa0c242c0173c20718177d1b80e56d\", element=\"f.C038BBCF394662D06151671141DB22D9.d.3E1248860CD06DB7300205A1E5EF9717.e.1569\")>, <selenium.webdriver.remote.webelement.WebElement (session=\"62aa0c242c0173c20718177d1b80e56d\", element=\"f.C038BBCF394662D06151671141DB22D9.d.3E1248860CD06DB7300205A1E5EF9717.e.1570\")>, <selenium.webdriver.remote.webelement.WebElement (session=\"62aa0c242c0173c20718177d1b80e56d\", element=\"f.C038BBCF394662D06151671141DB22D9.d.3E1248860CD06DB7300205A1E5EF9717.e.1571\")>, <selenium.webdriver.remote.webelement.WebElement (session=\"62aa0c242c0173c20718177d1b80e56d\", element=\"f.C038BBCF394662D06151671141DB22D9.d.3E1248860CD06DB7300205A1E5EF9717.e.1572\")>, <selenium.webdriver.remote.webelement.WebElement (session=\"62aa0c242c0173c20718177d1b80e56d\", element=\"f.C038BBCF394662D06151671141DB22D9.d.3E1248860CD06DB7300205A1E5EF9717.e.1573\")>, <selenium.webdriver.remote.webelement.WebElement (session=\"62aa0c242c0173c20718177d1b80e56d\", element=\"f.C038BBCF394662D06151671141DB22D9.d.3E1248860CD06DB7300205A1E5EF9717.e.1574\")>, <selenium.webdriver.remote.webelement.WebElement (session=\"62aa0c242c0173c20718177d1b80e56d\", element=\"f.C038BBCF394662D06151671141DB22D9.d.3E1248860CD06DB7300205A1E5EF9717.e.1575\")>, <selenium.webdriver.remote.webelement.WebElement (session=\"62aa0c242c0173c20718177d1b80e56d\", element=\"f.C038BBCF394662D06151671141DB22D9.d.3E1248860CD06DB7300205A1E5EF9717.e.1576\")>, <selenium.webdriver.remote.webelement.WebElement (session=\"62aa0c242c0173c20718177d1b80e56d\", element=\"f.C038BBCF394662D06151671141DB22D9.d.3E1248860CD06DB7300205A1E5EF9717.e.1577\")>, <selenium.webdriver.remote.webelement.WebElement (session=\"62aa0c242c0173c20718177d1b80e56d\", element=\"f.C038BBCF394662D06151671141DB22D9.d.3E1248860CD06DB7300205A1E5EF9717.e.1578\")>, <selenium.webdriver.remote.webelement.WebElement (session=\"62aa0c242c0173c20718177d1b80e56d\", element=\"f.C038BBCF394662D06151671141DB22D9.d.3E1248860CD06DB7300205A1E5EF9717.e.1579\")>, <selenium.webdriver.remote.webelement.WebElement (session=\"62aa0c242c0173c20718177d1b80e56d\", element=\"f.C038BBCF394662D06151671141DB22D9.d.3E1248860CD06DB7300205A1E5EF9717.e.1580\")>, <selenium.webdriver.remote.webelement.WebElement (session=\"62aa0c242c0173c20718177d1b80e56d\", element=\"f.C038BBCF394662D06151671141DB22D9.d.3E1248860CD06DB7300205A1E5EF9717.e.1581\")>, <selenium.webdriver.remote.webelement.WebElement (session=\"62aa0c242c0173c20718177d1b80e56d\", element=\"f.C038BBCF394662D06151671141DB22D9.d.3E1248860CD06DB7300205A1E5EF9717.e.1582\")>, <selenium.webdriver.remote.webelement.WebElement (session=\"62aa0c242c0173c20718177d1b80e56d\", element=\"f.C038BBCF394662D06151671141DB22D9.d.3E1248860CD06DB7300205A1E5EF9717.e.1583\")>, <selenium.webdriver.remote.webelement.WebElement (session=\"62aa0c242c0173c20718177d1b80e56d\", element=\"f.C038BBCF394662D06151671141DB22D9.d.3E1248860CD06DB7300205A1E5EF9717.e.1584\")>, <selenium.webdriver.remote.webelement.WebElement (session=\"62aa0c242c0173c20718177d1b80e56d\", element=\"f.C038BBCF394662D06151671141DB22D9.d.3E1248860CD06DB7300205A1E5EF9717.e.1585\")>, <selenium.webdriver.remote.webelement.WebElement (session=\"62aa0c242c0173c20718177d1b80e56d\", element=\"f.C038BBCF394662D06151671141DB22D9.d.3E1248860CD06DB7300205A1E5EF9717.e.1586\")>, <selenium.webdriver.remote.webelement.WebElement (session=\"62aa0c242c0173c20718177d1b80e56d\", element=\"f.C038BBCF394662D06151671141DB22D9.d.3E1248860CD06DB7300205A1E5EF9717.e.1587\")>, <selenium.webdriver.remote.webelement.WebElement (session=\"62aa0c242c0173c20718177d1b80e56d\", element=\"f.C038BBCF394662D06151671141DB22D9.d.3E1248860CD06DB7300205A1E5EF9717.e.1588\")>, <selenium.webdriver.remote.webelement.WebElement (session=\"62aa0c242c0173c20718177d1b80e56d\", element=\"f.C038BBCF394662D06151671141DB22D9.d.3E1248860CD06DB7300205A1E5EF9717.e.1589\")>, <selenium.webdriver.remote.webelement.WebElement (session=\"62aa0c242c0173c20718177d1b80e56d\", element=\"f.C038BBCF394662D06151671141DB22D9.d.3E1248860CD06DB7300205A1E5EF9717.e.1590\")>, <selenium.webdriver.remote.webelement.WebElement (session=\"62aa0c242c0173c20718177d1b80e56d\", element=\"f.C038BBCF394662D06151671141DB22D9.d.3E1248860CD06DB7300205A1E5EF9717.e.1591\")>, <selenium.webdriver.remote.webelement.WebElement (session=\"62aa0c242c0173c20718177d1b80e56d\", element=\"f.C038BBCF394662D06151671141DB22D9.d.3E1248860CD06DB7300205A1E5EF9717.e.1592\")>, <selenium.webdriver.remote.webelement.WebElement (session=\"62aa0c242c0173c20718177d1b80e56d\", element=\"f.C038BBCF394662D06151671141DB22D9.d.3E1248860CD06DB7300205A1E5EF9717.e.1593\")>, <selenium.webdriver.remote.webelement.WebElement (session=\"62aa0c242c0173c20718177d1b80e56d\", element=\"f.C038BBCF394662D06151671141DB22D9.d.3E1248860CD06DB7300205A1E5EF9717.e.1594\")>, <selenium.webdriver.remote.webelement.WebElement (session=\"62aa0c242c0173c20718177d1b80e56d\", element=\"f.C038BBCF394662D06151671141DB22D9.d.3E1248860CD06DB7300205A1E5EF9717.e.1595\")>, <selenium.webdriver.remote.webelement.WebElement (session=\"62aa0c242c0173c20718177d1b80e56d\", element=\"f.C038BBCF394662D06151671141DB22D9.d.3E1248860CD06DB7300205A1E5EF9717.e.1596\")>, <selenium.webdriver.remote.webelement.WebElement (session=\"62aa0c242c0173c20718177d1b80e56d\", element=\"f.C038BBCF394662D06151671141DB22D9.d.3E1248860CD06DB7300205A1E5EF9717.e.1597\")>, <selenium.webdriver.remote.webelement.WebElement (session=\"62aa0c242c0173c20718177d1b80e56d\", element=\"f.C038BBCF394662D06151671141DB22D9.d.3E1248860CD06DB7300205A1E5EF9717.e.1598\")>, <selenium.webdriver.remote.webelement.WebElement (session=\"62aa0c242c0173c20718177d1b80e56d\", element=\"f.C038BBCF394662D06151671141DB22D9.d.3E1248860CD06DB7300205A1E5EF9717.e.1599\")>, <selenium.webdriver.remote.webelement.WebElement (session=\"62aa0c242c0173c20718177d1b80e56d\", element=\"f.C038BBCF394662D06151671141DB22D9.d.3E1248860CD06DB7300205A1E5EF9717.e.1600\")>, <selenium.webdriver.remote.webelement.WebElement (session=\"62aa0c242c0173c20718177d1b80e56d\", element=\"f.C038BBCF394662D06151671141DB22D9.d.3E1248860CD06DB7300205A1E5EF9717.e.1601\")>, <selenium.webdriver.remote.webelement.WebElement (session=\"62aa0c242c0173c20718177d1b80e56d\", element=\"f.C038BBCF394662D06151671141DB22D9.d.3E1248860CD06DB7300205A1E5EF9717.e.1602\")>, <selenium.webdriver.remote.webelement.WebElement (session=\"62aa0c242c0173c20718177d1b80e56d\", element=\"f.C038BBCF394662D06151671141DB22D9.d.3E1248860CD06DB7300205A1E5EF9717.e.1603\")>, <selenium.webdriver.remote.webelement.WebElement (session=\"62aa0c242c0173c20718177d1b80e56d\", element=\"f.C038BBCF394662D06151671141DB22D9.d.3E1248860CD06DB7300205A1E5EF9717.e.1604\")>, <selenium.webdriver.remote.webelement.WebElement (session=\"62aa0c242c0173c20718177d1b80e56d\", element=\"f.C038BBCF394662D06151671141DB22D9.d.3E1248860CD06DB7300205A1E5EF9717.e.1605\")>, <selenium.webdriver.remote.webelement.WebElement (session=\"62aa0c242c0173c20718177d1b80e56d\", element=\"f.C038BBCF394662D06151671141DB22D9.d.3E1248860CD06DB7300205A1E5EF9717.e.1606\")>, <selenium.webdriver.remote.webelement.WebElement (session=\"62aa0c242c0173c20718177d1b80e56d\", element=\"f.C038BBCF394662D06151671141DB22D9.d.3E1248860CD06DB7300205A1E5EF9717.e.1607\")>, <selenium.webdriver.remote.webelement.WebElement (session=\"62aa0c242c0173c20718177d1b80e56d\", element=\"f.C038BBCF394662D06151671141DB22D9.d.3E1248860CD06DB7300205A1E5EF9717.e.1608\")>, <selenium.webdriver.remote.webelement.WebElement (session=\"62aa0c242c0173c20718177d1b80e56d\", element=\"f.C038BBCF394662D06151671141DB22D9.d.3E1248860CD06DB7300205A1E5EF9717.e.1609\")>, <selenium.webdriver.remote.webelement.WebElement (session=\"62aa0c242c0173c20718177d1b80e56d\", element=\"f.C038BBCF394662D06151671141DB22D9.d.3E1248860CD06DB7300205A1E5EF9717.e.1610\")>, <selenium.webdriver.remote.webelement.WebElement (session=\"62aa0c242c0173c20718177d1b80e56d\", element=\"f.C038BBCF394662D06151671141DB22D9.d.3E1248860CD06DB7300205A1E5EF9717.e.1611\")>, <selenium.webdriver.remote.webelement.WebElement (session=\"62aa0c242c0173c20718177d1b80e56d\", element=\"f.C038BBCF394662D06151671141DB22D9.d.3E1248860CD06DB7300205A1E5EF9717.e.1612\")>, <selenium.webdriver.remote.webelement.WebElement (session=\"62aa0c242c0173c20718177d1b80e56d\", element=\"f.C038BBCF394662D06151671141DB22D9.d.3E1248860CD06DB7300205A1E5EF9717.e.1613\")>, <selenium.webdriver.remote.webelement.WebElement (session=\"62aa0c242c0173c20718177d1b80e56d\", element=\"f.C038BBCF394662D06151671141DB22D9.d.3E1248860CD06DB7300205A1E5EF9717.e.1614\")>, <selenium.webdriver.remote.webelement.WebElement (session=\"62aa0c242c0173c20718177d1b80e56d\", element=\"f.C038BBCF394662D06151671141DB22D9.d.3E1248860CD06DB7300205A1E5EF9717.e.1615\")>, <selenium.webdriver.remote.webelement.WebElement (session=\"62aa0c242c0173c20718177d1b80e56d\", element=\"f.C038BBCF394662D06151671141DB22D9.d.3E1248860CD06DB7300205A1E5EF9717.e.1616\")>, <selenium.webdriver.remote.webelement.WebElement (session=\"62aa0c242c0173c20718177d1b80e56d\", element=\"f.C038BBCF394662D06151671141DB22D9.d.3E1248860CD06DB7300205A1E5EF9717.e.1617\")>, <selenium.webdriver.remote.webelement.WebElement (session=\"62aa0c242c0173c20718177d1b80e56d\", element=\"f.C038BBCF394662D06151671141DB22D9.d.3E1248860CD06DB7300205A1E5EF9717.e.1618\")>, <selenium.webdriver.remote.webelement.WebElement (session=\"62aa0c242c0173c20718177d1b80e56d\", element=\"f.C038BBCF394662D06151671141DB22D9.d.3E1248860CD06DB7300205A1E5EF9717.e.1619\")>, <selenium.webdriver.remote.webelement.WebElement (session=\"62aa0c242c0173c20718177d1b80e56d\", element=\"f.C038BBCF394662D06151671141DB22D9.d.3E1248860CD06DB7300205A1E5EF9717.e.1620\")>, <selenium.webdriver.remote.webelement.WebElement (session=\"62aa0c242c0173c20718177d1b80e56d\", element=\"f.C038BBCF394662D06151671141DB22D9.d.3E1248860CD06DB7300205A1E5EF9717.e.1621\")>, <selenium.webdriver.remote.webelement.WebElement (session=\"62aa0c242c0173c20718177d1b80e56d\", element=\"f.C038BBCF394662D06151671141DB22D9.d.3E1248860CD06DB7300205A1E5EF9717.e.1622\")>, <selenium.webdriver.remote.webelement.WebElement (session=\"62aa0c242c0173c20718177d1b80e56d\", element=\"f.C038BBCF394662D06151671141DB22D9.d.3E1248860CD06DB7300205A1E5EF9717.e.1623\")>, <selenium.webdriver.remote.webelement.WebElement (session=\"62aa0c242c0173c20718177d1b80e56d\", element=\"f.C038BBCF394662D06151671141DB22D9.d.3E1248860CD06DB7300205A1E5EF9717.e.1624\")>, <selenium.webdriver.remote.webelement.WebElement (session=\"62aa0c242c0173c20718177d1b80e56d\", element=\"f.C038BBCF394662D06151671141DB22D9.d.3E1248860CD06DB7300205A1E5EF9717.e.1625\")>, <selenium.webdriver.remote.webelement.WebElement (session=\"62aa0c242c0173c20718177d1b80e56d\", element=\"f.C038BBCF394662D06151671141DB22D9.d.3E1248860CD06DB7300205A1E5EF9717.e.1626\")>, <selenium.webdriver.remote.webelement.WebElement (session=\"62aa0c242c0173c20718177d1b80e56d\", element=\"f.C038BBCF394662D06151671141DB22D9.d.3E1248860CD06DB7300205A1E5EF9717.e.1627\")>, <selenium.webdriver.remote.webelement.WebElement (session=\"62aa0c242c0173c20718177d1b80e56d\", element=\"f.C038BBCF394662D06151671141DB22D9.d.3E1248860CD06DB7300205A1E5EF9717.e.1628\")>, <selenium.webdriver.remote.webelement.WebElement (session=\"62aa0c242c0173c20718177d1b80e56d\", element=\"f.C038BBCF394662D06151671141DB22D9.d.3E1248860CD06DB7300205A1E5EF9717.e.1629\")>, <selenium.webdriver.remote.webelement.WebElement (session=\"62aa0c242c0173c20718177d1b80e56d\", element=\"f.C038BBCF394662D06151671141DB22D9.d.3E1248860CD06DB7300205A1E5EF9717.e.1630\")>, <selenium.webdriver.remote.webelement.WebElement (session=\"62aa0c242c0173c20718177d1b80e56d\", element=\"f.C038BBCF394662D06151671141DB22D9.d.3E1248860CD06DB7300205A1E5EF9717.e.1631\")>, <selenium.webdriver.remote.webelement.WebElement (session=\"62aa0c242c0173c20718177d1b80e56d\", element=\"f.C038BBCF394662D06151671141DB22D9.d.3E1248860CD06DB7300205A1E5EF9717.e.1632\")>, <selenium.webdriver.remote.webelement.WebElement (session=\"62aa0c242c0173c20718177d1b80e56d\", element=\"f.C038BBCF394662D06151671141DB22D9.d.3E1248860CD06DB7300205A1E5EF9717.e.1633\")>, <selenium.webdriver.remote.webelement.WebElement (session=\"62aa0c242c0173c20718177d1b80e56d\", element=\"f.C038BBCF394662D06151671141DB22D9.d.3E1248860CD06DB7300205A1E5EF9717.e.1634\")>, <selenium.webdriver.remote.webelement.WebElement (session=\"62aa0c242c0173c20718177d1b80e56d\", element=\"f.C038BBCF394662D06151671141DB22D9.d.3E1248860CD06DB7300205A1E5EF9717.e.1635\")>, <selenium.webdriver.remote.webelement.WebElement (session=\"62aa0c242c0173c20718177d1b80e56d\", element=\"f.C038BBCF394662D06151671141DB22D9.d.3E1248860CD06DB7300205A1E5EF9717.e.1636\")>, <selenium.webdriver.remote.webelement.WebElement (session=\"62aa0c242c0173c20718177d1b80e56d\", element=\"f.C038BBCF394662D06151671141DB22D9.d.3E1248860CD06DB7300205A1E5EF9717.e.1637\")>, <selenium.webdriver.remote.webelement.WebElement (session=\"62aa0c242c0173c20718177d1b80e56d\", element=\"f.C038BBCF394662D06151671141DB22D9.d.3E1248860CD06DB7300205A1E5EF9717.e.1638\")>, <selenium.webdriver.remote.webelement.WebElement (session=\"62aa0c242c0173c20718177d1b80e56d\", element=\"f.C038BBCF394662D06151671141DB22D9.d.3E1248860CD06DB7300205A1E5EF9717.e.1639\")>, <selenium.webdriver.remote.webelement.WebElement (session=\"62aa0c242c0173c20718177d1b80e56d\", element=\"f.C038BBCF394662D06151671141DB22D9.d.3E1248860CD06DB7300205A1E5EF9717.e.1640\")>, <selenium.webdriver.remote.webelement.WebElement (session=\"62aa0c242c0173c20718177d1b80e56d\", element=\"f.C038BBCF394662D06151671141DB22D9.d.3E1248860CD06DB7300205A1E5EF9717.e.1641\")>, <selenium.webdriver.remote.webelement.WebElement (session=\"62aa0c242c0173c20718177d1b80e56d\", element=\"f.C038BBCF394662D06151671141DB22D9.d.3E1248860CD06DB7300205A1E5EF9717.e.1642\")>, <selenium.webdriver.remote.webelement.WebElement (session=\"62aa0c242c0173c20718177d1b80e56d\", element=\"f.C038BBCF394662D06151671141DB22D9.d.3E1248860CD06DB7300205A1E5EF9717.e.1643\")>, <selenium.webdriver.remote.webelement.WebElement (session=\"62aa0c242c0173c20718177d1b80e56d\", element=\"f.C038BBCF394662D06151671141DB22D9.d.3E1248860CD06DB7300205A1E5EF9717.e.1644\")>, <selenium.webdriver.remote.webelement.WebElement (session=\"62aa0c242c0173c20718177d1b80e56d\", element=\"f.C038BBCF394662D06151671141DB22D9.d.3E1248860CD06DB7300205A1E5EF9717.e.1645\")>, <selenium.webdriver.remote.webelement.WebElement (session=\"62aa0c242c0173c20718177d1b80e56d\", element=\"f.C038BBCF394662D06151671141DB22D9.d.3E1248860CD06DB7300205A1E5EF9717.e.1646\")>, <selenium.webdriver.remote.webelement.WebElement (session=\"62aa0c242c0173c20718177d1b80e56d\", element=\"f.C038BBCF394662D06151671141DB22D9.d.3E1248860CD06DB7300205A1E5EF9717.e.1647\")>, <selenium.webdriver.remote.webelement.WebElement (session=\"62aa0c242c0173c20718177d1b80e56d\", element=\"f.C038BBCF394662D06151671141DB22D9.d.3E1248860CD06DB7300205A1E5EF9717.e.1648\")>, <selenium.webdriver.remote.webelement.WebElement (session=\"62aa0c242c0173c20718177d1b80e56d\", element=\"f.C038BBCF394662D06151671141DB22D9.d.3E1248860CD06DB7300205A1E5EF9717.e.1649\")>, <selenium.webdriver.remote.webelement.WebElement (session=\"62aa0c242c0173c20718177d1b80e56d\", element=\"f.C038BBCF394662D06151671141DB22D9.d.3E1248860CD06DB7300205A1E5EF9717.e.1650\")>, <selenium.webdriver.remote.webelement.WebElement (session=\"62aa0c242c0173c20718177d1b80e56d\", element=\"f.C038BBCF394662D06151671141DB22D9.d.3E1248860CD06DB7300205A1E5EF9717.e.1651\")>, <selenium.webdriver.remote.webelement.WebElement (session=\"62aa0c242c0173c20718177d1b80e56d\", element=\"f.C038BBCF394662D06151671141DB22D9.d.3E1248860CD06DB7300205A1E5EF9717.e.1652\")>, <selenium.webdriver.remote.webelement.WebElement (session=\"62aa0c242c0173c20718177d1b80e56d\", element=\"f.C038BBCF394662D06151671141DB22D9.d.3E1248860CD06DB7300205A1E5EF9717.e.1653\")>, <selenium.webdriver.remote.webelement.WebElement (session=\"62aa0c242c0173c20718177d1b80e56d\", element=\"f.C038BBCF394662D06151671141DB22D9.d.3E1248860CD06DB7300205A1E5EF9717.e.1654\")>, <selenium.webdriver.remote.webelement.WebElement (session=\"62aa0c242c0173c20718177d1b80e56d\", element=\"f.C038BBCF394662D06151671141DB22D9.d.3E1248860CD06DB7300205A1E5EF9717.e.1655\")>, <selenium.webdriver.remote.webelement.WebElement (session=\"62aa0c242c0173c20718177d1b80e56d\", element=\"f.C038BBCF394662D06151671141DB22D9.d.3E1248860CD06DB7300205A1E5EF9717.e.1656\")>, <selenium.webdriver.remote.webelement.WebElement (session=\"62aa0c242c0173c20718177d1b80e56d\", element=\"f.C038BBCF394662D06151671141DB22D9.d.3E1248860CD06DB7300205A1E5EF9717.e.1657\")>, <selenium.webdriver.remote.webelement.WebElement (session=\"62aa0c242c0173c20718177d1b80e56d\", element=\"f.C038BBCF394662D06151671141DB22D9.d.3E1248860CD06DB7300205A1E5EF9717.e.1658\")>, <selenium.webdriver.remote.webelement.WebElement (session=\"62aa0c242c0173c20718177d1b80e56d\", element=\"f.C038BBCF394662D06151671141DB22D9.d.3E1248860CD06DB7300205A1E5EF9717.e.1659\")>, <selenium.webdriver.remote.webelement.WebElement (session=\"62aa0c242c0173c20718177d1b80e56d\", element=\"f.C038BBCF394662D06151671141DB22D9.d.3E1248860CD06DB7300205A1E5EF9717.e.1660\")>, <selenium.webdriver.remote.webelement.WebElement (session=\"62aa0c242c0173c20718177d1b80e56d\", element=\"f.C038BBCF394662D06151671141DB22D9.d.3E1248860CD06DB7300205A1E5EF9717.e.1661\")>, <selenium.webdriver.remote.webelement.WebElement (session=\"62aa0c242c0173c20718177d1b80e56d\", element=\"f.C038BBCF394662D06151671141DB22D9.d.3E1248860CD06DB7300205A1E5EF9717.e.1662\")>, <selenium.webdriver.remote.webelement.WebElement (session=\"62aa0c242c0173c20718177d1b80e56d\", element=\"f.C038BBCF394662D06151671141DB22D9.d.3E1248860CD06DB7300205A1E5EF9717.e.1663\")>, <selenium.webdriver.remote.webelement.WebElement (session=\"62aa0c242c0173c20718177d1b80e56d\", element=\"f.C038BBCF394662D06151671141DB22D9.d.3E1248860CD06DB7300205A1E5EF9717.e.1664\")>, <selenium.webdriver.remote.webelement.WebElement (session=\"62aa0c242c0173c20718177d1b80e56d\", element=\"f.C038BBCF394662D06151671141DB22D9.d.3E1248860CD06DB7300205A1E5EF9717.e.1665\")>, <selenium.webdriver.remote.webelement.WebElement (session=\"62aa0c242c0173c20718177d1b80e56d\", element=\"f.C038BBCF394662D06151671141DB22D9.d.3E1248860CD06DB7300205A1E5EF9717.e.1666\")>, <selenium.webdriver.remote.webelement.WebElement (session=\"62aa0c242c0173c20718177d1b80e56d\", element=\"f.C038BBCF394662D06151671141DB22D9.d.3E1248860CD06DB7300205A1E5EF9717.e.1667\")>, <selenium.webdriver.remote.webelement.WebElement (session=\"62aa0c242c0173c20718177d1b80e56d\", element=\"f.C038BBCF394662D06151671141DB22D9.d.3E1248860CD06DB7300205A1E5EF9717.e.1668\")>]\n",
      "______________________\n",
      "[########################################] | 100% Completed | 106.14 s\n"
     ]
    }
   ],
   "source": [
    "search_query = \"health food\"\n",
    "location = \"Dr. Andrade 85, Doctores, Cuauhtémoc, 06720 Ciudad de México, CDMX\"\n",
    "# locations = [\n",
    "#     #\"Dr. Andrade 85, Doctores, Cuauhtémoc, 06720 Ciudad de México, CDMX\",\n",
    "#     # \"Dr. Juan de Dios Treviño 10, San Jerónimo, 64634 Monterrey\",\n",
    "#     # \"C. Aurelio Luis Gallardo 64, Ladrón de Guevara, 44650 Guadalajara, Jal., México\",\n",
    "#     # \"Av. Adolfo Mateos no. 4604 Local 2, Col. Bosques del Nogalar San Nicolás de los Garza NL CP 66480\",\n",
    "#     # \"Blvd Gustavo Díaz Ordaz 104, La Fama, 66100 Santa Catarina, Monterrey\",\n",
    "#     # \"Avenida Adolfo López Mateos 1514, San Salvador Tizatlali, Metepec, Estado de México.\",\n",
    "#     # \"C. Federico Medrano 3434, San Andrés, 44810 Guadalajara\",\n",
    "#     # \"Calle 31 número 682, Cd Caucel, 97300 Mérida\",\n",
    "#     # \"Alvaro Obregón 603, Zona Centro, 25000 Saltillo\",\n",
    "#     # \"Av. Juan Gil Preciado 4014, Alamitos, 45134 Zapopan\",\n",
    "#     # \"Av. 35 Pte. 1106, Los Volcanes, 72410 Puebla\"\n",
    "# ]\n",
    "max_stores = 20\n",
    "file_name = \"nels_prices\"\n",
    "headless = True\n",
    "all_stores_df = nels.product_scraper(search_query, location, max_stores=max_stores, filename=file_name, headless=headless)\n"
   ]
  },
  {
   "cell_type": "code",
   "execution_count": 4,
   "metadata": {},
   "outputs": [],
   "source": [
    "from selenium import webdriver\n",
    "from selenium.webdriver.chrome.options import Options\n",
    "options = Options()\n",
    "options.headless = False\n",
    "\n",
    "browser = webdriver.Chrome(options=options)\n",
    "browser.get(\"https://www.ubereats.com/\")"
   ]
  },
  {
   "cell_type": "code",
   "execution_count": 3,
   "metadata": {},
   "outputs": [
    {
     "data": {
      "text/html": [
       "<div>\n",
       "<style scoped>\n",
       "    .dataframe tbody tr th:only-of-type {\n",
       "        vertical-align: middle;\n",
       "    }\n",
       "\n",
       "    .dataframe tbody tr th {\n",
       "        vertical-align: top;\n",
       "    }\n",
       "\n",
       "    .dataframe thead th {\n",
       "        text-align: right;\n",
       "    }\n",
       "</style>\n",
       "<table border=\"1\" class=\"dataframe\">\n",
       "  <thead>\n",
       "    <tr style=\"text-align: right;\">\n",
       "      <th></th>\n",
       "      <th>Store Name</th>\n",
       "      <th>Category</th>\n",
       "      <th>Product Name</th>\n",
       "      <th>Price</th>\n",
       "      <th>Rating</th>\n",
       "      <th>Number of Reviews</th>\n",
       "      <th>Calories</th>\n",
       "    </tr>\n",
       "  </thead>\n",
       "  <tbody>\n",
       "    <tr>\n",
       "      <th>0</th>\n",
       "      <td>Avocalia - Doctores</td>\n",
       "      <td>None</td>\n",
       "      <td>Arma tu Ensalada</td>\n",
       "      <td>184.17</td>\n",
       "      <td>88.0</td>\n",
       "      <td>442</td>\n",
       "      <td>None</td>\n",
       "    </tr>\n",
       "    <tr>\n",
       "      <th>1</th>\n",
       "      <td>Avocalia - Doctores</td>\n",
       "      <td>None</td>\n",
       "      <td>Avocalia</td>\n",
       "      <td>250.83</td>\n",
       "      <td>NaN</td>\n",
       "      <td>0</td>\n",
       "      <td>None</td>\n",
       "    </tr>\n",
       "    <tr>\n",
       "      <th>2</th>\n",
       "      <td>Avocalia - Doctores</td>\n",
       "      <td>None</td>\n",
       "      <td>Keto Burger</td>\n",
       "      <td>139.17</td>\n",
       "      <td>95.0</td>\n",
       "      <td>62</td>\n",
       "      <td>None</td>\n",
       "    </tr>\n",
       "    <tr>\n",
       "      <th>3</th>\n",
       "      <td>Avocalia - Doctores</td>\n",
       "      <td>None</td>\n",
       "      <td>Mediterralia</td>\n",
       "      <td>179.17</td>\n",
       "      <td>NaN</td>\n",
       "      <td>0</td>\n",
       "      <td>None</td>\n",
       "    </tr>\n",
       "    <tr>\n",
       "      <th>4</th>\n",
       "      <td>Avocalia - Doctores</td>\n",
       "      <td>None</td>\n",
       "      <td>Consome de Pollo</td>\n",
       "      <td>85.83</td>\n",
       "      <td>75.0</td>\n",
       "      <td>60</td>\n",
       "      <td>None</td>\n",
       "    </tr>\n",
       "    <tr>\n",
       "      <th>...</th>\n",
       "      <td>...</td>\n",
       "      <td>...</td>\n",
       "      <td>...</td>\n",
       "      <td>...</td>\n",
       "      <td>...</td>\n",
       "      <td>...</td>\n",
       "      <td>...</td>\n",
       "    </tr>\n",
       "    <tr>\n",
       "      <th>1011</th>\n",
       "      <td>AVOO -HA</td>\n",
       "      <td>None</td>\n",
       "      <td>Jamaica Water. 16 Oz.</td>\n",
       "      <td>49.17</td>\n",
       "      <td>NaN</td>\n",
       "      <td>0</td>\n",
       "      <td>None</td>\n",
       "    </tr>\n",
       "    <tr>\n",
       "      <th>1012</th>\n",
       "      <td>AVOO -HA</td>\n",
       "      <td>None</td>\n",
       "      <td>Avocado Sandwich, Vegano.</td>\n",
       "      <td>140.83</td>\n",
       "      <td>NaN</td>\n",
       "      <td>0</td>\n",
       "      <td>None</td>\n",
       "    </tr>\n",
       "    <tr>\n",
       "      <th>1013</th>\n",
       "      <td>AVOO -HA</td>\n",
       "      <td>None</td>\n",
       "      <td>Turkey Sandwich, Masa Madre.</td>\n",
       "      <td>140.83</td>\n",
       "      <td>NaN</td>\n",
       "      <td>0</td>\n",
       "      <td>None</td>\n",
       "    </tr>\n",
       "    <tr>\n",
       "      <th>1014</th>\n",
       "      <td>AVOO -HA</td>\n",
       "      <td>None</td>\n",
       "      <td>Three Cheese Sandwich , Vegano.</td>\n",
       "      <td>140.83</td>\n",
       "      <td>NaN</td>\n",
       "      <td>0</td>\n",
       "      <td>None</td>\n",
       "    </tr>\n",
       "    <tr>\n",
       "      <th>1015</th>\n",
       "      <td>AVOO -HA</td>\n",
       "      <td>None</td>\n",
       "      <td>2 Café Artesanales. 16 oz</td>\n",
       "      <td>70.83</td>\n",
       "      <td>NaN</td>\n",
       "      <td>0</td>\n",
       "      <td>None</td>\n",
       "    </tr>\n",
       "  </tbody>\n",
       "</table>\n",
       "<p>1016 rows × 7 columns</p>\n",
       "</div>"
      ],
      "text/plain": [
       "               Store Name Category                     Product Name   Price  \\\n",
       "0     Avocalia - Doctores     None                 Arma tu Ensalada  184.17   \n",
       "1     Avocalia - Doctores     None                         Avocalia  250.83   \n",
       "2     Avocalia - Doctores     None                      Keto Burger  139.17   \n",
       "3     Avocalia - Doctores     None                     Mediterralia  179.17   \n",
       "4     Avocalia - Doctores     None                 Consome de Pollo   85.83   \n",
       "...                   ...      ...                              ...     ...   \n",
       "1011             AVOO -HA     None            Jamaica Water. 16 Oz.   49.17   \n",
       "1012             AVOO -HA     None        Avocado Sandwich, Vegano.  140.83   \n",
       "1013             AVOO -HA     None     Turkey Sandwich, Masa Madre.  140.83   \n",
       "1014             AVOO -HA     None  Three Cheese Sandwich , Vegano.  140.83   \n",
       "1015             AVOO -HA     None        2 Café Artesanales. 16 oz   70.83   \n",
       "\n",
       "      Rating  Number of Reviews Calories  \n",
       "0       88.0                442     None  \n",
       "1        NaN                  0     None  \n",
       "2       95.0                 62     None  \n",
       "3        NaN                  0     None  \n",
       "4       75.0                 60     None  \n",
       "...      ...                ...      ...  \n",
       "1011     NaN                  0     None  \n",
       "1012     NaN                  0     None  \n",
       "1013     NaN                  0     None  \n",
       "1014     NaN                  0     None  \n",
       "1015     NaN                  0     None  \n",
       "\n",
       "[1016 rows x 7 columns]"
      ]
     },
     "execution_count": 3,
     "metadata": {},
     "output_type": "execute_result"
    }
   ],
   "source": [
    "all_stores_df"
   ]
  },
  {
   "cell_type": "code",
   "execution_count": 4,
   "metadata": {},
   "outputs": [
    {
     "name": "stderr",
     "output_type": "stream",
     "text": [
      "Setting up the browser...: 100%|██████████| 4/4 [00:16<00:00,  4.20s/it]\n"
     ]
    },
    {
     "name": "stdout",
     "output_type": "stream",
     "text": [
      "[                                        ] | 0% Completed | 23.46 sms\n"
     ]
    },
    {
     "ename": "ValueError",
     "evalue": "could not convert string to float: 'dwich atún'",
     "output_type": "error",
     "traceback": [
      "\u001b[1;31m---------------------------------------------------------------------------\u001b[0m",
      "\u001b[1;31mValueError\u001b[0m                                Traceback (most recent call last)",
      "Cell \u001b[1;32mIn[4], line 3\u001b[0m\n\u001b[0;32m      1\u001b[0m \u001b[38;5;28;01mimport\u001b[39;00m \u001b[38;5;21;01mcompanalysis\u001b[39;00m \u001b[38;5;28;01mas\u001b[39;00m \u001b[38;5;21;01mca\u001b[39;00m\n\u001b[1;32m----> 3\u001b[0m my_df \u001b[38;5;241m=\u001b[39m \u001b[43mca\u001b[49m\u001b[38;5;241;43m.\u001b[39;49m\u001b[43mproduct_scraper\u001b[49m\u001b[43m(\u001b[49m\u001b[43msearch_query\u001b[49m\u001b[43m,\u001b[49m\u001b[43m \u001b[49m\u001b[43mlocation\u001b[49m\u001b[43m,\u001b[49m\u001b[43m \u001b[49m\u001b[43mmax_stores\u001b[49m\u001b[38;5;241;43m=\u001b[39;49m\u001b[43mmax_stores\u001b[49m\u001b[43m,\u001b[49m\u001b[43m \u001b[49m\u001b[43mfilename\u001b[49m\u001b[38;5;241;43m=\u001b[39;49m\u001b[43mfile_name\u001b[49m\u001b[43m,\u001b[49m\u001b[43m \u001b[49m\u001b[43mheadless\u001b[49m\u001b[38;5;241;43m=\u001b[39;49m\u001b[43mheadless\u001b[49m\u001b[43m)\u001b[49m\n",
      "File \u001b[1;32mc:\\Users\\wilso\\Documents\\myprojects\\el_moro\\companalysis.py:858\u001b[0m, in \u001b[0;36mproduct_scraper\u001b[1;34m(search_query, location, max_stores, filename, headless, debug_mode)\u001b[0m\n\u001b[0;32m    856\u001b[0m \u001b[38;5;66;03m# Compute the tasks in parallel\u001b[39;00m\n\u001b[0;32m    857\u001b[0m \u001b[38;5;28;01mwith\u001b[39;00m ProgressBar():\n\u001b[1;32m--> 858\u001b[0m     results \u001b[38;5;241m=\u001b[39m \u001b[43mcompute\u001b[49m\u001b[43m(\u001b[49m\u001b[38;5;241;43m*\u001b[39;49m\u001b[43mtasks\u001b[49m\u001b[43m,\u001b[49m\u001b[43m \u001b[49m\u001b[43mscheduler\u001b[49m\u001b[38;5;241;43m=\u001b[39;49m\u001b[38;5;124;43m'\u001b[39;49m\u001b[38;5;124;43mprocesses\u001b[39;49m\u001b[38;5;124;43m'\u001b[39;49m\u001b[43m)\u001b[49m\n\u001b[0;32m    860\u001b[0m \u001b[38;5;66;03m# Aggregate results\u001b[39;00m\n\u001b[0;32m    861\u001b[0m \u001b[38;5;28;01mfor\u001b[39;00m result \u001b[38;5;129;01min\u001b[39;00m results:\n",
      "File \u001b[1;32mc:\\Users\\wilso\\AppData\\Local\\Programs\\Python\\Python312\\Lib\\site-packages\\dask\\base.py:661\u001b[0m, in \u001b[0;36mcompute\u001b[1;34m(traverse, optimize_graph, scheduler, get, *args, **kwargs)\u001b[0m\n\u001b[0;32m    658\u001b[0m     postcomputes\u001b[38;5;241m.\u001b[39mappend(x\u001b[38;5;241m.\u001b[39m__dask_postcompute__())\n\u001b[0;32m    660\u001b[0m \u001b[38;5;28;01mwith\u001b[39;00m shorten_traceback():\n\u001b[1;32m--> 661\u001b[0m     results \u001b[38;5;241m=\u001b[39m \u001b[43mschedule\u001b[49m\u001b[43m(\u001b[49m\u001b[43mdsk\u001b[49m\u001b[43m,\u001b[49m\u001b[43m \u001b[49m\u001b[43mkeys\u001b[49m\u001b[43m,\u001b[49m\u001b[43m \u001b[49m\u001b[38;5;241;43m*\u001b[39;49m\u001b[38;5;241;43m*\u001b[39;49m\u001b[43mkwargs\u001b[49m\u001b[43m)\u001b[49m\n\u001b[0;32m    663\u001b[0m \u001b[38;5;28;01mreturn\u001b[39;00m repack([f(r, \u001b[38;5;241m*\u001b[39ma) \u001b[38;5;28;01mfor\u001b[39;00m r, (f, a) \u001b[38;5;129;01min\u001b[39;00m \u001b[38;5;28mzip\u001b[39m(results, postcomputes)])\n",
      "File \u001b[1;32mc:\\Users\\wilso\\Documents\\myprojects\\el_moro\\companalysis.py:618\u001b[0m, in \u001b[0;36mextract_product_info\u001b[1;34m()\u001b[0m\n\u001b[0;32m    616\u001b[0m     price \u001b[38;5;241m=\u001b[39m \u001b[38;5;28mround\u001b[39m(\u001b[38;5;28mfloat\u001b[39m(price[\u001b[38;5;241m1\u001b[39m:]) \u001b[38;5;241m/\u001b[39m \u001b[38;5;241m1.2\u001b[39m, \u001b[38;5;241m2\u001b[39m)\n\u001b[0;32m    617\u001b[0m \u001b[38;5;28;01melse\u001b[39;00m:\n\u001b[1;32m--> 618\u001b[0m     price \u001b[38;5;241m=\u001b[39m \u001b[38;5;28mround\u001b[39m(\u001b[38;5;28mfloat\u001b[39m(price[\u001b[38;5;241m3\u001b[39m:]) \u001b[38;5;241m/\u001b[39m \u001b[38;5;241m1.2\u001b[39m, \u001b[38;5;241m2\u001b[39m)\n\u001b[0;32m    620\u001b[0m \u001b[38;5;66;03m# Get the previous element's text (if it exists)\u001b[39;00m\n\u001b[0;32m    621\u001b[0m product_name \u001b[38;5;241m=\u001b[39m span_elements[index \u001b[38;5;241m-\u001b[39m \u001b[38;5;241m1\u001b[39m]\u001b[38;5;241m.\u001b[39mtext \u001b[38;5;28;01mif\u001b[39;00m index \u001b[38;5;241m>\u001b[39m \u001b[38;5;241m0\u001b[39m \u001b[38;5;28;01melse\u001b[39;00m \u001b[38;5;28;01mNone\u001b[39;00m\n",
      "\u001b[1;31mValueError\u001b[0m: could not convert string to float: 'dwich atún'"
     ]
    }
   ],
   "source": [
    "import companalysis as ca\n",
    "\n",
    "my_df = ca.product_scraper(search_query, location, max_stores=max_stores, filename=file_name, headless=headless)"
   ]
  },
  {
   "cell_type": "code",
   "execution_count": 5,
   "metadata": {},
   "outputs": [
    {
     "data": {
      "text/html": [
       "<div>\n",
       "<style scoped>\n",
       "    .dataframe tbody tr th:only-of-type {\n",
       "        vertical-align: middle;\n",
       "    }\n",
       "\n",
       "    .dataframe tbody tr th {\n",
       "        vertical-align: top;\n",
       "    }\n",
       "\n",
       "    .dataframe thead th {\n",
       "        text-align: right;\n",
       "    }\n",
       "</style>\n",
       "<table border=\"1\" class=\"dataframe\">\n",
       "  <thead>\n",
       "    <tr style=\"text-align: right;\">\n",
       "      <th></th>\n",
       "      <th>Store Name</th>\n",
       "      <th>Category</th>\n",
       "      <th>Product Name</th>\n",
       "      <th>Price</th>\n",
       "      <th>Rating</th>\n",
       "      <th>Number of Reviews</th>\n",
       "      <th>Calories</th>\n",
       "    </tr>\n",
       "  </thead>\n",
       "  <tbody>\n",
       "  </tbody>\n",
       "</table>\n",
       "</div>"
      ],
      "text/plain": [
       "Empty DataFrame\n",
       "Columns: [Store Name, Category, Product Name, Price, Rating, Number of Reviews, Calories]\n",
       "Index: []"
      ]
     },
     "execution_count": 5,
     "metadata": {},
     "output_type": "execute_result"
    }
   ],
   "source": [
    "my_df"
   ]
  }
 ],
 "metadata": {
  "kernelspec": {
   "display_name": "Python 3",
   "language": "python",
   "name": "python3"
  },
  "language_info": {
   "codemirror_mode": {
    "name": "ipython",
    "version": 3
   },
   "file_extension": ".py",
   "mimetype": "text/x-python",
   "name": "python",
   "nbconvert_exporter": "python",
   "pygments_lexer": "ipython3",
   "version": "3.12.1"
  }
 },
 "nbformat": 4,
 "nbformat_minor": 2
}
